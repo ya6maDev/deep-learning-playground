{
  "nbformat": 4,
  "nbformat_minor": 0,
  "metadata": {
    "accelerator": "GPU",
    "colab": {
      "name": "MLP_MNIST.ipynb",
      "provenance": [],
      "collapsed_sections": []
    },
    "kernelspec": {
      "display_name": "Python 3",
      "language": "python",
      "name": "python3"
    },
    "language_info": {
      "codemirror_mode": {
        "name": "ipython",
        "version": 3
      },
      "file_extension": ".py",
      "mimetype": "text/x-python",
      "name": "python",
      "nbconvert_exporter": "python",
      "pygments_lexer": "ipython3",
      "version": "3.5.5"
    },
    "widgets": {
      "application/vnd.jupyter.widget-state+json": {
        "53c91d301fd142b68b7c3f387bde5885": {
          "model_module": "@jupyter-widgets/controls",
          "model_name": "HBoxModel",
          "state": {
            "_view_name": "HBoxView",
            "_dom_classes": [],
            "_model_name": "HBoxModel",
            "_view_module": "@jupyter-widgets/controls",
            "_model_module_version": "1.5.0",
            "_view_count": null,
            "_view_module_version": "1.5.0",
            "box_style": "",
            "layout": "IPY_MODEL_4d091a6099914decb6d22cfeb695cf7c",
            "_model_module": "@jupyter-widgets/controls",
            "children": [
              "IPY_MODEL_14502c137e7f40a5b3650f96e9278a72",
              "IPY_MODEL_22058ab1b4bd4deb8f6e20a06182cbe1"
            ]
          }
        },
        "4d091a6099914decb6d22cfeb695cf7c": {
          "model_module": "@jupyter-widgets/base",
          "model_name": "LayoutModel",
          "state": {
            "_view_name": "LayoutView",
            "grid_template_rows": null,
            "right": null,
            "justify_content": null,
            "_view_module": "@jupyter-widgets/base",
            "overflow": null,
            "_model_module_version": "1.2.0",
            "_view_count": null,
            "flex_flow": null,
            "width": null,
            "min_width": null,
            "border": null,
            "align_items": null,
            "bottom": null,
            "_model_module": "@jupyter-widgets/base",
            "top": null,
            "grid_column": null,
            "overflow_y": null,
            "overflow_x": null,
            "grid_auto_flow": null,
            "grid_area": null,
            "grid_template_columns": null,
            "flex": null,
            "_model_name": "LayoutModel",
            "justify_items": null,
            "grid_row": null,
            "max_height": null,
            "align_content": null,
            "visibility": null,
            "align_self": null,
            "height": null,
            "min_height": null,
            "padding": null,
            "grid_auto_rows": null,
            "grid_gap": null,
            "max_width": null,
            "order": null,
            "_view_module_version": "1.2.0",
            "grid_template_areas": null,
            "object_position": null,
            "object_fit": null,
            "grid_auto_columns": null,
            "margin": null,
            "display": null,
            "left": null
          }
        },
        "14502c137e7f40a5b3650f96e9278a72": {
          "model_module": "@jupyter-widgets/controls",
          "model_name": "FloatProgressModel",
          "state": {
            "_view_name": "ProgressView",
            "style": "IPY_MODEL_f6d4476f53a449e7bc4150b3c887d059",
            "_dom_classes": [],
            "description": "",
            "_model_name": "FloatProgressModel",
            "bar_style": "success",
            "max": 1,
            "_view_module": "@jupyter-widgets/controls",
            "_model_module_version": "1.5.0",
            "value": 1,
            "_view_count": null,
            "_view_module_version": "1.5.0",
            "orientation": "horizontal",
            "min": 0,
            "description_tooltip": null,
            "_model_module": "@jupyter-widgets/controls",
            "layout": "IPY_MODEL_9ccfc83a32ea4a489db6f6bc7e977472"
          }
        },
        "22058ab1b4bd4deb8f6e20a06182cbe1": {
          "model_module": "@jupyter-widgets/controls",
          "model_name": "HTMLModel",
          "state": {
            "_view_name": "HTMLView",
            "style": "IPY_MODEL_3965ddefa0624f85b2e64cbd03fcf093",
            "_dom_classes": [],
            "description": "",
            "_model_name": "HTMLModel",
            "placeholder": "​",
            "_view_module": "@jupyter-widgets/controls",
            "_model_module_version": "1.5.0",
            "value": " 9920512/? [00:01&lt;00:00, 5584846.66it/s]",
            "_view_count": null,
            "_view_module_version": "1.5.0",
            "description_tooltip": null,
            "_model_module": "@jupyter-widgets/controls",
            "layout": "IPY_MODEL_4526cb69732141f48c0465408d56b923"
          }
        },
        "f6d4476f53a449e7bc4150b3c887d059": {
          "model_module": "@jupyter-widgets/controls",
          "model_name": "ProgressStyleModel",
          "state": {
            "_view_name": "StyleView",
            "_model_name": "ProgressStyleModel",
            "description_width": "initial",
            "_view_module": "@jupyter-widgets/base",
            "_model_module_version": "1.5.0",
            "_view_count": null,
            "_view_module_version": "1.2.0",
            "bar_color": null,
            "_model_module": "@jupyter-widgets/controls"
          }
        },
        "9ccfc83a32ea4a489db6f6bc7e977472": {
          "model_module": "@jupyter-widgets/base",
          "model_name": "LayoutModel",
          "state": {
            "_view_name": "LayoutView",
            "grid_template_rows": null,
            "right": null,
            "justify_content": null,
            "_view_module": "@jupyter-widgets/base",
            "overflow": null,
            "_model_module_version": "1.2.0",
            "_view_count": null,
            "flex_flow": null,
            "width": null,
            "min_width": null,
            "border": null,
            "align_items": null,
            "bottom": null,
            "_model_module": "@jupyter-widgets/base",
            "top": null,
            "grid_column": null,
            "overflow_y": null,
            "overflow_x": null,
            "grid_auto_flow": null,
            "grid_area": null,
            "grid_template_columns": null,
            "flex": null,
            "_model_name": "LayoutModel",
            "justify_items": null,
            "grid_row": null,
            "max_height": null,
            "align_content": null,
            "visibility": null,
            "align_self": null,
            "height": null,
            "min_height": null,
            "padding": null,
            "grid_auto_rows": null,
            "grid_gap": null,
            "max_width": null,
            "order": null,
            "_view_module_version": "1.2.0",
            "grid_template_areas": null,
            "object_position": null,
            "object_fit": null,
            "grid_auto_columns": null,
            "margin": null,
            "display": null,
            "left": null
          }
        },
        "3965ddefa0624f85b2e64cbd03fcf093": {
          "model_module": "@jupyter-widgets/controls",
          "model_name": "DescriptionStyleModel",
          "state": {
            "_view_name": "StyleView",
            "_model_name": "DescriptionStyleModel",
            "description_width": "",
            "_view_module": "@jupyter-widgets/base",
            "_model_module_version": "1.5.0",
            "_view_count": null,
            "_view_module_version": "1.2.0",
            "_model_module": "@jupyter-widgets/controls"
          }
        },
        "4526cb69732141f48c0465408d56b923": {
          "model_module": "@jupyter-widgets/base",
          "model_name": "LayoutModel",
          "state": {
            "_view_name": "LayoutView",
            "grid_template_rows": null,
            "right": null,
            "justify_content": null,
            "_view_module": "@jupyter-widgets/base",
            "overflow": null,
            "_model_module_version": "1.2.0",
            "_view_count": null,
            "flex_flow": null,
            "width": null,
            "min_width": null,
            "border": null,
            "align_items": null,
            "bottom": null,
            "_model_module": "@jupyter-widgets/base",
            "top": null,
            "grid_column": null,
            "overflow_y": null,
            "overflow_x": null,
            "grid_auto_flow": null,
            "grid_area": null,
            "grid_template_columns": null,
            "flex": null,
            "_model_name": "LayoutModel",
            "justify_items": null,
            "grid_row": null,
            "max_height": null,
            "align_content": null,
            "visibility": null,
            "align_self": null,
            "height": null,
            "min_height": null,
            "padding": null,
            "grid_auto_rows": null,
            "grid_gap": null,
            "max_width": null,
            "order": null,
            "_view_module_version": "1.2.0",
            "grid_template_areas": null,
            "object_position": null,
            "object_fit": null,
            "grid_auto_columns": null,
            "margin": null,
            "display": null,
            "left": null
          }
        },
        "b1686b58b6c54b9c91bc68625cf19488": {
          "model_module": "@jupyter-widgets/controls",
          "model_name": "HBoxModel",
          "state": {
            "_view_name": "HBoxView",
            "_dom_classes": [],
            "_model_name": "HBoxModel",
            "_view_module": "@jupyter-widgets/controls",
            "_model_module_version": "1.5.0",
            "_view_count": null,
            "_view_module_version": "1.5.0",
            "box_style": "",
            "layout": "IPY_MODEL_043838de73d146bea7f5e5b5368f04a0",
            "_model_module": "@jupyter-widgets/controls",
            "children": [
              "IPY_MODEL_099abf9cf5ed404388e268cf26fcef20",
              "IPY_MODEL_c73a58e0e28e453a8087a62c7add8f82"
            ]
          }
        },
        "043838de73d146bea7f5e5b5368f04a0": {
          "model_module": "@jupyter-widgets/base",
          "model_name": "LayoutModel",
          "state": {
            "_view_name": "LayoutView",
            "grid_template_rows": null,
            "right": null,
            "justify_content": null,
            "_view_module": "@jupyter-widgets/base",
            "overflow": null,
            "_model_module_version": "1.2.0",
            "_view_count": null,
            "flex_flow": null,
            "width": null,
            "min_width": null,
            "border": null,
            "align_items": null,
            "bottom": null,
            "_model_module": "@jupyter-widgets/base",
            "top": null,
            "grid_column": null,
            "overflow_y": null,
            "overflow_x": null,
            "grid_auto_flow": null,
            "grid_area": null,
            "grid_template_columns": null,
            "flex": null,
            "_model_name": "LayoutModel",
            "justify_items": null,
            "grid_row": null,
            "max_height": null,
            "align_content": null,
            "visibility": null,
            "align_self": null,
            "height": null,
            "min_height": null,
            "padding": null,
            "grid_auto_rows": null,
            "grid_gap": null,
            "max_width": null,
            "order": null,
            "_view_module_version": "1.2.0",
            "grid_template_areas": null,
            "object_position": null,
            "object_fit": null,
            "grid_auto_columns": null,
            "margin": null,
            "display": null,
            "left": null
          }
        },
        "099abf9cf5ed404388e268cf26fcef20": {
          "model_module": "@jupyter-widgets/controls",
          "model_name": "FloatProgressModel",
          "state": {
            "_view_name": "ProgressView",
            "style": "IPY_MODEL_f8b8dafca97347888adc8205b766589d",
            "_dom_classes": [],
            "description": "",
            "_model_name": "FloatProgressModel",
            "bar_style": "success",
            "max": 1,
            "_view_module": "@jupyter-widgets/controls",
            "_model_module_version": "1.5.0",
            "value": 1,
            "_view_count": null,
            "_view_module_version": "1.5.0",
            "orientation": "horizontal",
            "min": 0,
            "description_tooltip": null,
            "_model_module": "@jupyter-widgets/controls",
            "layout": "IPY_MODEL_c57b7c41b19c437c8c86acd76a0fce8a"
          }
        },
        "c73a58e0e28e453a8087a62c7add8f82": {
          "model_module": "@jupyter-widgets/controls",
          "model_name": "HTMLModel",
          "state": {
            "_view_name": "HTMLView",
            "style": "IPY_MODEL_f1d95847b07c46bcaf5272485e68ba08",
            "_dom_classes": [],
            "description": "",
            "_model_name": "HTMLModel",
            "placeholder": "​",
            "_view_module": "@jupyter-widgets/controls",
            "_model_module_version": "1.5.0",
            "value": " 32768/? [00:00&lt;00:00, 254827.56it/s]",
            "_view_count": null,
            "_view_module_version": "1.5.0",
            "description_tooltip": null,
            "_model_module": "@jupyter-widgets/controls",
            "layout": "IPY_MODEL_e208c4f2a7df4a88be6d619a3a3a0360"
          }
        },
        "f8b8dafca97347888adc8205b766589d": {
          "model_module": "@jupyter-widgets/controls",
          "model_name": "ProgressStyleModel",
          "state": {
            "_view_name": "StyleView",
            "_model_name": "ProgressStyleModel",
            "description_width": "initial",
            "_view_module": "@jupyter-widgets/base",
            "_model_module_version": "1.5.0",
            "_view_count": null,
            "_view_module_version": "1.2.0",
            "bar_color": null,
            "_model_module": "@jupyter-widgets/controls"
          }
        },
        "c57b7c41b19c437c8c86acd76a0fce8a": {
          "model_module": "@jupyter-widgets/base",
          "model_name": "LayoutModel",
          "state": {
            "_view_name": "LayoutView",
            "grid_template_rows": null,
            "right": null,
            "justify_content": null,
            "_view_module": "@jupyter-widgets/base",
            "overflow": null,
            "_model_module_version": "1.2.0",
            "_view_count": null,
            "flex_flow": null,
            "width": null,
            "min_width": null,
            "border": null,
            "align_items": null,
            "bottom": null,
            "_model_module": "@jupyter-widgets/base",
            "top": null,
            "grid_column": null,
            "overflow_y": null,
            "overflow_x": null,
            "grid_auto_flow": null,
            "grid_area": null,
            "grid_template_columns": null,
            "flex": null,
            "_model_name": "LayoutModel",
            "justify_items": null,
            "grid_row": null,
            "max_height": null,
            "align_content": null,
            "visibility": null,
            "align_self": null,
            "height": null,
            "min_height": null,
            "padding": null,
            "grid_auto_rows": null,
            "grid_gap": null,
            "max_width": null,
            "order": null,
            "_view_module_version": "1.2.0",
            "grid_template_areas": null,
            "object_position": null,
            "object_fit": null,
            "grid_auto_columns": null,
            "margin": null,
            "display": null,
            "left": null
          }
        },
        "f1d95847b07c46bcaf5272485e68ba08": {
          "model_module": "@jupyter-widgets/controls",
          "model_name": "DescriptionStyleModel",
          "state": {
            "_view_name": "StyleView",
            "_model_name": "DescriptionStyleModel",
            "description_width": "",
            "_view_module": "@jupyter-widgets/base",
            "_model_module_version": "1.5.0",
            "_view_count": null,
            "_view_module_version": "1.2.0",
            "_model_module": "@jupyter-widgets/controls"
          }
        },
        "e208c4f2a7df4a88be6d619a3a3a0360": {
          "model_module": "@jupyter-widgets/base",
          "model_name": "LayoutModel",
          "state": {
            "_view_name": "LayoutView",
            "grid_template_rows": null,
            "right": null,
            "justify_content": null,
            "_view_module": "@jupyter-widgets/base",
            "overflow": null,
            "_model_module_version": "1.2.0",
            "_view_count": null,
            "flex_flow": null,
            "width": null,
            "min_width": null,
            "border": null,
            "align_items": null,
            "bottom": null,
            "_model_module": "@jupyter-widgets/base",
            "top": null,
            "grid_column": null,
            "overflow_y": null,
            "overflow_x": null,
            "grid_auto_flow": null,
            "grid_area": null,
            "grid_template_columns": null,
            "flex": null,
            "_model_name": "LayoutModel",
            "justify_items": null,
            "grid_row": null,
            "max_height": null,
            "align_content": null,
            "visibility": null,
            "align_self": null,
            "height": null,
            "min_height": null,
            "padding": null,
            "grid_auto_rows": null,
            "grid_gap": null,
            "max_width": null,
            "order": null,
            "_view_module_version": "1.2.0",
            "grid_template_areas": null,
            "object_position": null,
            "object_fit": null,
            "grid_auto_columns": null,
            "margin": null,
            "display": null,
            "left": null
          }
        },
        "076434e6cc7b4cd08ab5c25d6df4754b": {
          "model_module": "@jupyter-widgets/controls",
          "model_name": "HBoxModel",
          "state": {
            "_view_name": "HBoxView",
            "_dom_classes": [],
            "_model_name": "HBoxModel",
            "_view_module": "@jupyter-widgets/controls",
            "_model_module_version": "1.5.0",
            "_view_count": null,
            "_view_module_version": "1.5.0",
            "box_style": "",
            "layout": "IPY_MODEL_b11dc85cfb914ecbb0e1ca047a9ae9c4",
            "_model_module": "@jupyter-widgets/controls",
            "children": [
              "IPY_MODEL_ae70f11312ae41ee93566dbaf683e445",
              "IPY_MODEL_0c36ecb87acd482e8730d78dcb9c3c0c"
            ]
          }
        },
        "b11dc85cfb914ecbb0e1ca047a9ae9c4": {
          "model_module": "@jupyter-widgets/base",
          "model_name": "LayoutModel",
          "state": {
            "_view_name": "LayoutView",
            "grid_template_rows": null,
            "right": null,
            "justify_content": null,
            "_view_module": "@jupyter-widgets/base",
            "overflow": null,
            "_model_module_version": "1.2.0",
            "_view_count": null,
            "flex_flow": null,
            "width": null,
            "min_width": null,
            "border": null,
            "align_items": null,
            "bottom": null,
            "_model_module": "@jupyter-widgets/base",
            "top": null,
            "grid_column": null,
            "overflow_y": null,
            "overflow_x": null,
            "grid_auto_flow": null,
            "grid_area": null,
            "grid_template_columns": null,
            "flex": null,
            "_model_name": "LayoutModel",
            "justify_items": null,
            "grid_row": null,
            "max_height": null,
            "align_content": null,
            "visibility": null,
            "align_self": null,
            "height": null,
            "min_height": null,
            "padding": null,
            "grid_auto_rows": null,
            "grid_gap": null,
            "max_width": null,
            "order": null,
            "_view_module_version": "1.2.0",
            "grid_template_areas": null,
            "object_position": null,
            "object_fit": null,
            "grid_auto_columns": null,
            "margin": null,
            "display": null,
            "left": null
          }
        },
        "ae70f11312ae41ee93566dbaf683e445": {
          "model_module": "@jupyter-widgets/controls",
          "model_name": "FloatProgressModel",
          "state": {
            "_view_name": "ProgressView",
            "style": "IPY_MODEL_41b84248a0c94d80bfd30920983ed04f",
            "_dom_classes": [],
            "description": "",
            "_model_name": "FloatProgressModel",
            "bar_style": "success",
            "max": 1,
            "_view_module": "@jupyter-widgets/controls",
            "_model_module_version": "1.5.0",
            "value": 1,
            "_view_count": null,
            "_view_module_version": "1.5.0",
            "orientation": "horizontal",
            "min": 0,
            "description_tooltip": null,
            "_model_module": "@jupyter-widgets/controls",
            "layout": "IPY_MODEL_fa9af733e6544224ac74eaae72ea988a"
          }
        },
        "0c36ecb87acd482e8730d78dcb9c3c0c": {
          "model_module": "@jupyter-widgets/controls",
          "model_name": "HTMLModel",
          "state": {
            "_view_name": "HTMLView",
            "style": "IPY_MODEL_a06123e62849462ea5a2c3131beaa285",
            "_dom_classes": [],
            "description": "",
            "_model_name": "HTMLModel",
            "placeholder": "​",
            "_view_module": "@jupyter-widgets/controls",
            "_model_module_version": "1.5.0",
            "value": " 1654784/? [00:00&lt;00:00, 1774561.16it/s]",
            "_view_count": null,
            "_view_module_version": "1.5.0",
            "description_tooltip": null,
            "_model_module": "@jupyter-widgets/controls",
            "layout": "IPY_MODEL_176fa20057a14927b44c0f9fc062d55c"
          }
        },
        "41b84248a0c94d80bfd30920983ed04f": {
          "model_module": "@jupyter-widgets/controls",
          "model_name": "ProgressStyleModel",
          "state": {
            "_view_name": "StyleView",
            "_model_name": "ProgressStyleModel",
            "description_width": "initial",
            "_view_module": "@jupyter-widgets/base",
            "_model_module_version": "1.5.0",
            "_view_count": null,
            "_view_module_version": "1.2.0",
            "bar_color": null,
            "_model_module": "@jupyter-widgets/controls"
          }
        },
        "fa9af733e6544224ac74eaae72ea988a": {
          "model_module": "@jupyter-widgets/base",
          "model_name": "LayoutModel",
          "state": {
            "_view_name": "LayoutView",
            "grid_template_rows": null,
            "right": null,
            "justify_content": null,
            "_view_module": "@jupyter-widgets/base",
            "overflow": null,
            "_model_module_version": "1.2.0",
            "_view_count": null,
            "flex_flow": null,
            "width": null,
            "min_width": null,
            "border": null,
            "align_items": null,
            "bottom": null,
            "_model_module": "@jupyter-widgets/base",
            "top": null,
            "grid_column": null,
            "overflow_y": null,
            "overflow_x": null,
            "grid_auto_flow": null,
            "grid_area": null,
            "grid_template_columns": null,
            "flex": null,
            "_model_name": "LayoutModel",
            "justify_items": null,
            "grid_row": null,
            "max_height": null,
            "align_content": null,
            "visibility": null,
            "align_self": null,
            "height": null,
            "min_height": null,
            "padding": null,
            "grid_auto_rows": null,
            "grid_gap": null,
            "max_width": null,
            "order": null,
            "_view_module_version": "1.2.0",
            "grid_template_areas": null,
            "object_position": null,
            "object_fit": null,
            "grid_auto_columns": null,
            "margin": null,
            "display": null,
            "left": null
          }
        },
        "a06123e62849462ea5a2c3131beaa285": {
          "model_module": "@jupyter-widgets/controls",
          "model_name": "DescriptionStyleModel",
          "state": {
            "_view_name": "StyleView",
            "_model_name": "DescriptionStyleModel",
            "description_width": "",
            "_view_module": "@jupyter-widgets/base",
            "_model_module_version": "1.5.0",
            "_view_count": null,
            "_view_module_version": "1.2.0",
            "_model_module": "@jupyter-widgets/controls"
          }
        },
        "176fa20057a14927b44c0f9fc062d55c": {
          "model_module": "@jupyter-widgets/base",
          "model_name": "LayoutModel",
          "state": {
            "_view_name": "LayoutView",
            "grid_template_rows": null,
            "right": null,
            "justify_content": null,
            "_view_module": "@jupyter-widgets/base",
            "overflow": null,
            "_model_module_version": "1.2.0",
            "_view_count": null,
            "flex_flow": null,
            "width": null,
            "min_width": null,
            "border": null,
            "align_items": null,
            "bottom": null,
            "_model_module": "@jupyter-widgets/base",
            "top": null,
            "grid_column": null,
            "overflow_y": null,
            "overflow_x": null,
            "grid_auto_flow": null,
            "grid_area": null,
            "grid_template_columns": null,
            "flex": null,
            "_model_name": "LayoutModel",
            "justify_items": null,
            "grid_row": null,
            "max_height": null,
            "align_content": null,
            "visibility": null,
            "align_self": null,
            "height": null,
            "min_height": null,
            "padding": null,
            "grid_auto_rows": null,
            "grid_gap": null,
            "max_width": null,
            "order": null,
            "_view_module_version": "1.2.0",
            "grid_template_areas": null,
            "object_position": null,
            "object_fit": null,
            "grid_auto_columns": null,
            "margin": null,
            "display": null,
            "left": null
          }
        },
        "8045103dabae4de5821440a5788baf3b": {
          "model_module": "@jupyter-widgets/controls",
          "model_name": "HBoxModel",
          "state": {
            "_view_name": "HBoxView",
            "_dom_classes": [],
            "_model_name": "HBoxModel",
            "_view_module": "@jupyter-widgets/controls",
            "_model_module_version": "1.5.0",
            "_view_count": null,
            "_view_module_version": "1.5.0",
            "box_style": "",
            "layout": "IPY_MODEL_b1792aa4194749d4b5e5d5871b56ca65",
            "_model_module": "@jupyter-widgets/controls",
            "children": [
              "IPY_MODEL_804729c589e34748a268bccb531596a1",
              "IPY_MODEL_0a4d2a75e7754ded86a8109173d89fee"
            ]
          }
        },
        "b1792aa4194749d4b5e5d5871b56ca65": {
          "model_module": "@jupyter-widgets/base",
          "model_name": "LayoutModel",
          "state": {
            "_view_name": "LayoutView",
            "grid_template_rows": null,
            "right": null,
            "justify_content": null,
            "_view_module": "@jupyter-widgets/base",
            "overflow": null,
            "_model_module_version": "1.2.0",
            "_view_count": null,
            "flex_flow": null,
            "width": null,
            "min_width": null,
            "border": null,
            "align_items": null,
            "bottom": null,
            "_model_module": "@jupyter-widgets/base",
            "top": null,
            "grid_column": null,
            "overflow_y": null,
            "overflow_x": null,
            "grid_auto_flow": null,
            "grid_area": null,
            "grid_template_columns": null,
            "flex": null,
            "_model_name": "LayoutModel",
            "justify_items": null,
            "grid_row": null,
            "max_height": null,
            "align_content": null,
            "visibility": null,
            "align_self": null,
            "height": null,
            "min_height": null,
            "padding": null,
            "grid_auto_rows": null,
            "grid_gap": null,
            "max_width": null,
            "order": null,
            "_view_module_version": "1.2.0",
            "grid_template_areas": null,
            "object_position": null,
            "object_fit": null,
            "grid_auto_columns": null,
            "margin": null,
            "display": null,
            "left": null
          }
        },
        "804729c589e34748a268bccb531596a1": {
          "model_module": "@jupyter-widgets/controls",
          "model_name": "FloatProgressModel",
          "state": {
            "_view_name": "ProgressView",
            "style": "IPY_MODEL_1c469b4e3a314605a5524161b9e58029",
            "_dom_classes": [],
            "description": "",
            "_model_name": "FloatProgressModel",
            "bar_style": "success",
            "max": 1,
            "_view_module": "@jupyter-widgets/controls",
            "_model_module_version": "1.5.0",
            "value": 1,
            "_view_count": null,
            "_view_module_version": "1.5.0",
            "orientation": "horizontal",
            "min": 0,
            "description_tooltip": null,
            "_model_module": "@jupyter-widgets/controls",
            "layout": "IPY_MODEL_499e2732d4674833904d0929bfb806ea"
          }
        },
        "0a4d2a75e7754ded86a8109173d89fee": {
          "model_module": "@jupyter-widgets/controls",
          "model_name": "HTMLModel",
          "state": {
            "_view_name": "HTMLView",
            "style": "IPY_MODEL_fd47b66d7e4940369a8e97100d95376e",
            "_dom_classes": [],
            "description": "",
            "_model_name": "HTMLModel",
            "placeholder": "​",
            "_view_module": "@jupyter-widgets/controls",
            "_model_module_version": "1.5.0",
            "value": " 8192/? [00:00&lt;00:00, 19497.60it/s]",
            "_view_count": null,
            "_view_module_version": "1.5.0",
            "description_tooltip": null,
            "_model_module": "@jupyter-widgets/controls",
            "layout": "IPY_MODEL_17a31b16d6f645ce864ef8512d0a601b"
          }
        },
        "1c469b4e3a314605a5524161b9e58029": {
          "model_module": "@jupyter-widgets/controls",
          "model_name": "ProgressStyleModel",
          "state": {
            "_view_name": "StyleView",
            "_model_name": "ProgressStyleModel",
            "description_width": "initial",
            "_view_module": "@jupyter-widgets/base",
            "_model_module_version": "1.5.0",
            "_view_count": null,
            "_view_module_version": "1.2.0",
            "bar_color": null,
            "_model_module": "@jupyter-widgets/controls"
          }
        },
        "499e2732d4674833904d0929bfb806ea": {
          "model_module": "@jupyter-widgets/base",
          "model_name": "LayoutModel",
          "state": {
            "_view_name": "LayoutView",
            "grid_template_rows": null,
            "right": null,
            "justify_content": null,
            "_view_module": "@jupyter-widgets/base",
            "overflow": null,
            "_model_module_version": "1.2.0",
            "_view_count": null,
            "flex_flow": null,
            "width": null,
            "min_width": null,
            "border": null,
            "align_items": null,
            "bottom": null,
            "_model_module": "@jupyter-widgets/base",
            "top": null,
            "grid_column": null,
            "overflow_y": null,
            "overflow_x": null,
            "grid_auto_flow": null,
            "grid_area": null,
            "grid_template_columns": null,
            "flex": null,
            "_model_name": "LayoutModel",
            "justify_items": null,
            "grid_row": null,
            "max_height": null,
            "align_content": null,
            "visibility": null,
            "align_self": null,
            "height": null,
            "min_height": null,
            "padding": null,
            "grid_auto_rows": null,
            "grid_gap": null,
            "max_width": null,
            "order": null,
            "_view_module_version": "1.2.0",
            "grid_template_areas": null,
            "object_position": null,
            "object_fit": null,
            "grid_auto_columns": null,
            "margin": null,
            "display": null,
            "left": null
          }
        },
        "fd47b66d7e4940369a8e97100d95376e": {
          "model_module": "@jupyter-widgets/controls",
          "model_name": "DescriptionStyleModel",
          "state": {
            "_view_name": "StyleView",
            "_model_name": "DescriptionStyleModel",
            "description_width": "",
            "_view_module": "@jupyter-widgets/base",
            "_model_module_version": "1.5.0",
            "_view_count": null,
            "_view_module_version": "1.2.0",
            "_model_module": "@jupyter-widgets/controls"
          }
        },
        "17a31b16d6f645ce864ef8512d0a601b": {
          "model_module": "@jupyter-widgets/base",
          "model_name": "LayoutModel",
          "state": {
            "_view_name": "LayoutView",
            "grid_template_rows": null,
            "right": null,
            "justify_content": null,
            "_view_module": "@jupyter-widgets/base",
            "overflow": null,
            "_model_module_version": "1.2.0",
            "_view_count": null,
            "flex_flow": null,
            "width": null,
            "min_width": null,
            "border": null,
            "align_items": null,
            "bottom": null,
            "_model_module": "@jupyter-widgets/base",
            "top": null,
            "grid_column": null,
            "overflow_y": null,
            "overflow_x": null,
            "grid_auto_flow": null,
            "grid_area": null,
            "grid_template_columns": null,
            "flex": null,
            "_model_name": "LayoutModel",
            "justify_items": null,
            "grid_row": null,
            "max_height": null,
            "align_content": null,
            "visibility": null,
            "align_self": null,
            "height": null,
            "min_height": null,
            "padding": null,
            "grid_auto_rows": null,
            "grid_gap": null,
            "max_width": null,
            "order": null,
            "_view_module_version": "1.2.0",
            "grid_template_areas": null,
            "object_position": null,
            "object_fit": null,
            "grid_auto_columns": null,
            "margin": null,
            "display": null,
            "left": null
          }
        }
      }
    }
  },
  "cells": [
    {
      "cell_type": "code",
      "metadata": {
        "id": "ddCVjIpekPUD"
      },
      "source": [
        "import torch\n",
        "import torch.nn as nn\n",
        "import torch.optim as optim\n",
        "import numpy as np\n",
        "import matplotlib.pyplot as plt\n",
        "import seaborn as sns\n",
        "from torchvision import datasets, transforms\n",
        "from torch.utils.data import DataLoader"
      ],
      "execution_count": 1,
      "outputs": []
    },
    {
      "cell_type": "code",
      "metadata": {
        "id": "yW182o_1kuX6"
      },
      "source": [
        "device = \"cuda\" if torch.cuda.is_available() else \"cpu\""
      ],
      "execution_count": 2,
      "outputs": []
    },
    {
      "cell_type": "code",
      "metadata": {
        "colab": {
          "base_uri": "https://localhost:8080/",
          "height": 35
        },
        "id": "8gRLaQN0k3Cu",
        "outputId": "d27eed8e-c178-40b5-be40-cfa91d211e73"
      },
      "source": [
        "device"
      ],
      "execution_count": 3,
      "outputs": [
        {
          "output_type": "execute_result",
          "data": {
            "application/vnd.google.colaboratory.intrinsic+json": {
              "type": "string"
            },
            "text/plain": [
              "'cpu'"
            ]
          },
          "metadata": {
            "tags": []
          },
          "execution_count": 3
        }
      ]
    },
    {
      "cell_type": "code",
      "metadata": {
        "colab": {
          "base_uri": "https://localhost:8080/",
          "height": 386,
          "referenced_widgets": [
            "53c91d301fd142b68b7c3f387bde5885",
            "4d091a6099914decb6d22cfeb695cf7c",
            "14502c137e7f40a5b3650f96e9278a72",
            "22058ab1b4bd4deb8f6e20a06182cbe1",
            "f6d4476f53a449e7bc4150b3c887d059",
            "9ccfc83a32ea4a489db6f6bc7e977472",
            "3965ddefa0624f85b2e64cbd03fcf093",
            "4526cb69732141f48c0465408d56b923",
            "b1686b58b6c54b9c91bc68625cf19488",
            "043838de73d146bea7f5e5b5368f04a0",
            "099abf9cf5ed404388e268cf26fcef20",
            "c73a58e0e28e453a8087a62c7add8f82",
            "f8b8dafca97347888adc8205b766589d",
            "c57b7c41b19c437c8c86acd76a0fce8a",
            "f1d95847b07c46bcaf5272485e68ba08",
            "e208c4f2a7df4a88be6d619a3a3a0360",
            "076434e6cc7b4cd08ab5c25d6df4754b",
            "b11dc85cfb914ecbb0e1ca047a9ae9c4",
            "ae70f11312ae41ee93566dbaf683e445",
            "0c36ecb87acd482e8730d78dcb9c3c0c",
            "41b84248a0c94d80bfd30920983ed04f",
            "fa9af733e6544224ac74eaae72ea988a",
            "a06123e62849462ea5a2c3131beaa285",
            "176fa20057a14927b44c0f9fc062d55c",
            "8045103dabae4de5821440a5788baf3b",
            "b1792aa4194749d4b5e5d5871b56ca65",
            "804729c589e34748a268bccb531596a1",
            "0a4d2a75e7754ded86a8109173d89fee",
            "1c469b4e3a314605a5524161b9e58029",
            "499e2732d4674833904d0929bfb806ea",
            "fd47b66d7e4940369a8e97100d95376e",
            "17a31b16d6f645ce864ef8512d0a601b"
          ]
        },
        "id": "W65A-9l9k4iw",
        "outputId": "3911a3af-bf50-46d9-9d7a-bd983bafc157"
      },
      "source": [
        "# 前処理\n",
        "transform = transforms.Compose([\n",
        "    # 画像をTensorに変換してくれる\n",
        "    # チャネルラストをチャネルファーストに\n",
        "    # 0〜255の整数値を0.0〜1.0の浮動少数点に変換してくれる\n",
        "    transforms.ToTensor()                              \n",
        "])\n",
        "train_dataset = datasets.MNIST(root=\"./data\", train=True, download=True, transform=transform)"
      ],
      "execution_count": 4,
      "outputs": [
        {
          "output_type": "stream",
          "text": [
            "Downloading http://yann.lecun.com/exdb/mnist/train-images-idx3-ubyte.gz to ./data/MNIST/raw/train-images-idx3-ubyte.gz\n"
          ],
          "name": "stdout"
        },
        {
          "output_type": "display_data",
          "data": {
            "application/vnd.jupyter.widget-view+json": {
              "model_id": "53c91d301fd142b68b7c3f387bde5885",
              "version_minor": 0,
              "version_major": 2
            },
            "text/plain": [
              "HBox(children=(FloatProgress(value=1.0, bar_style='info', max=1.0), HTML(value='')))"
            ]
          },
          "metadata": {
            "tags": []
          }
        },
        {
          "output_type": "stream",
          "text": [
            "Extracting ./data/MNIST/raw/train-images-idx3-ubyte.gz to ./data/MNIST/raw\n",
            "Downloading http://yann.lecun.com/exdb/mnist/train-labels-idx1-ubyte.gz to ./data/MNIST/raw/train-labels-idx1-ubyte.gz\n"
          ],
          "name": "stdout"
        },
        {
          "output_type": "display_data",
          "data": {
            "application/vnd.jupyter.widget-view+json": {
              "model_id": "b1686b58b6c54b9c91bc68625cf19488",
              "version_minor": 0,
              "version_major": 2
            },
            "text/plain": [
              "HBox(children=(FloatProgress(value=1.0, bar_style='info', max=1.0), HTML(value='')))"
            ]
          },
          "metadata": {
            "tags": []
          }
        },
        {
          "output_type": "stream",
          "text": [
            "Extracting ./data/MNIST/raw/train-labels-idx1-ubyte.gz to ./data/MNIST/raw\n",
            "Downloading http://yann.lecun.com/exdb/mnist/t10k-images-idx3-ubyte.gz to ./data/MNIST/raw/t10k-images-idx3-ubyte.gz\n",
            "\n"
          ],
          "name": "stdout"
        },
        {
          "output_type": "display_data",
          "data": {
            "application/vnd.jupyter.widget-view+json": {
              "model_id": "076434e6cc7b4cd08ab5c25d6df4754b",
              "version_minor": 0,
              "version_major": 2
            },
            "text/plain": [
              "HBox(children=(FloatProgress(value=1.0, bar_style='info', max=1.0), HTML(value='')))"
            ]
          },
          "metadata": {
            "tags": []
          }
        },
        {
          "output_type": "stream",
          "text": [
            "Extracting ./data/MNIST/raw/t10k-images-idx3-ubyte.gz to ./data/MNIST/raw\n",
            "Downloading http://yann.lecun.com/exdb/mnist/t10k-labels-idx1-ubyte.gz to ./data/MNIST/raw/t10k-labels-idx1-ubyte.gz\n"
          ],
          "name": "stdout"
        },
        {
          "output_type": "display_data",
          "data": {
            "application/vnd.jupyter.widget-view+json": {
              "model_id": "8045103dabae4de5821440a5788baf3b",
              "version_minor": 0,
              "version_major": 2
            },
            "text/plain": [
              "HBox(children=(FloatProgress(value=1.0, bar_style='info', max=1.0), HTML(value='')))"
            ]
          },
          "metadata": {
            "tags": []
          }
        },
        {
          "output_type": "stream",
          "text": [
            "Extracting ./data/MNIST/raw/t10k-labels-idx1-ubyte.gz to ./data/MNIST/raw\n",
            "Processing...\n",
            "Done!\n"
          ],
          "name": "stdout"
        },
        {
          "output_type": "stream",
          "text": [
            "/usr/local/lib/python3.6/dist-packages/torchvision/datasets/mnist.py:480: UserWarning: The given NumPy array is not writeable, and PyTorch does not support non-writeable tensors. This means you can write to the underlying (supposedly non-writeable) NumPy array using the tensor. You may want to copy the array to protect its data or make it writeable before converting it to a tensor. This type of warning will be suppressed for the rest of this program. (Triggered internally at  /pytorch/torch/csrc/utils/tensor_numpy.cpp:141.)\n",
            "  return torch.from_numpy(parsed.astype(m[2], copy=False)).view(*s)\n"
          ],
          "name": "stderr"
        }
      ]
    },
    {
      "cell_type": "code",
      "metadata": {
        "id": "2EXnZbx5lfjx"
      },
      "source": [
        "num_batches = 100"
      ],
      "execution_count": 5,
      "outputs": []
    },
    {
      "cell_type": "code",
      "metadata": {
        "id": "mWUIrfYylmMX"
      },
      "source": [
        "train_dataloader = DataLoader(train_dataset, batch_size=num_batches, shuffle=True)"
      ],
      "execution_count": 6,
      "outputs": []
    },
    {
      "cell_type": "code",
      "metadata": {
        "id": "-oDTKY_llwdM"
      },
      "source": [
        "train_iter = iter(train_dataloader)"
      ],
      "execution_count": 7,
      "outputs": []
    },
    {
      "cell_type": "code",
      "metadata": {
        "colab": {
          "base_uri": "https://localhost:8080/"
        },
        "id": "npurZBWGkNp4",
        "outputId": "2fc4a548-18c0-4622-978e-8b74364b7da8"
      },
      "source": [
        "train_iter"
      ],
      "execution_count": 8,
      "outputs": [
        {
          "output_type": "execute_result",
          "data": {
            "text/plain": [
              "<torch.utils.data.dataloader._SingleProcessDataLoaderIter at 0x7f1755df9908>"
            ]
          },
          "metadata": {
            "tags": []
          },
          "execution_count": 8
        }
      ]
    },
    {
      "cell_type": "code",
      "metadata": {
        "colab": {
          "base_uri": "https://localhost:8080/"
        },
        "id": "etI2l2t8l4Tm",
        "outputId": "6ec90d6c-a71b-41d4-ebdc-f31269559fa7"
      },
      "source": [
        "# 100個だけミニバッチからデータをロードする\n",
        "imgs, labels = train_iter.next()"
      ],
      "execution_count": 9,
      "outputs": [
        {
          "output_type": "stream",
          "text": [
            "\n"
          ],
          "name": "stdout"
        }
      ]
    },
    {
      "cell_type": "code",
      "metadata": {
        "colab": {
          "base_uri": "https://localhost:8080/"
        },
        "id": "6ZwWuO3Cl9Eq",
        "outputId": "d44a2272-f8df-409e-8add-22607a436c89"
      },
      "source": [
        "# 100個のデータ, グレースケール, 28px, 28px\n",
        "imgs.size()"
      ],
      "execution_count": 10,
      "outputs": [
        {
          "output_type": "execute_result",
          "data": {
            "text/plain": [
              "torch.Size([100, 1, 28, 28])"
            ]
          },
          "metadata": {
            "tags": []
          },
          "execution_count": 10
        }
      ]
    },
    {
      "cell_type": "code",
      "metadata": {
        "colab": {
          "base_uri": "https://localhost:8080/"
        },
        "id": "u2tEU4w7l_Fv",
        "outputId": "4d24a7ca-ee88-4faf-fcba-28a510b760b2"
      },
      "source": [
        "labels"
      ],
      "execution_count": 11,
      "outputs": [
        {
          "output_type": "execute_result",
          "data": {
            "text/plain": [
              "tensor([5, 9, 4, 4, 3, 0, 4, 2, 6, 8, 1, 8, 0, 1, 0, 7, 9, 0, 6, 7, 4, 8, 4, 3,\n",
              "        6, 3, 2, 9, 0, 3, 8, 7, 9, 1, 0, 8, 6, 0, 2, 1, 0, 5, 6, 2, 7, 9, 3, 4,\n",
              "        5, 3, 0, 5, 7, 1, 0, 9, 7, 0, 9, 6, 7, 0, 1, 4, 9, 2, 7, 0, 9, 0, 2, 9,\n",
              "        5, 8, 5, 3, 1, 2, 5, 5, 0, 3, 5, 6, 3, 2, 9, 0, 7, 7, 4, 5, 9, 1, 6, 9,\n",
              "        0, 9, 7, 8])"
            ]
          },
          "metadata": {
            "tags": []
          },
          "execution_count": 11
        }
      ]
    },
    {
      "cell_type": "code",
      "metadata": {
        "id": "3er_5OWjmJR5"
      },
      "source": [
        "img = imgs[0]"
      ],
      "execution_count": 12,
      "outputs": []
    },
    {
      "cell_type": "code",
      "metadata": {
        "colab": {
          "base_uri": "https://localhost:8080/"
        },
        "id": "dNewmZNCkpxa",
        "outputId": "0aecd30a-d518-4c5a-c214-7b36df9df489"
      },
      "source": [
        "img"
      ],
      "execution_count": 13,
      "outputs": [
        {
          "output_type": "execute_result",
          "data": {
            "text/plain": [
              "tensor([[[0.0000, 0.0000, 0.0000, 0.0000, 0.0000, 0.0000, 0.0000, 0.0000,\n",
              "          0.0000, 0.0000, 0.0000, 0.0000, 0.0000, 0.0000, 0.0000, 0.0000,\n",
              "          0.0000, 0.0000, 0.0000, 0.0000, 0.0000, 0.0000, 0.0000, 0.0000,\n",
              "          0.0000, 0.0000, 0.0000, 0.0000],\n",
              "         [0.0000, 0.0000, 0.0000, 0.0000, 0.0000, 0.0000, 0.0000, 0.0000,\n",
              "          0.0000, 0.0000, 0.0000, 0.0000, 0.0000, 0.0000, 0.0000, 0.0000,\n",
              "          0.0000, 0.0000, 0.0000, 0.0000, 0.0000, 0.0000, 0.0000, 0.0000,\n",
              "          0.0000, 0.0000, 0.0000, 0.0000],\n",
              "         [0.0000, 0.0000, 0.0000, 0.0000, 0.0000, 0.0000, 0.0000, 0.0000,\n",
              "          0.0000, 0.0000, 0.0000, 0.0000, 0.0000, 0.0000, 0.0000, 0.0000,\n",
              "          0.0000, 0.0000, 0.0000, 0.0000, 0.0000, 0.0000, 0.0000, 0.0000,\n",
              "          0.0000, 0.0000, 0.0000, 0.0000],\n",
              "         [0.0000, 0.0000, 0.0000, 0.0000, 0.0000, 0.0000, 0.0000, 0.0000,\n",
              "          0.0000, 0.0000, 0.0000, 0.0000, 0.0000, 0.0000, 0.0000, 0.0000,\n",
              "          0.0000, 0.0000, 0.0000, 0.0000, 0.0000, 0.0000, 0.0000, 0.0000,\n",
              "          0.0000, 0.0000, 0.0000, 0.0000],\n",
              "         [0.0000, 0.0000, 0.0000, 0.0000, 0.0000, 0.0000, 0.0000, 0.0000,\n",
              "          0.0000, 0.0000, 0.0000, 0.0000, 0.0000, 0.0000, 0.0000, 0.0000,\n",
              "          0.0000, 0.0000, 0.0000, 0.0000, 0.0000, 0.0000, 0.0000, 0.0000,\n",
              "          0.0000, 0.0000, 0.0000, 0.0000],\n",
              "         [0.0000, 0.0000, 0.0000, 0.0000, 0.0000, 0.0000, 0.0000, 0.0000,\n",
              "          0.0000, 0.0000, 0.0000, 0.0000, 0.0000, 0.0000, 0.0000, 0.0000,\n",
              "          0.0000, 0.0000, 0.0000, 0.0000, 0.0000, 0.0000, 0.0000, 0.0000,\n",
              "          0.0000, 0.0000, 0.0000, 0.0000],\n",
              "         [0.0000, 0.0000, 0.0000, 0.0000, 0.0000, 0.0000, 0.0000, 0.0000,\n",
              "          0.0000, 0.0000, 0.0000, 0.0000, 0.0000, 0.0000, 0.0000, 0.0000,\n",
              "          0.0000, 0.0000, 0.0000, 0.0000, 0.0000, 0.1176, 0.0000, 0.0000,\n",
              "          0.1608, 0.0706, 0.0000, 0.0000],\n",
              "         [0.0000, 0.0000, 0.0000, 0.0000, 0.0000, 0.0000, 0.0000, 0.0000,\n",
              "          0.0000, 0.0000, 0.0000, 0.0000, 0.0000, 0.0000, 0.0000, 0.0000,\n",
              "          0.0000, 0.0000, 0.0000, 0.3255, 0.6157, 0.8980, 0.8235, 0.4275,\n",
              "          0.7569, 0.5451, 0.2235, 0.0000],\n",
              "         [0.0000, 0.0000, 0.0000, 0.0000, 0.0000, 0.0000, 0.0000, 0.0000,\n",
              "          0.0000, 0.0000, 0.0078, 0.3725, 0.5216, 0.3098, 0.0000, 0.0000,\n",
              "          0.0392, 0.1098, 0.6353, 0.9882, 0.9922, 0.9922, 0.9922, 0.9922,\n",
              "          0.9922, 0.8235, 0.0902, 0.0000],\n",
              "         [0.0000, 0.0000, 0.0000, 0.0000, 0.0000, 0.0000, 0.0000, 0.0000,\n",
              "          0.0000, 0.0000, 0.4706, 0.9922, 0.9922, 0.8549, 0.0000, 0.0000,\n",
              "          0.7176, 0.8471, 0.9922, 0.9922, 0.9922, 0.9922, 0.9922, 0.7961,\n",
              "          0.5098, 0.3294, 0.4784, 0.0000],\n",
              "         [0.0000, 0.0000, 0.0000, 0.0000, 0.0000, 0.0000, 0.0000, 0.0000,\n",
              "          0.0000, 0.1373, 0.9686, 0.9922, 0.9922, 0.5137, 0.0000, 0.0000,\n",
              "          0.8667, 0.9961, 0.9922, 0.9922, 0.9647, 0.5490, 0.2157, 0.0196,\n",
              "          0.0000, 0.0000, 0.0000, 0.0000],\n",
              "         [0.0000, 0.0000, 0.0000, 0.0000, 0.0000, 0.0000, 0.0000, 0.0000,\n",
              "          0.0118, 0.6039, 0.9922, 0.9922, 0.8275, 0.2706, 0.0000, 0.0000,\n",
              "          0.6392, 0.8980, 0.3294, 0.1569, 0.0784, 0.0000, 0.0000, 0.0000,\n",
              "          0.0000, 0.0000, 0.0000, 0.0000],\n",
              "         [0.0000, 0.0000, 0.0000, 0.0000, 0.0000, 0.0000, 0.0000, 0.0000,\n",
              "          0.2627, 0.9922, 0.9922, 0.9922, 0.5686, 0.0000, 0.0000, 0.0000,\n",
              "          0.0000, 0.0000, 0.0000, 0.0000, 0.0000, 0.0000, 0.0000, 0.0000,\n",
              "          0.0000, 0.0000, 0.0000, 0.0000],\n",
              "         [0.0000, 0.0000, 0.0000, 0.0000, 0.0000, 0.0000, 0.0000, 0.0000,\n",
              "          0.5804, 0.9922, 0.9922, 0.6980, 0.0549, 0.0000, 0.0000, 0.0000,\n",
              "          0.0000, 0.0000, 0.0000, 0.0000, 0.0000, 0.0000, 0.0000, 0.0000,\n",
              "          0.0000, 0.0000, 0.0000, 0.0000],\n",
              "         [0.0000, 0.0000, 0.0000, 0.0000, 0.0000, 0.0000, 0.0000, 0.1176,\n",
              "          0.9569, 0.9922, 0.9922, 0.8157, 0.2471, 0.0392, 0.0784, 0.1137,\n",
              "          0.0000, 0.0000, 0.0000, 0.0000, 0.0000, 0.0000, 0.0000, 0.0000,\n",
              "          0.0000, 0.0000, 0.0000, 0.0000],\n",
              "         [0.0000, 0.0000, 0.0000, 0.0000, 0.0000, 0.0000, 0.0000, 0.0588,\n",
              "          0.8275, 0.9961, 0.9961, 0.9961, 0.9961, 0.9961, 0.9961, 0.8667,\n",
              "          0.9412, 0.9451, 0.1725, 0.0000, 0.0000, 0.0000, 0.0000, 0.0000,\n",
              "          0.0000, 0.0000, 0.0000, 0.0000],\n",
              "         [0.0000, 0.0000, 0.0000, 0.0000, 0.0000, 0.0000, 0.0000, 0.0000,\n",
              "          0.2118, 0.5725, 0.9922, 0.9922, 0.9922, 0.9922, 0.9922, 0.9922,\n",
              "          0.9922, 0.9961, 0.6000, 0.0000, 0.0000, 0.0000, 0.0000, 0.0000,\n",
              "          0.0000, 0.0000, 0.0000, 0.0000],\n",
              "         [0.0000, 0.0000, 0.0000, 0.0000, 0.0000, 0.0000, 0.0000, 0.0000,\n",
              "          0.0000, 0.2392, 0.6039, 0.6039, 0.6039, 0.6196, 0.7529, 0.8941,\n",
              "          0.9922, 0.9961, 0.7333, 0.0000, 0.0000, 0.0000, 0.0000, 0.0000,\n",
              "          0.0000, 0.0000, 0.0000, 0.0000],\n",
              "         [0.0000, 0.0000, 0.0000, 0.0000, 0.0000, 0.0000, 0.0000, 0.0000,\n",
              "          0.0000, 0.0000, 0.0000, 0.0000, 0.0000, 0.0039, 0.0314, 0.7608,\n",
              "          0.9922, 1.0000, 0.6941, 0.0000, 0.0000, 0.0000, 0.0000, 0.0000,\n",
              "          0.0000, 0.0000, 0.0000, 0.0000],\n",
              "         [0.0000, 0.0000, 0.0000, 0.0000, 0.0000, 0.0000, 0.0000, 0.0980,\n",
              "          0.0000, 0.0863, 0.2196, 0.2196, 0.2196, 0.2392, 0.7098, 0.9922,\n",
              "          0.9922, 0.8196, 0.1059, 0.0000, 0.0000, 0.0000, 0.0000, 0.0000,\n",
              "          0.0000, 0.0000, 0.0000, 0.0000],\n",
              "         [0.0000, 0.0000, 0.0000, 0.0000, 0.0000, 0.0000, 0.0000, 0.7255,\n",
              "          0.7804, 0.8627, 0.9922, 0.9922, 0.9922, 0.9922, 0.9922, 0.9922,\n",
              "          0.9922, 0.0941, 0.0000, 0.0000, 0.0000, 0.0000, 0.0000, 0.0000,\n",
              "          0.0000, 0.0000, 0.0000, 0.0000],\n",
              "         [0.0000, 0.0000, 0.0000, 0.0000, 0.0000, 0.0000, 0.0000, 0.5451,\n",
              "          0.9922, 0.9922, 0.9922, 0.9922, 0.9922, 0.9922, 0.9922, 0.9922,\n",
              "          0.5961, 0.0000, 0.0000, 0.0000, 0.0000, 0.0000, 0.0000, 0.0000,\n",
              "          0.0000, 0.0000, 0.0000, 0.0000],\n",
              "         [0.0000, 0.0000, 0.0000, 0.0000, 0.0000, 0.0000, 0.0000, 0.0510,\n",
              "          0.3882, 0.3882, 0.8039, 0.8196, 0.8196, 0.8196, 0.8196, 0.8196,\n",
              "          0.2745, 0.0000, 0.0000, 0.0000, 0.0000, 0.0000, 0.0000, 0.0000,\n",
              "          0.0000, 0.0000, 0.0000, 0.0000],\n",
              "         [0.0000, 0.0000, 0.0000, 0.0000, 0.0000, 0.0000, 0.0000, 0.0000,\n",
              "          0.0000, 0.0000, 0.0000, 0.0000, 0.0000, 0.0000, 0.0000, 0.0000,\n",
              "          0.0000, 0.0000, 0.0000, 0.0000, 0.0000, 0.0000, 0.0000, 0.0000,\n",
              "          0.0000, 0.0000, 0.0000, 0.0000],\n",
              "         [0.0000, 0.0000, 0.0000, 0.0000, 0.0000, 0.0000, 0.0000, 0.0000,\n",
              "          0.0000, 0.0000, 0.0000, 0.0000, 0.0000, 0.0000, 0.0000, 0.0000,\n",
              "          0.0000, 0.0000, 0.0000, 0.0000, 0.0000, 0.0000, 0.0000, 0.0000,\n",
              "          0.0000, 0.0000, 0.0000, 0.0000],\n",
              "         [0.0000, 0.0000, 0.0000, 0.0000, 0.0000, 0.0000, 0.0000, 0.0000,\n",
              "          0.0000, 0.0000, 0.0000, 0.0000, 0.0000, 0.0000, 0.0000, 0.0000,\n",
              "          0.0000, 0.0000, 0.0000, 0.0000, 0.0000, 0.0000, 0.0000, 0.0000,\n",
              "          0.0000, 0.0000, 0.0000, 0.0000],\n",
              "         [0.0000, 0.0000, 0.0000, 0.0000, 0.0000, 0.0000, 0.0000, 0.0000,\n",
              "          0.0000, 0.0000, 0.0000, 0.0000, 0.0000, 0.0000, 0.0000, 0.0000,\n",
              "          0.0000, 0.0000, 0.0000, 0.0000, 0.0000, 0.0000, 0.0000, 0.0000,\n",
              "          0.0000, 0.0000, 0.0000, 0.0000],\n",
              "         [0.0000, 0.0000, 0.0000, 0.0000, 0.0000, 0.0000, 0.0000, 0.0000,\n",
              "          0.0000, 0.0000, 0.0000, 0.0000, 0.0000, 0.0000, 0.0000, 0.0000,\n",
              "          0.0000, 0.0000, 0.0000, 0.0000, 0.0000, 0.0000, 0.0000, 0.0000,\n",
              "          0.0000, 0.0000, 0.0000, 0.0000]]])"
            ]
          },
          "metadata": {
            "tags": []
          },
          "execution_count": 13
        }
      ]
    },
    {
      "cell_type": "code",
      "metadata": {
        "id": "_li1HrAPmNDL"
      },
      "source": [
        "# 画像データを表示するために、チャネルファーストのデータをチャネルラストに変換する\n",
        "img_permute = img.permute(1, 2, 0)"
      ],
      "execution_count": 14,
      "outputs": []
    },
    {
      "cell_type": "code",
      "metadata": {
        "colab": {
          "base_uri": "https://localhost:8080/"
        },
        "id": "8SbaQSTxlpBU",
        "outputId": "84a9f3bd-b482-4fc0-a98a-c91d1476153b"
      },
      "source": [
        "img_permute"
      ],
      "execution_count": 15,
      "outputs": [
        {
          "output_type": "execute_result",
          "data": {
            "text/plain": [
              "tensor([[[0.0000],\n",
              "         [0.0000],\n",
              "         [0.0000],\n",
              "         [0.0000],\n",
              "         [0.0000],\n",
              "         [0.0000],\n",
              "         [0.0000],\n",
              "         [0.0000],\n",
              "         [0.0000],\n",
              "         [0.0000],\n",
              "         [0.0000],\n",
              "         [0.0000],\n",
              "         [0.0000],\n",
              "         [0.0000],\n",
              "         [0.0000],\n",
              "         [0.0000],\n",
              "         [0.0000],\n",
              "         [0.0000],\n",
              "         [0.0000],\n",
              "         [0.0000],\n",
              "         [0.0000],\n",
              "         [0.0000],\n",
              "         [0.0000],\n",
              "         [0.0000],\n",
              "         [0.0000],\n",
              "         [0.0000],\n",
              "         [0.0000],\n",
              "         [0.0000]],\n",
              "\n",
              "        [[0.0000],\n",
              "         [0.0000],\n",
              "         [0.0000],\n",
              "         [0.0000],\n",
              "         [0.0000],\n",
              "         [0.0000],\n",
              "         [0.0000],\n",
              "         [0.0000],\n",
              "         [0.0000],\n",
              "         [0.0000],\n",
              "         [0.0000],\n",
              "         [0.0000],\n",
              "         [0.0000],\n",
              "         [0.0000],\n",
              "         [0.0000],\n",
              "         [0.0000],\n",
              "         [0.0000],\n",
              "         [0.0000],\n",
              "         [0.0000],\n",
              "         [0.0000],\n",
              "         [0.0000],\n",
              "         [0.0000],\n",
              "         [0.0000],\n",
              "         [0.0000],\n",
              "         [0.0000],\n",
              "         [0.0000],\n",
              "         [0.0000],\n",
              "         [0.0000]],\n",
              "\n",
              "        [[0.0000],\n",
              "         [0.0000],\n",
              "         [0.0000],\n",
              "         [0.0000],\n",
              "         [0.0000],\n",
              "         [0.0000],\n",
              "         [0.0000],\n",
              "         [0.0000],\n",
              "         [0.0000],\n",
              "         [0.0000],\n",
              "         [0.0000],\n",
              "         [0.0000],\n",
              "         [0.0000],\n",
              "         [0.0000],\n",
              "         [0.0000],\n",
              "         [0.0000],\n",
              "         [0.0000],\n",
              "         [0.0000],\n",
              "         [0.0000],\n",
              "         [0.0000],\n",
              "         [0.0000],\n",
              "         [0.0000],\n",
              "         [0.0000],\n",
              "         [0.0000],\n",
              "         [0.0000],\n",
              "         [0.0000],\n",
              "         [0.0000],\n",
              "         [0.0000]],\n",
              "\n",
              "        [[0.0000],\n",
              "         [0.0000],\n",
              "         [0.0000],\n",
              "         [0.0000],\n",
              "         [0.0000],\n",
              "         [0.0000],\n",
              "         [0.0000],\n",
              "         [0.0000],\n",
              "         [0.0000],\n",
              "         [0.0000],\n",
              "         [0.0000],\n",
              "         [0.0000],\n",
              "         [0.0000],\n",
              "         [0.0000],\n",
              "         [0.0000],\n",
              "         [0.0000],\n",
              "         [0.0000],\n",
              "         [0.0000],\n",
              "         [0.0000],\n",
              "         [0.0000],\n",
              "         [0.0000],\n",
              "         [0.0000],\n",
              "         [0.0000],\n",
              "         [0.0000],\n",
              "         [0.0000],\n",
              "         [0.0000],\n",
              "         [0.0000],\n",
              "         [0.0000]],\n",
              "\n",
              "        [[0.0000],\n",
              "         [0.0000],\n",
              "         [0.0000],\n",
              "         [0.0000],\n",
              "         [0.0000],\n",
              "         [0.0000],\n",
              "         [0.0000],\n",
              "         [0.0000],\n",
              "         [0.0000],\n",
              "         [0.0000],\n",
              "         [0.0000],\n",
              "         [0.0000],\n",
              "         [0.0000],\n",
              "         [0.0000],\n",
              "         [0.0000],\n",
              "         [0.0000],\n",
              "         [0.0000],\n",
              "         [0.0000],\n",
              "         [0.0000],\n",
              "         [0.0000],\n",
              "         [0.0000],\n",
              "         [0.0000],\n",
              "         [0.0000],\n",
              "         [0.0000],\n",
              "         [0.0000],\n",
              "         [0.0000],\n",
              "         [0.0000],\n",
              "         [0.0000]],\n",
              "\n",
              "        [[0.0000],\n",
              "         [0.0000],\n",
              "         [0.0000],\n",
              "         [0.0000],\n",
              "         [0.0000],\n",
              "         [0.0000],\n",
              "         [0.0000],\n",
              "         [0.0000],\n",
              "         [0.0000],\n",
              "         [0.0000],\n",
              "         [0.0000],\n",
              "         [0.0000],\n",
              "         [0.0000],\n",
              "         [0.0000],\n",
              "         [0.0000],\n",
              "         [0.0000],\n",
              "         [0.0000],\n",
              "         [0.0000],\n",
              "         [0.0000],\n",
              "         [0.0000],\n",
              "         [0.0000],\n",
              "         [0.0000],\n",
              "         [0.0000],\n",
              "         [0.0000],\n",
              "         [0.0000],\n",
              "         [0.0000],\n",
              "         [0.0000],\n",
              "         [0.0000]],\n",
              "\n",
              "        [[0.0000],\n",
              "         [0.0000],\n",
              "         [0.0000],\n",
              "         [0.0000],\n",
              "         [0.0000],\n",
              "         [0.0000],\n",
              "         [0.0000],\n",
              "         [0.0000],\n",
              "         [0.0000],\n",
              "         [0.0000],\n",
              "         [0.0000],\n",
              "         [0.0000],\n",
              "         [0.0000],\n",
              "         [0.0000],\n",
              "         [0.0000],\n",
              "         [0.0000],\n",
              "         [0.0000],\n",
              "         [0.0000],\n",
              "         [0.0000],\n",
              "         [0.0000],\n",
              "         [0.0000],\n",
              "         [0.1176],\n",
              "         [0.0000],\n",
              "         [0.0000],\n",
              "         [0.1608],\n",
              "         [0.0706],\n",
              "         [0.0000],\n",
              "         [0.0000]],\n",
              "\n",
              "        [[0.0000],\n",
              "         [0.0000],\n",
              "         [0.0000],\n",
              "         [0.0000],\n",
              "         [0.0000],\n",
              "         [0.0000],\n",
              "         [0.0000],\n",
              "         [0.0000],\n",
              "         [0.0000],\n",
              "         [0.0000],\n",
              "         [0.0000],\n",
              "         [0.0000],\n",
              "         [0.0000],\n",
              "         [0.0000],\n",
              "         [0.0000],\n",
              "         [0.0000],\n",
              "         [0.0000],\n",
              "         [0.0000],\n",
              "         [0.0000],\n",
              "         [0.3255],\n",
              "         [0.6157],\n",
              "         [0.8980],\n",
              "         [0.8235],\n",
              "         [0.4275],\n",
              "         [0.7569],\n",
              "         [0.5451],\n",
              "         [0.2235],\n",
              "         [0.0000]],\n",
              "\n",
              "        [[0.0000],\n",
              "         [0.0000],\n",
              "         [0.0000],\n",
              "         [0.0000],\n",
              "         [0.0000],\n",
              "         [0.0000],\n",
              "         [0.0000],\n",
              "         [0.0000],\n",
              "         [0.0000],\n",
              "         [0.0000],\n",
              "         [0.0078],\n",
              "         [0.3725],\n",
              "         [0.5216],\n",
              "         [0.3098],\n",
              "         [0.0000],\n",
              "         [0.0000],\n",
              "         [0.0392],\n",
              "         [0.1098],\n",
              "         [0.6353],\n",
              "         [0.9882],\n",
              "         [0.9922],\n",
              "         [0.9922],\n",
              "         [0.9922],\n",
              "         [0.9922],\n",
              "         [0.9922],\n",
              "         [0.8235],\n",
              "         [0.0902],\n",
              "         [0.0000]],\n",
              "\n",
              "        [[0.0000],\n",
              "         [0.0000],\n",
              "         [0.0000],\n",
              "         [0.0000],\n",
              "         [0.0000],\n",
              "         [0.0000],\n",
              "         [0.0000],\n",
              "         [0.0000],\n",
              "         [0.0000],\n",
              "         [0.0000],\n",
              "         [0.4706],\n",
              "         [0.9922],\n",
              "         [0.9922],\n",
              "         [0.8549],\n",
              "         [0.0000],\n",
              "         [0.0000],\n",
              "         [0.7176],\n",
              "         [0.8471],\n",
              "         [0.9922],\n",
              "         [0.9922],\n",
              "         [0.9922],\n",
              "         [0.9922],\n",
              "         [0.9922],\n",
              "         [0.7961],\n",
              "         [0.5098],\n",
              "         [0.3294],\n",
              "         [0.4784],\n",
              "         [0.0000]],\n",
              "\n",
              "        [[0.0000],\n",
              "         [0.0000],\n",
              "         [0.0000],\n",
              "         [0.0000],\n",
              "         [0.0000],\n",
              "         [0.0000],\n",
              "         [0.0000],\n",
              "         [0.0000],\n",
              "         [0.0000],\n",
              "         [0.1373],\n",
              "         [0.9686],\n",
              "         [0.9922],\n",
              "         [0.9922],\n",
              "         [0.5137],\n",
              "         [0.0000],\n",
              "         [0.0000],\n",
              "         [0.8667],\n",
              "         [0.9961],\n",
              "         [0.9922],\n",
              "         [0.9922],\n",
              "         [0.9647],\n",
              "         [0.5490],\n",
              "         [0.2157],\n",
              "         [0.0196],\n",
              "         [0.0000],\n",
              "         [0.0000],\n",
              "         [0.0000],\n",
              "         [0.0000]],\n",
              "\n",
              "        [[0.0000],\n",
              "         [0.0000],\n",
              "         [0.0000],\n",
              "         [0.0000],\n",
              "         [0.0000],\n",
              "         [0.0000],\n",
              "         [0.0000],\n",
              "         [0.0000],\n",
              "         [0.0118],\n",
              "         [0.6039],\n",
              "         [0.9922],\n",
              "         [0.9922],\n",
              "         [0.8275],\n",
              "         [0.2706],\n",
              "         [0.0000],\n",
              "         [0.0000],\n",
              "         [0.6392],\n",
              "         [0.8980],\n",
              "         [0.3294],\n",
              "         [0.1569],\n",
              "         [0.0784],\n",
              "         [0.0000],\n",
              "         [0.0000],\n",
              "         [0.0000],\n",
              "         [0.0000],\n",
              "         [0.0000],\n",
              "         [0.0000],\n",
              "         [0.0000]],\n",
              "\n",
              "        [[0.0000],\n",
              "         [0.0000],\n",
              "         [0.0000],\n",
              "         [0.0000],\n",
              "         [0.0000],\n",
              "         [0.0000],\n",
              "         [0.0000],\n",
              "         [0.0000],\n",
              "         [0.2627],\n",
              "         [0.9922],\n",
              "         [0.9922],\n",
              "         [0.9922],\n",
              "         [0.5686],\n",
              "         [0.0000],\n",
              "         [0.0000],\n",
              "         [0.0000],\n",
              "         [0.0000],\n",
              "         [0.0000],\n",
              "         [0.0000],\n",
              "         [0.0000],\n",
              "         [0.0000],\n",
              "         [0.0000],\n",
              "         [0.0000],\n",
              "         [0.0000],\n",
              "         [0.0000],\n",
              "         [0.0000],\n",
              "         [0.0000],\n",
              "         [0.0000]],\n",
              "\n",
              "        [[0.0000],\n",
              "         [0.0000],\n",
              "         [0.0000],\n",
              "         [0.0000],\n",
              "         [0.0000],\n",
              "         [0.0000],\n",
              "         [0.0000],\n",
              "         [0.0000],\n",
              "         [0.5804],\n",
              "         [0.9922],\n",
              "         [0.9922],\n",
              "         [0.6980],\n",
              "         [0.0549],\n",
              "         [0.0000],\n",
              "         [0.0000],\n",
              "         [0.0000],\n",
              "         [0.0000],\n",
              "         [0.0000],\n",
              "         [0.0000],\n",
              "         [0.0000],\n",
              "         [0.0000],\n",
              "         [0.0000],\n",
              "         [0.0000],\n",
              "         [0.0000],\n",
              "         [0.0000],\n",
              "         [0.0000],\n",
              "         [0.0000],\n",
              "         [0.0000]],\n",
              "\n",
              "        [[0.0000],\n",
              "         [0.0000],\n",
              "         [0.0000],\n",
              "         [0.0000],\n",
              "         [0.0000],\n",
              "         [0.0000],\n",
              "         [0.0000],\n",
              "         [0.1176],\n",
              "         [0.9569],\n",
              "         [0.9922],\n",
              "         [0.9922],\n",
              "         [0.8157],\n",
              "         [0.2471],\n",
              "         [0.0392],\n",
              "         [0.0784],\n",
              "         [0.1137],\n",
              "         [0.0000],\n",
              "         [0.0000],\n",
              "         [0.0000],\n",
              "         [0.0000],\n",
              "         [0.0000],\n",
              "         [0.0000],\n",
              "         [0.0000],\n",
              "         [0.0000],\n",
              "         [0.0000],\n",
              "         [0.0000],\n",
              "         [0.0000],\n",
              "         [0.0000]],\n",
              "\n",
              "        [[0.0000],\n",
              "         [0.0000],\n",
              "         [0.0000],\n",
              "         [0.0000],\n",
              "         [0.0000],\n",
              "         [0.0000],\n",
              "         [0.0000],\n",
              "         [0.0588],\n",
              "         [0.8275],\n",
              "         [0.9961],\n",
              "         [0.9961],\n",
              "         [0.9961],\n",
              "         [0.9961],\n",
              "         [0.9961],\n",
              "         [0.9961],\n",
              "         [0.8667],\n",
              "         [0.9412],\n",
              "         [0.9451],\n",
              "         [0.1725],\n",
              "         [0.0000],\n",
              "         [0.0000],\n",
              "         [0.0000],\n",
              "         [0.0000],\n",
              "         [0.0000],\n",
              "         [0.0000],\n",
              "         [0.0000],\n",
              "         [0.0000],\n",
              "         [0.0000]],\n",
              "\n",
              "        [[0.0000],\n",
              "         [0.0000],\n",
              "         [0.0000],\n",
              "         [0.0000],\n",
              "         [0.0000],\n",
              "         [0.0000],\n",
              "         [0.0000],\n",
              "         [0.0000],\n",
              "         [0.2118],\n",
              "         [0.5725],\n",
              "         [0.9922],\n",
              "         [0.9922],\n",
              "         [0.9922],\n",
              "         [0.9922],\n",
              "         [0.9922],\n",
              "         [0.9922],\n",
              "         [0.9922],\n",
              "         [0.9961],\n",
              "         [0.6000],\n",
              "         [0.0000],\n",
              "         [0.0000],\n",
              "         [0.0000],\n",
              "         [0.0000],\n",
              "         [0.0000],\n",
              "         [0.0000],\n",
              "         [0.0000],\n",
              "         [0.0000],\n",
              "         [0.0000]],\n",
              "\n",
              "        [[0.0000],\n",
              "         [0.0000],\n",
              "         [0.0000],\n",
              "         [0.0000],\n",
              "         [0.0000],\n",
              "         [0.0000],\n",
              "         [0.0000],\n",
              "         [0.0000],\n",
              "         [0.0000],\n",
              "         [0.2392],\n",
              "         [0.6039],\n",
              "         [0.6039],\n",
              "         [0.6039],\n",
              "         [0.6196],\n",
              "         [0.7529],\n",
              "         [0.8941],\n",
              "         [0.9922],\n",
              "         [0.9961],\n",
              "         [0.7333],\n",
              "         [0.0000],\n",
              "         [0.0000],\n",
              "         [0.0000],\n",
              "         [0.0000],\n",
              "         [0.0000],\n",
              "         [0.0000],\n",
              "         [0.0000],\n",
              "         [0.0000],\n",
              "         [0.0000]],\n",
              "\n",
              "        [[0.0000],\n",
              "         [0.0000],\n",
              "         [0.0000],\n",
              "         [0.0000],\n",
              "         [0.0000],\n",
              "         [0.0000],\n",
              "         [0.0000],\n",
              "         [0.0000],\n",
              "         [0.0000],\n",
              "         [0.0000],\n",
              "         [0.0000],\n",
              "         [0.0000],\n",
              "         [0.0000],\n",
              "         [0.0039],\n",
              "         [0.0314],\n",
              "         [0.7608],\n",
              "         [0.9922],\n",
              "         [1.0000],\n",
              "         [0.6941],\n",
              "         [0.0000],\n",
              "         [0.0000],\n",
              "         [0.0000],\n",
              "         [0.0000],\n",
              "         [0.0000],\n",
              "         [0.0000],\n",
              "         [0.0000],\n",
              "         [0.0000],\n",
              "         [0.0000]],\n",
              "\n",
              "        [[0.0000],\n",
              "         [0.0000],\n",
              "         [0.0000],\n",
              "         [0.0000],\n",
              "         [0.0000],\n",
              "         [0.0000],\n",
              "         [0.0000],\n",
              "         [0.0980],\n",
              "         [0.0000],\n",
              "         [0.0863],\n",
              "         [0.2196],\n",
              "         [0.2196],\n",
              "         [0.2196],\n",
              "         [0.2392],\n",
              "         [0.7098],\n",
              "         [0.9922],\n",
              "         [0.9922],\n",
              "         [0.8196],\n",
              "         [0.1059],\n",
              "         [0.0000],\n",
              "         [0.0000],\n",
              "         [0.0000],\n",
              "         [0.0000],\n",
              "         [0.0000],\n",
              "         [0.0000],\n",
              "         [0.0000],\n",
              "         [0.0000],\n",
              "         [0.0000]],\n",
              "\n",
              "        [[0.0000],\n",
              "         [0.0000],\n",
              "         [0.0000],\n",
              "         [0.0000],\n",
              "         [0.0000],\n",
              "         [0.0000],\n",
              "         [0.0000],\n",
              "         [0.7255],\n",
              "         [0.7804],\n",
              "         [0.8627],\n",
              "         [0.9922],\n",
              "         [0.9922],\n",
              "         [0.9922],\n",
              "         [0.9922],\n",
              "         [0.9922],\n",
              "         [0.9922],\n",
              "         [0.9922],\n",
              "         [0.0941],\n",
              "         [0.0000],\n",
              "         [0.0000],\n",
              "         [0.0000],\n",
              "         [0.0000],\n",
              "         [0.0000],\n",
              "         [0.0000],\n",
              "         [0.0000],\n",
              "         [0.0000],\n",
              "         [0.0000],\n",
              "         [0.0000]],\n",
              "\n",
              "        [[0.0000],\n",
              "         [0.0000],\n",
              "         [0.0000],\n",
              "         [0.0000],\n",
              "         [0.0000],\n",
              "         [0.0000],\n",
              "         [0.0000],\n",
              "         [0.5451],\n",
              "         [0.9922],\n",
              "         [0.9922],\n",
              "         [0.9922],\n",
              "         [0.9922],\n",
              "         [0.9922],\n",
              "         [0.9922],\n",
              "         [0.9922],\n",
              "         [0.9922],\n",
              "         [0.5961],\n",
              "         [0.0000],\n",
              "         [0.0000],\n",
              "         [0.0000],\n",
              "         [0.0000],\n",
              "         [0.0000],\n",
              "         [0.0000],\n",
              "         [0.0000],\n",
              "         [0.0000],\n",
              "         [0.0000],\n",
              "         [0.0000],\n",
              "         [0.0000]],\n",
              "\n",
              "        [[0.0000],\n",
              "         [0.0000],\n",
              "         [0.0000],\n",
              "         [0.0000],\n",
              "         [0.0000],\n",
              "         [0.0000],\n",
              "         [0.0000],\n",
              "         [0.0510],\n",
              "         [0.3882],\n",
              "         [0.3882],\n",
              "         [0.8039],\n",
              "         [0.8196],\n",
              "         [0.8196],\n",
              "         [0.8196],\n",
              "         [0.8196],\n",
              "         [0.8196],\n",
              "         [0.2745],\n",
              "         [0.0000],\n",
              "         [0.0000],\n",
              "         [0.0000],\n",
              "         [0.0000],\n",
              "         [0.0000],\n",
              "         [0.0000],\n",
              "         [0.0000],\n",
              "         [0.0000],\n",
              "         [0.0000],\n",
              "         [0.0000],\n",
              "         [0.0000]],\n",
              "\n",
              "        [[0.0000],\n",
              "         [0.0000],\n",
              "         [0.0000],\n",
              "         [0.0000],\n",
              "         [0.0000],\n",
              "         [0.0000],\n",
              "         [0.0000],\n",
              "         [0.0000],\n",
              "         [0.0000],\n",
              "         [0.0000],\n",
              "         [0.0000],\n",
              "         [0.0000],\n",
              "         [0.0000],\n",
              "         [0.0000],\n",
              "         [0.0000],\n",
              "         [0.0000],\n",
              "         [0.0000],\n",
              "         [0.0000],\n",
              "         [0.0000],\n",
              "         [0.0000],\n",
              "         [0.0000],\n",
              "         [0.0000],\n",
              "         [0.0000],\n",
              "         [0.0000],\n",
              "         [0.0000],\n",
              "         [0.0000],\n",
              "         [0.0000],\n",
              "         [0.0000]],\n",
              "\n",
              "        [[0.0000],\n",
              "         [0.0000],\n",
              "         [0.0000],\n",
              "         [0.0000],\n",
              "         [0.0000],\n",
              "         [0.0000],\n",
              "         [0.0000],\n",
              "         [0.0000],\n",
              "         [0.0000],\n",
              "         [0.0000],\n",
              "         [0.0000],\n",
              "         [0.0000],\n",
              "         [0.0000],\n",
              "         [0.0000],\n",
              "         [0.0000],\n",
              "         [0.0000],\n",
              "         [0.0000],\n",
              "         [0.0000],\n",
              "         [0.0000],\n",
              "         [0.0000],\n",
              "         [0.0000],\n",
              "         [0.0000],\n",
              "         [0.0000],\n",
              "         [0.0000],\n",
              "         [0.0000],\n",
              "         [0.0000],\n",
              "         [0.0000],\n",
              "         [0.0000]],\n",
              "\n",
              "        [[0.0000],\n",
              "         [0.0000],\n",
              "         [0.0000],\n",
              "         [0.0000],\n",
              "         [0.0000],\n",
              "         [0.0000],\n",
              "         [0.0000],\n",
              "         [0.0000],\n",
              "         [0.0000],\n",
              "         [0.0000],\n",
              "         [0.0000],\n",
              "         [0.0000],\n",
              "         [0.0000],\n",
              "         [0.0000],\n",
              "         [0.0000],\n",
              "         [0.0000],\n",
              "         [0.0000],\n",
              "         [0.0000],\n",
              "         [0.0000],\n",
              "         [0.0000],\n",
              "         [0.0000],\n",
              "         [0.0000],\n",
              "         [0.0000],\n",
              "         [0.0000],\n",
              "         [0.0000],\n",
              "         [0.0000],\n",
              "         [0.0000],\n",
              "         [0.0000]],\n",
              "\n",
              "        [[0.0000],\n",
              "         [0.0000],\n",
              "         [0.0000],\n",
              "         [0.0000],\n",
              "         [0.0000],\n",
              "         [0.0000],\n",
              "         [0.0000],\n",
              "         [0.0000],\n",
              "         [0.0000],\n",
              "         [0.0000],\n",
              "         [0.0000],\n",
              "         [0.0000],\n",
              "         [0.0000],\n",
              "         [0.0000],\n",
              "         [0.0000],\n",
              "         [0.0000],\n",
              "         [0.0000],\n",
              "         [0.0000],\n",
              "         [0.0000],\n",
              "         [0.0000],\n",
              "         [0.0000],\n",
              "         [0.0000],\n",
              "         [0.0000],\n",
              "         [0.0000],\n",
              "         [0.0000],\n",
              "         [0.0000],\n",
              "         [0.0000],\n",
              "         [0.0000]],\n",
              "\n",
              "        [[0.0000],\n",
              "         [0.0000],\n",
              "         [0.0000],\n",
              "         [0.0000],\n",
              "         [0.0000],\n",
              "         [0.0000],\n",
              "         [0.0000],\n",
              "         [0.0000],\n",
              "         [0.0000],\n",
              "         [0.0000],\n",
              "         [0.0000],\n",
              "         [0.0000],\n",
              "         [0.0000],\n",
              "         [0.0000],\n",
              "         [0.0000],\n",
              "         [0.0000],\n",
              "         [0.0000],\n",
              "         [0.0000],\n",
              "         [0.0000],\n",
              "         [0.0000],\n",
              "         [0.0000],\n",
              "         [0.0000],\n",
              "         [0.0000],\n",
              "         [0.0000],\n",
              "         [0.0000],\n",
              "         [0.0000],\n",
              "         [0.0000],\n",
              "         [0.0000]]])"
            ]
          },
          "metadata": {
            "tags": []
          },
          "execution_count": 15
        }
      ]
    },
    {
      "cell_type": "code",
      "metadata": {
        "colab": {
          "base_uri": "https://localhost:8080/",
          "height": 320
        },
        "id": "RBNdeLeRmZBR",
        "outputId": "0b38b24f-5f73-4c10-a899-b90450a47216"
      },
      "source": [
        "# tensorから2次元のarrayに変換する\n",
        "sns.heatmap(img_permute.numpy()[:, :, 0])"
      ],
      "execution_count": 16,
      "outputs": [
        {
          "output_type": "stream",
          "text": [
            "\n",
            "\n"
          ],
          "name": "stdout"
        },
        {
          "output_type": "execute_result",
          "data": {
            "text/plain": [
              "<matplotlib.axes._subplots.AxesSubplot at 0x7f1754455c18>"
            ]
          },
          "metadata": {
            "tags": []
          },
          "execution_count": 16
        },
        {
          "output_type": "display_data",
          "data": {
            "image/png": "[encoded data removed]",
            "text/plain": [
              "<Figure size 432x288 with 2 Axes>"
            ]
          },
          "metadata": {
            "tags": [],
            "needs_background": "light"
          }
        }
      ]
    },
    {
      "cell_type": "code",
      "metadata": {
        "colab": {
          "base_uri": "https://localhost:8080/"
        },
        "id": "MqLAtdOhmeH5",
        "outputId": "d90da834-66db-4ee4-b585-06af6aaccd4b"
      },
      "source": [
        "labels[0]"
      ],
      "execution_count": 17,
      "outputs": [
        {
          "output_type": "execute_result",
          "data": {
            "text/plain": [
              "tensor(5)"
            ]
          },
          "metadata": {
            "tags": []
          },
          "execution_count": 17
        }
      ]
    },
    {
      "cell_type": "code",
      "metadata": {
        "id": "CPdP5usemruv"
      },
      "source": [
        "class MLP(nn.Module):\n",
        "    def __init__(self):\n",
        "        super().__init__()\n",
        "        self.classifier = nn.Sequential(\n",
        "            # 第1引数：input\n",
        "            # 第2引数：output\n",
        "            nn.Linear(28 * 28, 400),\n",
        "            # メモリを節約出来る\n",
        "            nn.ReLU(inplace=True),\n",
        "            nn.Linear(400, 200),\n",
        "            nn.ReLU(inplace=True),\n",
        "            nn.Linear(200, 100),\n",
        "            nn.ReLU(inplace=True),\n",
        "            nn.Linear(100, 10)\n",
        "        )\n",
        "    def forward(self, x):\n",
        "        output = self.classifier(x)\n",
        "        return output"
      ],
      "execution_count": 18,
      "outputs": []
    },
    {
      "cell_type": "code",
      "metadata": {
        "id": "dNunXFu_nexV"
      },
      "source": [
        "model = MLP()"
      ],
      "execution_count": 19,
      "outputs": []
    },
    {
      "cell_type": "code",
      "metadata": {
        "colab": {
          "base_uri": "https://localhost:8080/"
        },
        "id": "-mp3WGIbniXA",
        "outputId": "83bdf81f-a3a4-42ee-e315-da1dfd781c7c"
      },
      "source": [
        "model.to(device)"
      ],
      "execution_count": 20,
      "outputs": [
        {
          "output_type": "execute_result",
          "data": {
            "text/plain": [
              "MLP(\n",
              "  (classifier): Sequential(\n",
              "    (0): Linear(in_features=784, out_features=400, bias=True)\n",
              "    (1): ReLU(inplace=True)\n",
              "    (2): Linear(in_features=400, out_features=200, bias=True)\n",
              "    (3): ReLU(inplace=True)\n",
              "    (4): Linear(in_features=200, out_features=100, bias=True)\n",
              "    (5): ReLU(inplace=True)\n",
              "    (6): Linear(in_features=100, out_features=10, bias=True)\n",
              "  )\n",
              ")"
            ]
          },
          "metadata": {
            "tags": []
          },
          "execution_count": 20
        }
      ]
    },
    {
      "cell_type": "code",
      "metadata": {
        "id": "Ue9kmbBOnlUW"
      },
      "source": [
        "criterion = nn.CrossEntropyLoss()\n",
        "optimizer = optim.Adam(model.parameters(), lr=0.001)"
      ],
      "execution_count": 21,
      "outputs": []
    },
    {
      "cell_type": "code",
      "metadata": {
        "colab": {
          "base_uri": "https://localhost:8080/"
        },
        "id": "gA54TR05oWq_",
        "outputId": "f45b8fcd-1a0a-469d-ae67-74007805975d"
      },
      "source": [
        "num_epochs = 15\n",
        "losses = []\n",
        "accs = []\n",
        "for epoch in range(num_epochs):\n",
        "    running_loss = 0.0\n",
        "    running_acc = 0.0\n",
        "    for imgs, labels in train_dataloader:\n",
        "        imgs = imgs.view(num_batches, -1)\n",
        "        imgs = imgs.to(device)\n",
        "        labels = labels.to(device)\n",
        "        optimizer.zero_grad()\n",
        "        output = model(imgs)\n",
        "        loss = criterion(output, labels)\n",
        "        running_loss += loss.item()\n",
        "        # dim=1 => 0-9の分類方向のMax値を返す\n",
        "        pred = torch.argmax(output, dim=1)\n",
        "        running_acc += torch.mean(pred.eq(labels).float())\n",
        "        loss.backward()\n",
        "        optimizer.step()\n",
        "    # 600回分で割る\n",
        "    running_loss /= len(train_dataloader)\n",
        "    running_acc /= len(train_dataloader)\n",
        "    losses.append(running_loss)\n",
        "    accs.append(running_acc)\n",
        "    print(\"epoch: {}, loss: {}, acc: {}\".format(epoch, running_loss, running_acc))"
      ],
      "execution_count": 22,
      "outputs": [
        {
          "output_type": "stream",
          "text": [
            "epoch: 0, loss: 0.3144182890901963, acc: 0.9040172100067139\n",
            "epoch: 1, loss: 0.10678012145062288, acc: 0.9672999978065491\n",
            "epoch: 2, loss: 0.06977350709688229, acc: 0.978699266910553\n",
            "epoch: 3, loss: 0.05080254869457955, acc: 0.9838324785232544\n",
            "epoch: 4, loss: 0.03807236930190508, acc: 0.9884151220321655\n",
            "epoch: 5, loss: 0.030108206117680916, acc: 0.9902483224868774\n",
            "epoch: 6, loss: 0.02514307263501299, acc: 0.9920487403869629\n",
            "epoch: 7, loss: 0.021965318746709574, acc: 0.99261474609375\n",
            "epoch: 8, loss: 0.017465066731674597, acc: 0.9945650100708008\n",
            "epoch: 9, loss: 0.01654982843004594, acc: 0.9944486618041992\n",
            "epoch: 10, loss: 0.01726974661234029, acc: 0.9946150779724121\n",
            "epoch: 11, loss: 0.012983597406328045, acc: 0.9957318902015686\n",
            "epoch: 12, loss: 0.010266869831981846, acc: 0.9965323805809021\n",
            "epoch: 13, loss: 0.014592967388795538, acc: 0.9951822757720947\n",
            "epoch: 14, loss: 0.00960112084202592, acc: 0.9969321489334106\n"
          ],
          "name": "stdout"
        }
      ]
    },
    {
      "cell_type": "code",
      "metadata": {
        "colab": {
          "base_uri": "https://localhost:8080/",
          "height": 282
        },
        "id": "1j-nMNHOqMiS",
        "outputId": "0b72abfc-089b-4129-bca8-7fd8cf3e6212"
      },
      "source": [
        "plt.plot(losses)"
      ],
      "execution_count": 23,
      "outputs": [
        {
          "output_type": "execute_result",
          "data": {
            "text/plain": [
              "[<matplotlib.lines.Line2D at 0x7f17514ebe80>]"
            ]
          },
          "metadata": {
            "tags": []
          },
          "execution_count": 23
        },
        {
          "output_type": "display_data",
          "data": {
            "image/png": "[encoded data removed]",
            "text/plain": [
              "<Figure size 432x288 with 1 Axes>"
            ]
          },
          "metadata": {
            "tags": [],
            "needs_background": "light"
          }
        }
      ]
    },
    {
      "cell_type": "code",
      "metadata": {
        "colab": {
          "base_uri": "https://localhost:8080/",
          "height": 283
        },
        "id": "pfooZ7qxq4ci",
        "outputId": "d54b8e26-1d0c-4892-fa06-52b546a36754"
      },
      "source": [
        "plt.plot(accs)"
      ],
      "execution_count": 24,
      "outputs": [
        {
          "output_type": "execute_result",
          "data": {
            "text/plain": [
              "[<matplotlib.lines.Line2D at 0x7f17515d7da0>]"
            ]
          },
          "metadata": {
            "tags": []
          },
          "execution_count": 24
        },
        {
          "output_type": "display_data",
          "data": {
            "image/png": "[encoded data removed]",
            "text/plain": [
              "<Figure size 432x288 with 1 Axes>"
            ]
          },
          "metadata": {
            "tags": [],
            "needs_background": "light"
          }
        }
      ]
    },
    {
      "cell_type": "code",
      "metadata": {
        "id": "Z2hBAra3q8gg"
      },
      "source": [
        "train_iter = iter(train_dataloader)"
      ],
      "execution_count": 25,
      "outputs": []
    },
    {
      "cell_type": "code",
      "metadata": {
        "id": "fqkJyrIvrKfp"
      },
      "source": [
        "imgs, labels = train_iter.next()"
      ],
      "execution_count": 26,
      "outputs": []
    },
    {
      "cell_type": "code",
      "metadata": {
        "colab": {
          "base_uri": "https://localhost:8080/"
        },
        "id": "Cl9N84LmrNlj",
        "outputId": "73ba7c87-f617-477b-cdbe-2ba39fd59dd8"
      },
      "source": [
        "labels"
      ],
      "execution_count": 27,
      "outputs": [
        {
          "output_type": "execute_result",
          "data": {
            "text/plain": [
              "tensor([8, 4, 3, 2, 9, 7, 7, 6, 5, 8, 6, 4, 6, 5, 9, 6, 6, 7, 7, 6, 9, 3, 1, 7,\n",
              "        4, 0, 6, 8, 6, 7, 8, 9, 3, 6, 5, 9, 8, 6, 0, 4, 2, 1, 6, 8, 0, 8, 1, 0,\n",
              "        7, 8, 4, 2, 9, 3, 6, 1, 8, 1, 8, 4, 7, 2, 9, 0, 6, 8, 9, 9, 5, 7, 5, 8,\n",
              "        2, 5, 9, 0, 3, 7, 0, 7, 8, 5, 1, 1, 8, 4, 4, 0, 6, 3, 1, 0, 7, 4, 5, 0,\n",
              "        3, 0, 9, 8])"
            ]
          },
          "metadata": {
            "tags": []
          },
          "execution_count": 27
        }
      ]
    },
    {
      "cell_type": "code",
      "metadata": {
        "id": "L07SmP3ArO7I"
      },
      "source": [
        "imgs_gpu = imgs.view(100, -1).to(device)\n",
        "output= model(imgs_gpu)"
      ],
      "execution_count": 28,
      "outputs": []
    },
    {
      "cell_type": "code",
      "metadata": {
        "id": "nDZxmWNSrftX"
      },
      "source": [
        "pred = torch.argmax(output, dim=1)"
      ],
      "execution_count": 29,
      "outputs": []
    },
    {
      "cell_type": "code",
      "metadata": {
        "colab": {
          "base_uri": "https://localhost:8080/"
        },
        "id": "4IMUJoEsrlWY",
        "outputId": "389df4de-58b1-4ba9-d40a-51a81ff1bcc7"
      },
      "source": [
        "pred"
      ],
      "execution_count": 30,
      "outputs": [
        {
          "output_type": "execute_result",
          "data": {
            "text/plain": [
              "tensor([8, 4, 3, 2, 9, 7, 7, 6, 5, 8, 6, 4, 6, 5, 9, 6, 6, 7, 7, 6, 9, 3, 1, 7,\n",
              "        4, 0, 6, 8, 6, 7, 8, 9, 3, 6, 5, 9, 8, 6, 0, 4, 2, 1, 6, 8, 0, 8, 1, 0,\n",
              "        7, 8, 4, 2, 9, 3, 6, 1, 8, 1, 8, 4, 7, 2, 9, 0, 6, 8, 9, 9, 5, 7, 5, 8,\n",
              "        2, 5, 9, 0, 3, 7, 0, 7, 8, 5, 1, 1, 8, 4, 4, 0, 6, 3, 1, 0, 7, 4, 5, 0,\n",
              "        3, 0, 9, 8])"
            ]
          },
          "metadata": {
            "tags": []
          },
          "execution_count": 30
        }
      ]
    },
    {
      "cell_type": "code",
      "metadata": {
        "id": "zbRBE2jMrmYZ"
      },
      "source": [
        "# 重み、バイアスを抜き出す\n",
        "params = model.state_dict()"
      ],
      "execution_count": 31,
      "outputs": []
    },
    {
      "cell_type": "code",
      "metadata": {
        "id": "mKFnt9_usJzh"
      },
      "source": [
        "# 抜き出した重み、バイアスをprmファイルに保存する。\n",
        "torch.save(params, \"model.prm\")"
      ],
      "execution_count": 32,
      "outputs": []
    },
    {
      "cell_type": "code",
      "metadata": {
        "colab": {
          "base_uri": "https://localhost:8080/"
        },
        "id": "M8F8HddMsPgp",
        "outputId": "413b87e7-8c70-4322-f1f0-fbb2da5713a1"
      },
      "source": [
        "!ls"
      ],
      "execution_count": 33,
      "outputs": [
        {
          "output_type": "stream",
          "text": [
            "data  model.prm  sample_data\n"
          ],
          "name": "stdout"
        }
      ]
    },
    {
      "cell_type": "code",
      "metadata": {
        "id": "utltbvfxsV83"
      },
      "source": [
        "param_load = torch.load(\"model.prm\")"
      ],
      "execution_count": 34,
      "outputs": []
    },
    {
      "cell_type": "code",
      "metadata": {
        "colab": {
          "base_uri": "https://localhost:8080/"
        },
        "id": "x6vIrO6EsfPn",
        "outputId": "112d06b7-f62a-45ad-92b3-c00cb00ac386"
      },
      "source": [
        "model.load_state_dict(param_load)"
      ],
      "execution_count": 35,
      "outputs": [
        {
          "output_type": "execute_result",
          "data": {
            "text/plain": [
              "<All keys matched successfully>"
            ]
          },
          "metadata": {
            "tags": []
          },
          "execution_count": 35
        }
      ]
    },
    {
      "cell_type": "code",
      "metadata": {
        "colab": {
          "base_uri": "https://localhost:8080/"
        },
        "id": "aKKnVyXpsj7n",
        "outputId": "c4ae56b6-278c-42dc-bb45-47c51922fcd9"
      },
      "source": [
        "num_epochs = 10\n",
        "losses = []\n",
        "accs = []\n",
        "for epoch in range(num_epochs):\n",
        "    running_loss = 0.0\n",
        "    running_acc = 0.0\n",
        "    for imgs, labels in train_dataloader:\n",
        "        imgs = imgs.view(num_batches, -1)\n",
        "        imgs = imgs.to(device)\n",
        "        labels = labels.to(device)\n",
        "        optimizer.zero_grad()\n",
        "        output = model(imgs)\n",
        "        loss = criterion(output, labels)\n",
        "        running_loss += loss.item()\n",
        "        # dim=1 => 0-9の分類方向のMax値を返す\n",
        "        pred = torch.argmax(output, dim=1)\n",
        "        running_acc += torch.mean(pred.eq(labels).float())\n",
        "        loss.backward()\n",
        "        optimizer.step()\n",
        "    # 600回分で割る\n",
        "    running_loss /= len(train_dataloader)\n",
        "    running_acc /= len(train_dataloader)\n",
        "    losses.append(running_loss)\n",
        "    accs.append(running_acc)\n",
        "    print(\"epoch: {}, loss: {}, acc: {}\".format(epoch, running_loss, running_acc))"
      ],
      "execution_count": 36,
      "outputs": [
        {
          "output_type": "stream",
          "text": [
            "epoch: 0, loss: 0.01329927400600809, acc: 0.9961652755737305\n",
            "epoch: 1, loss: 0.007679990973741345, acc: 0.9977990984916687\n",
            "epoch: 2, loss: 0.008979191901667037, acc: 0.9971490502357483\n",
            "epoch: 3, loss: 0.009341739794928496, acc: 0.9969989061355591\n",
            "epoch: 4, loss: 0.007988007768026363, acc: 0.9976492524147034\n",
            "epoch: 5, loss: 0.008332742984907781, acc: 0.9973315596580505\n",
            "epoch: 6, loss: 0.006474268563735374, acc: 0.9979825615882874\n",
            "epoch: 7, loss: 0.008563532610366261, acc: 0.9973323345184326\n",
            "epoch: 8, loss: 0.005235775806599652, acc: 0.998366117477417\n",
            "epoch: 9, loss: 0.008188722305379391, acc: 0.9978159666061401\n"
          ],
          "name": "stdout"
        }
      ]
    }
  ]
}