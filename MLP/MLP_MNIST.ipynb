{
  "nbformat": 4,
  "nbformat_minor": 0,
  "metadata": {
    "accelerator": "GPU",
    "colab": {
      "name": "MLP_MNIST.ipynb",
      "provenance": [],
      "collapsed_sections": []
    },
    "kernelspec": {
      "display_name": "Python 3",
      "language": "python",
      "name": "python3"
    },
    "language_info": {
      "codemirror_mode": {
        "name": "ipython",
        "version": 3
      },
      "file_extension": ".py",
      "mimetype": "text/x-python",
      "name": "python",
      "nbconvert_exporter": "python",
      "pygments_lexer": "ipython3",
      "version": "3.5.5"
    },
    "widgets": {
      "application/vnd.jupyter.widget-state+json": {
        "d7a60f3f0f034e65b609f084c973d021": {
          "model_module": "@jupyter-widgets/controls",
          "model_name": "HBoxModel",
          "state": {
            "_view_name": "HBoxView",
            "_dom_classes": [],
            "_model_name": "HBoxModel",
            "_view_module": "@jupyter-widgets/controls",
            "_model_module_version": "1.5.0",
            "_view_count": null,
            "_view_module_version": "1.5.0",
            "box_style": "",
            "layout": "IPY_MODEL_59a782501f58432cba4b14e8bfbcc5b5",
            "_model_module": "@jupyter-widgets/controls",
            "children": [
              "IPY_MODEL_9793c42d4539447fa82265c79672f84b",
              "IPY_MODEL_3cc6541528804a1c810b4098ebc598c4"
            ]
          }
        },
        "59a782501f58432cba4b14e8bfbcc5b5": {
          "model_module": "@jupyter-widgets/base",
          "model_name": "LayoutModel",
          "state": {
            "_view_name": "LayoutView",
            "grid_template_rows": null,
            "right": null,
            "justify_content": null,
            "_view_module": "@jupyter-widgets/base",
            "overflow": null,
            "_model_module_version": "1.2.0",
            "_view_count": null,
            "flex_flow": null,
            "width": null,
            "min_width": null,
            "border": null,
            "align_items": null,
            "bottom": null,
            "_model_module": "@jupyter-widgets/base",
            "top": null,
            "grid_column": null,
            "overflow_y": null,
            "overflow_x": null,
            "grid_auto_flow": null,
            "grid_area": null,
            "grid_template_columns": null,
            "flex": null,
            "_model_name": "LayoutModel",
            "justify_items": null,
            "grid_row": null,
            "max_height": null,
            "align_content": null,
            "visibility": null,
            "align_self": null,
            "height": null,
            "min_height": null,
            "padding": null,
            "grid_auto_rows": null,
            "grid_gap": null,
            "max_width": null,
            "order": null,
            "_view_module_version": "1.2.0",
            "grid_template_areas": null,
            "object_position": null,
            "object_fit": null,
            "grid_auto_columns": null,
            "margin": null,
            "display": null,
            "left": null
          }
        },
        "9793c42d4539447fa82265c79672f84b": {
          "model_module": "@jupyter-widgets/controls",
          "model_name": "FloatProgressModel",
          "state": {
            "_view_name": "ProgressView",
            "style": "IPY_MODEL_69a16c3ad7764b3a9525a8c08ba3a278",
            "_dom_classes": [],
            "description": "",
            "_model_name": "FloatProgressModel",
            "bar_style": "success",
            "max": 1,
            "_view_module": "@jupyter-widgets/controls",
            "_model_module_version": "1.5.0",
            "value": 1,
            "_view_count": null,
            "_view_module_version": "1.5.0",
            "orientation": "horizontal",
            "min": 0,
            "description_tooltip": null,
            "_model_module": "@jupyter-widgets/controls",
            "layout": "IPY_MODEL_97ef2f36fee04d24b4e9e20c5b2d0e5d"
          }
        },
        "3cc6541528804a1c810b4098ebc598c4": {
          "model_module": "@jupyter-widgets/controls",
          "model_name": "HTMLModel",
          "state": {
            "_view_name": "HTMLView",
            "style": "IPY_MODEL_716294e32da84465a310bfa6f2256a37",
            "_dom_classes": [],
            "description": "",
            "_model_name": "HTMLModel",
            "placeholder": "​",
            "_view_module": "@jupyter-widgets/controls",
            "_model_module_version": "1.5.0",
            "value": " 9920512/? [00:01&lt;00:00, 5308420.22it/s]",
            "_view_count": null,
            "_view_module_version": "1.5.0",
            "description_tooltip": null,
            "_model_module": "@jupyter-widgets/controls",
            "layout": "IPY_MODEL_96046f7ea9f548b1aadbc1062962ff0b"
          }
        },
        "69a16c3ad7764b3a9525a8c08ba3a278": {
          "model_module": "@jupyter-widgets/controls",
          "model_name": "ProgressStyleModel",
          "state": {
            "_view_name": "StyleView",
            "_model_name": "ProgressStyleModel",
            "description_width": "initial",
            "_view_module": "@jupyter-widgets/base",
            "_model_module_version": "1.5.0",
            "_view_count": null,
            "_view_module_version": "1.2.0",
            "bar_color": null,
            "_model_module": "@jupyter-widgets/controls"
          }
        },
        "97ef2f36fee04d24b4e9e20c5b2d0e5d": {
          "model_module": "@jupyter-widgets/base",
          "model_name": "LayoutModel",
          "state": {
            "_view_name": "LayoutView",
            "grid_template_rows": null,
            "right": null,
            "justify_content": null,
            "_view_module": "@jupyter-widgets/base",
            "overflow": null,
            "_model_module_version": "1.2.0",
            "_view_count": null,
            "flex_flow": null,
            "width": null,
            "min_width": null,
            "border": null,
            "align_items": null,
            "bottom": null,
            "_model_module": "@jupyter-widgets/base",
            "top": null,
            "grid_column": null,
            "overflow_y": null,
            "overflow_x": null,
            "grid_auto_flow": null,
            "grid_area": null,
            "grid_template_columns": null,
            "flex": null,
            "_model_name": "LayoutModel",
            "justify_items": null,
            "grid_row": null,
            "max_height": null,
            "align_content": null,
            "visibility": null,
            "align_self": null,
            "height": null,
            "min_height": null,
            "padding": null,
            "grid_auto_rows": null,
            "grid_gap": null,
            "max_width": null,
            "order": null,
            "_view_module_version": "1.2.0",
            "grid_template_areas": null,
            "object_position": null,
            "object_fit": null,
            "grid_auto_columns": null,
            "margin": null,
            "display": null,
            "left": null
          }
        },
        "716294e32da84465a310bfa6f2256a37": {
          "model_module": "@jupyter-widgets/controls",
          "model_name": "DescriptionStyleModel",
          "state": {
            "_view_name": "StyleView",
            "_model_name": "DescriptionStyleModel",
            "description_width": "",
            "_view_module": "@jupyter-widgets/base",
            "_model_module_version": "1.5.0",
            "_view_count": null,
            "_view_module_version": "1.2.0",
            "_model_module": "@jupyter-widgets/controls"
          }
        },
        "96046f7ea9f548b1aadbc1062962ff0b": {
          "model_module": "@jupyter-widgets/base",
          "model_name": "LayoutModel",
          "state": {
            "_view_name": "LayoutView",
            "grid_template_rows": null,
            "right": null,
            "justify_content": null,
            "_view_module": "@jupyter-widgets/base",
            "overflow": null,
            "_model_module_version": "1.2.0",
            "_view_count": null,
            "flex_flow": null,
            "width": null,
            "min_width": null,
            "border": null,
            "align_items": null,
            "bottom": null,
            "_model_module": "@jupyter-widgets/base",
            "top": null,
            "grid_column": null,
            "overflow_y": null,
            "overflow_x": null,
            "grid_auto_flow": null,
            "grid_area": null,
            "grid_template_columns": null,
            "flex": null,
            "_model_name": "LayoutModel",
            "justify_items": null,
            "grid_row": null,
            "max_height": null,
            "align_content": null,
            "visibility": null,
            "align_self": null,
            "height": null,
            "min_height": null,
            "padding": null,
            "grid_auto_rows": null,
            "grid_gap": null,
            "max_width": null,
            "order": null,
            "_view_module_version": "1.2.0",
            "grid_template_areas": null,
            "object_position": null,
            "object_fit": null,
            "grid_auto_columns": null,
            "margin": null,
            "display": null,
            "left": null
          }
        },
        "ffc5b8f4f58948a180f7e6e49191fc61": {
          "model_module": "@jupyter-widgets/controls",
          "model_name": "HBoxModel",
          "state": {
            "_view_name": "HBoxView",
            "_dom_classes": [],
            "_model_name": "HBoxModel",
            "_view_module": "@jupyter-widgets/controls",
            "_model_module_version": "1.5.0",
            "_view_count": null,
            "_view_module_version": "1.5.0",
            "box_style": "",
            "layout": "IPY_MODEL_1e54510526e841a4997cf775d9985c1c",
            "_model_module": "@jupyter-widgets/controls",
            "children": [
              "IPY_MODEL_c270203c56304f0c8ac1cfbad1aa27d0",
              "IPY_MODEL_322c24dd751a452bb56ea26fbda85bf3"
            ]
          }
        },
        "1e54510526e841a4997cf775d9985c1c": {
          "model_module": "@jupyter-widgets/base",
          "model_name": "LayoutModel",
          "state": {
            "_view_name": "LayoutView",
            "grid_template_rows": null,
            "right": null,
            "justify_content": null,
            "_view_module": "@jupyter-widgets/base",
            "overflow": null,
            "_model_module_version": "1.2.0",
            "_view_count": null,
            "flex_flow": null,
            "width": null,
            "min_width": null,
            "border": null,
            "align_items": null,
            "bottom": null,
            "_model_module": "@jupyter-widgets/base",
            "top": null,
            "grid_column": null,
            "overflow_y": null,
            "overflow_x": null,
            "grid_auto_flow": null,
            "grid_area": null,
            "grid_template_columns": null,
            "flex": null,
            "_model_name": "LayoutModel",
            "justify_items": null,
            "grid_row": null,
            "max_height": null,
            "align_content": null,
            "visibility": null,
            "align_self": null,
            "height": null,
            "min_height": null,
            "padding": null,
            "grid_auto_rows": null,
            "grid_gap": null,
            "max_width": null,
            "order": null,
            "_view_module_version": "1.2.0",
            "grid_template_areas": null,
            "object_position": null,
            "object_fit": null,
            "grid_auto_columns": null,
            "margin": null,
            "display": null,
            "left": null
          }
        },
        "c270203c56304f0c8ac1cfbad1aa27d0": {
          "model_module": "@jupyter-widgets/controls",
          "model_name": "FloatProgressModel",
          "state": {
            "_view_name": "ProgressView",
            "style": "IPY_MODEL_84004440d5844cf6a0a9f74fe3b6d9ba",
            "_dom_classes": [],
            "description": "",
            "_model_name": "FloatProgressModel",
            "bar_style": "success",
            "max": 1,
            "_view_module": "@jupyter-widgets/controls",
            "_model_module_version": "1.5.0",
            "value": 1,
            "_view_count": null,
            "_view_module_version": "1.5.0",
            "orientation": "horizontal",
            "min": 0,
            "description_tooltip": null,
            "_model_module": "@jupyter-widgets/controls",
            "layout": "IPY_MODEL_b620f75f1f504fa7a574dac3582fec7c"
          }
        },
        "322c24dd751a452bb56ea26fbda85bf3": {
          "model_module": "@jupyter-widgets/controls",
          "model_name": "HTMLModel",
          "state": {
            "_view_name": "HTMLView",
            "style": "IPY_MODEL_76793445210a4fb2a23187baa67ec231",
            "_dom_classes": [],
            "description": "",
            "_model_name": "HTMLModel",
            "placeholder": "​",
            "_view_module": "@jupyter-widgets/controls",
            "_model_module_version": "1.5.0",
            "value": " 32768/? [00:00&lt;00:00, 270035.10it/s]",
            "_view_count": null,
            "_view_module_version": "1.5.0",
            "description_tooltip": null,
            "_model_module": "@jupyter-widgets/controls",
            "layout": "IPY_MODEL_6c0c12379194496892d7706a843490b6"
          }
        },
        "84004440d5844cf6a0a9f74fe3b6d9ba": {
          "model_module": "@jupyter-widgets/controls",
          "model_name": "ProgressStyleModel",
          "state": {
            "_view_name": "StyleView",
            "_model_name": "ProgressStyleModel",
            "description_width": "initial",
            "_view_module": "@jupyter-widgets/base",
            "_model_module_version": "1.5.0",
            "_view_count": null,
            "_view_module_version": "1.2.0",
            "bar_color": null,
            "_model_module": "@jupyter-widgets/controls"
          }
        },
        "b620f75f1f504fa7a574dac3582fec7c": {
          "model_module": "@jupyter-widgets/base",
          "model_name": "LayoutModel",
          "state": {
            "_view_name": "LayoutView",
            "grid_template_rows": null,
            "right": null,
            "justify_content": null,
            "_view_module": "@jupyter-widgets/base",
            "overflow": null,
            "_model_module_version": "1.2.0",
            "_view_count": null,
            "flex_flow": null,
            "width": null,
            "min_width": null,
            "border": null,
            "align_items": null,
            "bottom": null,
            "_model_module": "@jupyter-widgets/base",
            "top": null,
            "grid_column": null,
            "overflow_y": null,
            "overflow_x": null,
            "grid_auto_flow": null,
            "grid_area": null,
            "grid_template_columns": null,
            "flex": null,
            "_model_name": "LayoutModel",
            "justify_items": null,
            "grid_row": null,
            "max_height": null,
            "align_content": null,
            "visibility": null,
            "align_self": null,
            "height": null,
            "min_height": null,
            "padding": null,
            "grid_auto_rows": null,
            "grid_gap": null,
            "max_width": null,
            "order": null,
            "_view_module_version": "1.2.0",
            "grid_template_areas": null,
            "object_position": null,
            "object_fit": null,
            "grid_auto_columns": null,
            "margin": null,
            "display": null,
            "left": null
          }
        },
        "76793445210a4fb2a23187baa67ec231": {
          "model_module": "@jupyter-widgets/controls",
          "model_name": "DescriptionStyleModel",
          "state": {
            "_view_name": "StyleView",
            "_model_name": "DescriptionStyleModel",
            "description_width": "",
            "_view_module": "@jupyter-widgets/base",
            "_model_module_version": "1.5.0",
            "_view_count": null,
            "_view_module_version": "1.2.0",
            "_model_module": "@jupyter-widgets/controls"
          }
        },
        "6c0c12379194496892d7706a843490b6": {
          "model_module": "@jupyter-widgets/base",
          "model_name": "LayoutModel",
          "state": {
            "_view_name": "LayoutView",
            "grid_template_rows": null,
            "right": null,
            "justify_content": null,
            "_view_module": "@jupyter-widgets/base",
            "overflow": null,
            "_model_module_version": "1.2.0",
            "_view_count": null,
            "flex_flow": null,
            "width": null,
            "min_width": null,
            "border": null,
            "align_items": null,
            "bottom": null,
            "_model_module": "@jupyter-widgets/base",
            "top": null,
            "grid_column": null,
            "overflow_y": null,
            "overflow_x": null,
            "grid_auto_flow": null,
            "grid_area": null,
            "grid_template_columns": null,
            "flex": null,
            "_model_name": "LayoutModel",
            "justify_items": null,
            "grid_row": null,
            "max_height": null,
            "align_content": null,
            "visibility": null,
            "align_self": null,
            "height": null,
            "min_height": null,
            "padding": null,
            "grid_auto_rows": null,
            "grid_gap": null,
            "max_width": null,
            "order": null,
            "_view_module_version": "1.2.0",
            "grid_template_areas": null,
            "object_position": null,
            "object_fit": null,
            "grid_auto_columns": null,
            "margin": null,
            "display": null,
            "left": null
          }
        },
        "298c9d716a3048bc9729ee7059920849": {
          "model_module": "@jupyter-widgets/controls",
          "model_name": "HBoxModel",
          "state": {
            "_view_name": "HBoxView",
            "_dom_classes": [],
            "_model_name": "HBoxModel",
            "_view_module": "@jupyter-widgets/controls",
            "_model_module_version": "1.5.0",
            "_view_count": null,
            "_view_module_version": "1.5.0",
            "box_style": "",
            "layout": "IPY_MODEL_2137e27a50ad45c5a55a48249b52793c",
            "_model_module": "@jupyter-widgets/controls",
            "children": [
              "IPY_MODEL_8ea3ed82f7634c459527c6e87e791884",
              "IPY_MODEL_84f18632d4824080bbca83093a7efc3c"
            ]
          }
        },
        "2137e27a50ad45c5a55a48249b52793c": {
          "model_module": "@jupyter-widgets/base",
          "model_name": "LayoutModel",
          "state": {
            "_view_name": "LayoutView",
            "grid_template_rows": null,
            "right": null,
            "justify_content": null,
            "_view_module": "@jupyter-widgets/base",
            "overflow": null,
            "_model_module_version": "1.2.0",
            "_view_count": null,
            "flex_flow": null,
            "width": null,
            "min_width": null,
            "border": null,
            "align_items": null,
            "bottom": null,
            "_model_module": "@jupyter-widgets/base",
            "top": null,
            "grid_column": null,
            "overflow_y": null,
            "overflow_x": null,
            "grid_auto_flow": null,
            "grid_area": null,
            "grid_template_columns": null,
            "flex": null,
            "_model_name": "LayoutModel",
            "justify_items": null,
            "grid_row": null,
            "max_height": null,
            "align_content": null,
            "visibility": null,
            "align_self": null,
            "height": null,
            "min_height": null,
            "padding": null,
            "grid_auto_rows": null,
            "grid_gap": null,
            "max_width": null,
            "order": null,
            "_view_module_version": "1.2.0",
            "grid_template_areas": null,
            "object_position": null,
            "object_fit": null,
            "grid_auto_columns": null,
            "margin": null,
            "display": null,
            "left": null
          }
        },
        "8ea3ed82f7634c459527c6e87e791884": {
          "model_module": "@jupyter-widgets/controls",
          "model_name": "FloatProgressModel",
          "state": {
            "_view_name": "ProgressView",
            "style": "IPY_MODEL_286e75858c45415dbb0255869bc5f1a1",
            "_dom_classes": [],
            "description": "",
            "_model_name": "FloatProgressModel",
            "bar_style": "success",
            "max": 1,
            "_view_module": "@jupyter-widgets/controls",
            "_model_module_version": "1.5.0",
            "value": 1,
            "_view_count": null,
            "_view_module_version": "1.5.0",
            "orientation": "horizontal",
            "min": 0,
            "description_tooltip": null,
            "_model_module": "@jupyter-widgets/controls",
            "layout": "IPY_MODEL_de690e4ac0f34d20927fa77d4f73ea06"
          }
        },
        "84f18632d4824080bbca83093a7efc3c": {
          "model_module": "@jupyter-widgets/controls",
          "model_name": "HTMLModel",
          "state": {
            "_view_name": "HTMLView",
            "style": "IPY_MODEL_4aa54f5a270743c690c32073fba0730b",
            "_dom_classes": [],
            "description": "",
            "_model_name": "HTMLModel",
            "placeholder": "​",
            "_view_module": "@jupyter-widgets/controls",
            "_model_module_version": "1.5.0",
            "value": " 1654784/? [00:01&lt;00:00, 1612929.33it/s]",
            "_view_count": null,
            "_view_module_version": "1.5.0",
            "description_tooltip": null,
            "_model_module": "@jupyter-widgets/controls",
            "layout": "IPY_MODEL_be0d011012214afda0fd5f3db63b5e74"
          }
        },
        "286e75858c45415dbb0255869bc5f1a1": {
          "model_module": "@jupyter-widgets/controls",
          "model_name": "ProgressStyleModel",
          "state": {
            "_view_name": "StyleView",
            "_model_name": "ProgressStyleModel",
            "description_width": "initial",
            "_view_module": "@jupyter-widgets/base",
            "_model_module_version": "1.5.0",
            "_view_count": null,
            "_view_module_version": "1.2.0",
            "bar_color": null,
            "_model_module": "@jupyter-widgets/controls"
          }
        },
        "de690e4ac0f34d20927fa77d4f73ea06": {
          "model_module": "@jupyter-widgets/base",
          "model_name": "LayoutModel",
          "state": {
            "_view_name": "LayoutView",
            "grid_template_rows": null,
            "right": null,
            "justify_content": null,
            "_view_module": "@jupyter-widgets/base",
            "overflow": null,
            "_model_module_version": "1.2.0",
            "_view_count": null,
            "flex_flow": null,
            "width": null,
            "min_width": null,
            "border": null,
            "align_items": null,
            "bottom": null,
            "_model_module": "@jupyter-widgets/base",
            "top": null,
            "grid_column": null,
            "overflow_y": null,
            "overflow_x": null,
            "grid_auto_flow": null,
            "grid_area": null,
            "grid_template_columns": null,
            "flex": null,
            "_model_name": "LayoutModel",
            "justify_items": null,
            "grid_row": null,
            "max_height": null,
            "align_content": null,
            "visibility": null,
            "align_self": null,
            "height": null,
            "min_height": null,
            "padding": null,
            "grid_auto_rows": null,
            "grid_gap": null,
            "max_width": null,
            "order": null,
            "_view_module_version": "1.2.0",
            "grid_template_areas": null,
            "object_position": null,
            "object_fit": null,
            "grid_auto_columns": null,
            "margin": null,
            "display": null,
            "left": null
          }
        },
        "4aa54f5a270743c690c32073fba0730b": {
          "model_module": "@jupyter-widgets/controls",
          "model_name": "DescriptionStyleModel",
          "state": {
            "_view_name": "StyleView",
            "_model_name": "DescriptionStyleModel",
            "description_width": "",
            "_view_module": "@jupyter-widgets/base",
            "_model_module_version": "1.5.0",
            "_view_count": null,
            "_view_module_version": "1.2.0",
            "_model_module": "@jupyter-widgets/controls"
          }
        },
        "be0d011012214afda0fd5f3db63b5e74": {
          "model_module": "@jupyter-widgets/base",
          "model_name": "LayoutModel",
          "state": {
            "_view_name": "LayoutView",
            "grid_template_rows": null,
            "right": null,
            "justify_content": null,
            "_view_module": "@jupyter-widgets/base",
            "overflow": null,
            "_model_module_version": "1.2.0",
            "_view_count": null,
            "flex_flow": null,
            "width": null,
            "min_width": null,
            "border": null,
            "align_items": null,
            "bottom": null,
            "_model_module": "@jupyter-widgets/base",
            "top": null,
            "grid_column": null,
            "overflow_y": null,
            "overflow_x": null,
            "grid_auto_flow": null,
            "grid_area": null,
            "grid_template_columns": null,
            "flex": null,
            "_model_name": "LayoutModel",
            "justify_items": null,
            "grid_row": null,
            "max_height": null,
            "align_content": null,
            "visibility": null,
            "align_self": null,
            "height": null,
            "min_height": null,
            "padding": null,
            "grid_auto_rows": null,
            "grid_gap": null,
            "max_width": null,
            "order": null,
            "_view_module_version": "1.2.0",
            "grid_template_areas": null,
            "object_position": null,
            "object_fit": null,
            "grid_auto_columns": null,
            "margin": null,
            "display": null,
            "left": null
          }
        },
        "eb1aa1bd321d4153a9ffd31344d27ae3": {
          "model_module": "@jupyter-widgets/controls",
          "model_name": "HBoxModel",
          "state": {
            "_view_name": "HBoxView",
            "_dom_classes": [],
            "_model_name": "HBoxModel",
            "_view_module": "@jupyter-widgets/controls",
            "_model_module_version": "1.5.0",
            "_view_count": null,
            "_view_module_version": "1.5.0",
            "box_style": "",
            "layout": "IPY_MODEL_1e7c9efc2e3b4992997aa70edc7f90ee",
            "_model_module": "@jupyter-widgets/controls",
            "children": [
              "IPY_MODEL_d11857cf5f264c0aaba3994ec5c021f7",
              "IPY_MODEL_950032b45162446097f2ed2c76576804"
            ]
          }
        },
        "1e7c9efc2e3b4992997aa70edc7f90ee": {
          "model_module": "@jupyter-widgets/base",
          "model_name": "LayoutModel",
          "state": {
            "_view_name": "LayoutView",
            "grid_template_rows": null,
            "right": null,
            "justify_content": null,
            "_view_module": "@jupyter-widgets/base",
            "overflow": null,
            "_model_module_version": "1.2.0",
            "_view_count": null,
            "flex_flow": null,
            "width": null,
            "min_width": null,
            "border": null,
            "align_items": null,
            "bottom": null,
            "_model_module": "@jupyter-widgets/base",
            "top": null,
            "grid_column": null,
            "overflow_y": null,
            "overflow_x": null,
            "grid_auto_flow": null,
            "grid_area": null,
            "grid_template_columns": null,
            "flex": null,
            "_model_name": "LayoutModel",
            "justify_items": null,
            "grid_row": null,
            "max_height": null,
            "align_content": null,
            "visibility": null,
            "align_self": null,
            "height": null,
            "min_height": null,
            "padding": null,
            "grid_auto_rows": null,
            "grid_gap": null,
            "max_width": null,
            "order": null,
            "_view_module_version": "1.2.0",
            "grid_template_areas": null,
            "object_position": null,
            "object_fit": null,
            "grid_auto_columns": null,
            "margin": null,
            "display": null,
            "left": null
          }
        },
        "d11857cf5f264c0aaba3994ec5c021f7": {
          "model_module": "@jupyter-widgets/controls",
          "model_name": "FloatProgressModel",
          "state": {
            "_view_name": "ProgressView",
            "style": "IPY_MODEL_d7536acab88940309e84f02214bd56b9",
            "_dom_classes": [],
            "description": "",
            "_model_name": "FloatProgressModel",
            "bar_style": "success",
            "max": 1,
            "_view_module": "@jupyter-widgets/controls",
            "_model_module_version": "1.5.0",
            "value": 1,
            "_view_count": null,
            "_view_module_version": "1.5.0",
            "orientation": "horizontal",
            "min": 0,
            "description_tooltip": null,
            "_model_module": "@jupyter-widgets/controls",
            "layout": "IPY_MODEL_7ed399bf2c784f76b5cafdce3ae2a698"
          }
        },
        "950032b45162446097f2ed2c76576804": {
          "model_module": "@jupyter-widgets/controls",
          "model_name": "HTMLModel",
          "state": {
            "_view_name": "HTMLView",
            "style": "IPY_MODEL_a0d392ed64ba4b739340025ecdbbe92c",
            "_dom_classes": [],
            "description": "",
            "_model_name": "HTMLModel",
            "placeholder": "​",
            "_view_module": "@jupyter-widgets/controls",
            "_model_module_version": "1.5.0",
            "value": " 8192/? [00:00&lt;00:00, 16955.21it/s]",
            "_view_count": null,
            "_view_module_version": "1.5.0",
            "description_tooltip": null,
            "_model_module": "@jupyter-widgets/controls",
            "layout": "IPY_MODEL_7c4dea2728134027b8cafd988eff91fa"
          }
        },
        "d7536acab88940309e84f02214bd56b9": {
          "model_module": "@jupyter-widgets/controls",
          "model_name": "ProgressStyleModel",
          "state": {
            "_view_name": "StyleView",
            "_model_name": "ProgressStyleModel",
            "description_width": "initial",
            "_view_module": "@jupyter-widgets/base",
            "_model_module_version": "1.5.0",
            "_view_count": null,
            "_view_module_version": "1.2.0",
            "bar_color": null,
            "_model_module": "@jupyter-widgets/controls"
          }
        },
        "7ed399bf2c784f76b5cafdce3ae2a698": {
          "model_module": "@jupyter-widgets/base",
          "model_name": "LayoutModel",
          "state": {
            "_view_name": "LayoutView",
            "grid_template_rows": null,
            "right": null,
            "justify_content": null,
            "_view_module": "@jupyter-widgets/base",
            "overflow": null,
            "_model_module_version": "1.2.0",
            "_view_count": null,
            "flex_flow": null,
            "width": null,
            "min_width": null,
            "border": null,
            "align_items": null,
            "bottom": null,
            "_model_module": "@jupyter-widgets/base",
            "top": null,
            "grid_column": null,
            "overflow_y": null,
            "overflow_x": null,
            "grid_auto_flow": null,
            "grid_area": null,
            "grid_template_columns": null,
            "flex": null,
            "_model_name": "LayoutModel",
            "justify_items": null,
            "grid_row": null,
            "max_height": null,
            "align_content": null,
            "visibility": null,
            "align_self": null,
            "height": null,
            "min_height": null,
            "padding": null,
            "grid_auto_rows": null,
            "grid_gap": null,
            "max_width": null,
            "order": null,
            "_view_module_version": "1.2.0",
            "grid_template_areas": null,
            "object_position": null,
            "object_fit": null,
            "grid_auto_columns": null,
            "margin": null,
            "display": null,
            "left": null
          }
        },
        "a0d392ed64ba4b739340025ecdbbe92c": {
          "model_module": "@jupyter-widgets/controls",
          "model_name": "DescriptionStyleModel",
          "state": {
            "_view_name": "StyleView",
            "_model_name": "DescriptionStyleModel",
            "description_width": "",
            "_view_module": "@jupyter-widgets/base",
            "_model_module_version": "1.5.0",
            "_view_count": null,
            "_view_module_version": "1.2.0",
            "_model_module": "@jupyter-widgets/controls"
          }
        },
        "7c4dea2728134027b8cafd988eff91fa": {
          "model_module": "@jupyter-widgets/base",
          "model_name": "LayoutModel",
          "state": {
            "_view_name": "LayoutView",
            "grid_template_rows": null,
            "right": null,
            "justify_content": null,
            "_view_module": "@jupyter-widgets/base",
            "overflow": null,
            "_model_module_version": "1.2.0",
            "_view_count": null,
            "flex_flow": null,
            "width": null,
            "min_width": null,
            "border": null,
            "align_items": null,
            "bottom": null,
            "_model_module": "@jupyter-widgets/base",
            "top": null,
            "grid_column": null,
            "overflow_y": null,
            "overflow_x": null,
            "grid_auto_flow": null,
            "grid_area": null,
            "grid_template_columns": null,
            "flex": null,
            "_model_name": "LayoutModel",
            "justify_items": null,
            "grid_row": null,
            "max_height": null,
            "align_content": null,
            "visibility": null,
            "align_self": null,
            "height": null,
            "min_height": null,
            "padding": null,
            "grid_auto_rows": null,
            "grid_gap": null,
            "max_width": null,
            "order": null,
            "_view_module_version": "1.2.0",
            "grid_template_areas": null,
            "object_position": null,
            "object_fit": null,
            "grid_auto_columns": null,
            "margin": null,
            "display": null,
            "left": null
          }
        }
      }
    }
  },
  "cells": [
    {
      "cell_type": "code",
      "metadata": {
        "id": "ddCVjIpekPUD"
      },
      "source": [
        "import torch\n",
        "import torch.nn as nn\n",
        "import torch.optim as optim\n",
        "import numpy as np\n",
        "import matplotlib.pyplot as plt\n",
        "import seaborn as sns\n",
        "from torchvision import datasets, transforms\n",
        "from torch.utils.data import DataLoader"
      ],
      "execution_count": 1,
      "outputs": []
    },
    {
      "cell_type": "code",
      "metadata": {
        "id": "yW182o_1kuX6"
      },
      "source": [
        "device = \"cuda\" if torch.cuda.is_available() else \"cpu\""
      ],
      "execution_count": 2,
      "outputs": []
    },
    {
      "cell_type": "code",
      "metadata": {
        "colab": {
          "base_uri": "https://localhost:8080/",
          "height": 35
        },
        "id": "8gRLaQN0k3Cu",
        "outputId": "c00d610f-20db-4f8e-dca7-c20e9072d4ea"
      },
      "source": [
        "device"
      ],
      "execution_count": 3,
      "outputs": [
        {
          "output_type": "execute_result",
          "data": {
            "application/vnd.google.colaboratory.intrinsic+json": {
              "type": "string"
            },
            "text/plain": [
              "'cpu'"
            ]
          },
          "metadata": {
            "tags": []
          },
          "execution_count": 3
        }
      ]
    },
    {
      "cell_type": "code",
      "metadata": {
        "colab": {
          "base_uri": "https://localhost:8080/",
          "height": 386,
          "referenced_widgets": [
            "d7a60f3f0f034e65b609f084c973d021",
            "59a782501f58432cba4b14e8bfbcc5b5",
            "9793c42d4539447fa82265c79672f84b",
            "3cc6541528804a1c810b4098ebc598c4",
            "69a16c3ad7764b3a9525a8c08ba3a278",
            "97ef2f36fee04d24b4e9e20c5b2d0e5d",
            "716294e32da84465a310bfa6f2256a37",
            "96046f7ea9f548b1aadbc1062962ff0b",
            "ffc5b8f4f58948a180f7e6e49191fc61",
            "1e54510526e841a4997cf775d9985c1c",
            "c270203c56304f0c8ac1cfbad1aa27d0",
            "322c24dd751a452bb56ea26fbda85bf3",
            "84004440d5844cf6a0a9f74fe3b6d9ba",
            "b620f75f1f504fa7a574dac3582fec7c",
            "76793445210a4fb2a23187baa67ec231",
            "6c0c12379194496892d7706a843490b6",
            "298c9d716a3048bc9729ee7059920849",
            "2137e27a50ad45c5a55a48249b52793c",
            "8ea3ed82f7634c459527c6e87e791884",
            "84f18632d4824080bbca83093a7efc3c",
            "286e75858c45415dbb0255869bc5f1a1",
            "de690e4ac0f34d20927fa77d4f73ea06",
            "4aa54f5a270743c690c32073fba0730b",
            "be0d011012214afda0fd5f3db63b5e74",
            "eb1aa1bd321d4153a9ffd31344d27ae3",
            "1e7c9efc2e3b4992997aa70edc7f90ee",
            "d11857cf5f264c0aaba3994ec5c021f7",
            "950032b45162446097f2ed2c76576804",
            "d7536acab88940309e84f02214bd56b9",
            "7ed399bf2c784f76b5cafdce3ae2a698",
            "a0d392ed64ba4b739340025ecdbbe92c",
            "7c4dea2728134027b8cafd988eff91fa"
          ]
        },
        "id": "W65A-9l9k4iw",
        "outputId": "5b6787d4-b96d-4e91-946b-e70bcab9dc9f"
      },
      "source": [
        "# 前処理\n",
        "transform = transforms.Compose([\n",
        "    # 画像をTensorに変換してくれる\n",
        "    # チャネルラストをチャネルファーストに\n",
        "    # 0〜255の整数値を0.0〜1.0の浮動少数点に変換してくれる\n",
        "    transforms.ToTensor()                              \n",
        "])\n",
        "train_dataset = datasets.MNIST(root=\"./data\", train=True, download=True, transform=transform)"
      ],
      "execution_count": 4,
      "outputs": [
        {
          "output_type": "stream",
          "text": [
            "Downloading http://yann.lecun.com/exdb/mnist/train-images-idx3-ubyte.gz to ./MLP/data/MNIST/raw/train-images-idx3-ubyte.gz\n"
          ],
          "name": "stdout"
        },
        {
          "output_type": "display_data",
          "data": {
            "application/vnd.jupyter.widget-view+json": {
              "model_id": "d7a60f3f0f034e65b609f084c973d021",
              "version_minor": 0,
              "version_major": 2
            },
            "text/plain": [
              "HBox(children=(FloatProgress(value=1.0, bar_style='info', max=1.0), HTML(value='')))"
            ]
          },
          "metadata": {
            "tags": []
          }
        },
        {
          "output_type": "stream",
          "text": [
            "Extracting ./MLP/data/MNIST/raw/train-images-idx3-ubyte.gz to ./MLP/data/MNIST/raw\n",
            "Downloading http://yann.lecun.com/exdb/mnist/train-labels-idx1-ubyte.gz to ./MLP/data/MNIST/raw/train-labels-idx1-ubyte.gz\n"
          ],
          "name": "stdout"
        },
        {
          "output_type": "display_data",
          "data": {
            "application/vnd.jupyter.widget-view+json": {
              "model_id": "ffc5b8f4f58948a180f7e6e49191fc61",
              "version_minor": 0,
              "version_major": 2
            },
            "text/plain": [
              "HBox(children=(FloatProgress(value=1.0, bar_style='info', max=1.0), HTML(value='')))"
            ]
          },
          "metadata": {
            "tags": []
          }
        },
        {
          "output_type": "stream",
          "text": [
            "Extracting ./MLP/data/MNIST/raw/train-labels-idx1-ubyte.gz to ./MLP/data/MNIST/raw\n",
            "Downloading http://yann.lecun.com/exdb/mnist/t10k-images-idx3-ubyte.gz to ./MLP/data/MNIST/raw/t10k-images-idx3-ubyte.gz\n",
            "\n"
          ],
          "name": "stdout"
        },
        {
          "output_type": "display_data",
          "data": {
            "application/vnd.jupyter.widget-view+json": {
              "model_id": "298c9d716a3048bc9729ee7059920849",
              "version_minor": 0,
              "version_major": 2
            },
            "text/plain": [
              "HBox(children=(FloatProgress(value=1.0, bar_style='info', max=1.0), HTML(value='')))"
            ]
          },
          "metadata": {
            "tags": []
          }
        },
        {
          "output_type": "stream",
          "text": [
            "Extracting ./MLP/data/MNIST/raw/t10k-images-idx3-ubyte.gz to ./MLP/data/MNIST/raw\n",
            "Downloading http://yann.lecun.com/exdb/mnist/t10k-labels-idx1-ubyte.gz to ./MLP/data/MNIST/raw/t10k-labels-idx1-ubyte.gz\n"
          ],
          "name": "stdout"
        },
        {
          "output_type": "display_data",
          "data": {
            "application/vnd.jupyter.widget-view+json": {
              "model_id": "eb1aa1bd321d4153a9ffd31344d27ae3",
              "version_minor": 0,
              "version_major": 2
            },
            "text/plain": [
              "HBox(children=(FloatProgress(value=1.0, bar_style='info', max=1.0), HTML(value='')))"
            ]
          },
          "metadata": {
            "tags": []
          }
        },
        {
          "output_type": "stream",
          "text": [
            "Extracting ./MLP/data/MNIST/raw/t10k-labels-idx1-ubyte.gz to ./MLP/data/MNIST/raw\n",
            "Processing...\n"
          ],
          "name": "stdout"
        },
        {
          "output_type": "stream",
          "text": [
            "/usr/local/lib/python3.6/dist-packages/torchvision/datasets/mnist.py:480: UserWarning: The given NumPy array is not writeable, and PyTorch does not support non-writeable tensors. This means you can write to the underlying (supposedly non-writeable) NumPy array using the tensor. You may want to copy the array to protect its data or make it writeable before converting it to a tensor. This type of warning will be suppressed for the rest of this program. (Triggered internally at  /pytorch/torch/csrc/utils/tensor_numpy.cpp:141.)\n",
            "  return torch.from_numpy(parsed.astype(m[2], copy=False)).view(*s)\n"
          ],
          "name": "stderr"
        },
        {
          "output_type": "stream",
          "text": [
            "Done!\n"
          ],
          "name": "stdout"
        }
      ]
    },
    {
      "cell_type": "code",
      "metadata": {
        "id": "2EXnZbx5lfjx"
      },
      "source": [
        "num_batches = 100"
      ],
      "execution_count": 5,
      "outputs": []
    },
    {
      "cell_type": "code",
      "metadata": {
        "id": "mWUIrfYylmMX"
      },
      "source": [
        "train_dataloader = DataLoader(train_dataset, batch_size=num_batches, shuffle=True)"
      ],
      "execution_count": 6,
      "outputs": []
    },
    {
      "cell_type": "code",
      "metadata": {
        "id": "-oDTKY_llwdM"
      },
      "source": [
        "train_iter = iter(train_dataloader)"
      ],
      "execution_count": 7,
      "outputs": []
    },
    {
      "cell_type": "code",
      "metadata": {
        "colab": {
          "base_uri": "https://localhost:8080/"
        },
        "id": "npurZBWGkNp4",
        "outputId": "1fad481d-0dcf-43cb-b687-5744368ccabe"
      },
      "source": [
        "train_iter"
      ],
      "execution_count": 8,
      "outputs": [
        {
          "output_type": "execute_result",
          "data": {
            "text/plain": [
              "<torch.utils.data.dataloader._SingleProcessDataLoaderIter at 0x7fd97a865fd0>"
            ]
          },
          "metadata": {
            "tags": []
          },
          "execution_count": 8
        }
      ]
    },
    {
      "cell_type": "code",
      "metadata": {
        "colab": {
          "base_uri": "https://localhost:8080/"
        },
        "id": "etI2l2t8l4Tm",
        "outputId": "b6366b7a-ccce-4626-b31a-fd0c5b9d7219"
      },
      "source": [
        "# 100個だけミニバッチからデータをロードする\n",
        "imgs, labels = train_iter.next()"
      ],
      "execution_count": 9,
      "outputs": [
        {
          "output_type": "stream",
          "text": [
            "\n"
          ],
          "name": "stdout"
        }
      ]
    },
    {
      "cell_type": "code",
      "metadata": {
        "colab": {
          "base_uri": "https://localhost:8080/"
        },
        "id": "6ZwWuO3Cl9Eq",
        "outputId": "92b47f7d-0643-4ad7-a3ca-ce1b33cb7ae4"
      },
      "source": [
        "# 100個のデータ, グレースケール, 28px, 28px\n",
        "imgs.size()"
      ],
      "execution_count": 10,
      "outputs": [
        {
          "output_type": "execute_result",
          "data": {
            "text/plain": [
              "torch.Size([100, 1, 28, 28])"
            ]
          },
          "metadata": {
            "tags": []
          },
          "execution_count": 10
        }
      ]
    },
    {
      "cell_type": "code",
      "metadata": {
        "colab": {
          "base_uri": "https://localhost:8080/"
        },
        "id": "u2tEU4w7l_Fv",
        "outputId": "d5fbfbcb-ab54-4075-fb1e-26d75a813274"
      },
      "source": [
        "labels"
      ],
      "execution_count": 11,
      "outputs": [
        {
          "output_type": "execute_result",
          "data": {
            "text/plain": [
              "tensor([1, 6, 2, 3, 1, 5, 0, 7, 1, 8, 9, 0, 2, 7, 3, 2, 8, 0, 0, 4, 7, 2, 1, 5,\n",
              "        1, 7, 2, 5, 0, 5, 9, 8, 7, 8, 5, 0, 8, 8, 3, 0, 2, 3, 7, 3, 4, 4, 2, 7,\n",
              "        9, 8, 7, 1, 7, 6, 8, 3, 5, 8, 8, 2, 6, 8, 6, 5, 7, 1, 5, 0, 3, 4, 4, 2,\n",
              "        3, 6, 3, 9, 3, 4, 9, 7, 9, 5, 9, 4, 5, 8, 9, 4, 9, 7, 7, 4, 0, 7, 8, 9,\n",
              "        7, 0, 1, 7])"
            ]
          },
          "metadata": {
            "tags": []
          },
          "execution_count": 11
        }
      ]
    },
    {
      "cell_type": "code",
      "metadata": {
        "id": "3er_5OWjmJR5"
      },
      "source": [
        "img = imgs[0]"
      ],
      "execution_count": 12,
      "outputs": []
    },
    {
      "cell_type": "code",
      "metadata": {
        "colab": {
          "base_uri": "https://localhost:8080/"
        },
        "id": "dNewmZNCkpxa",
        "outputId": "ce3cd366-226e-4dfe-a98f-0e80da74b831"
      },
      "source": [
        "img"
      ],
      "execution_count": 13,
      "outputs": [
        {
          "output_type": "execute_result",
          "data": {
            "text/plain": [
              "tensor([[[0.0000, 0.0000, 0.0000, 0.0000, 0.0000, 0.0000, 0.0000, 0.0000,\n",
              "          0.0000, 0.0000, 0.0000, 0.0000, 0.0000, 0.0000, 0.0000, 0.0000,\n",
              "          0.0000, 0.0000, 0.0000, 0.0000, 0.0000, 0.0000, 0.0000, 0.0000,\n",
              "          0.0000, 0.0000, 0.0000, 0.0000],\n",
              "         [0.0000, 0.0000, 0.0000, 0.0000, 0.0000, 0.0000, 0.0000, 0.0000,\n",
              "          0.0000, 0.0000, 0.0000, 0.0000, 0.0000, 0.0000, 0.0000, 0.0000,\n",
              "          0.0000, 0.0000, 0.0000, 0.0000, 0.0000, 0.0000, 0.0000, 0.0000,\n",
              "          0.0000, 0.0000, 0.0000, 0.0000],\n",
              "         [0.0000, 0.0000, 0.0000, 0.0000, 0.0000, 0.0000, 0.0000, 0.0000,\n",
              "          0.0000, 0.0000, 0.0000, 0.0000, 0.0000, 0.0000, 0.0000, 0.0000,\n",
              "          0.0000, 0.0000, 0.0000, 0.0000, 0.0000, 0.0000, 0.0000, 0.0000,\n",
              "          0.0000, 0.0000, 0.0000, 0.0000],\n",
              "         [0.0000, 0.0000, 0.0000, 0.0000, 0.0000, 0.0000, 0.0000, 0.0000,\n",
              "          0.0000, 0.0000, 0.0000, 0.0000, 0.0000, 0.0000, 0.0000, 0.0000,\n",
              "          0.0000, 0.0000, 0.0000, 0.0000, 0.0000, 0.0000, 0.0000, 0.0000,\n",
              "          0.0000, 0.0000, 0.0000, 0.0000],\n",
              "         [0.0000, 0.0000, 0.0000, 0.0000, 0.0000, 0.0000, 0.0000, 0.0000,\n",
              "          0.0000, 0.0000, 0.0000, 0.0000, 0.0000, 0.0000, 0.0000, 0.0000,\n",
              "          0.0000, 0.0000, 0.2510, 0.9529, 0.1647, 0.0000, 0.0000, 0.0000,\n",
              "          0.0000, 0.0000, 0.0000, 0.0000],\n",
              "         [0.0000, 0.0000, 0.0000, 0.0000, 0.0000, 0.0000, 0.0000, 0.0667,\n",
              "          0.0196, 0.0000, 0.0000, 0.0000, 0.0000, 0.0000, 0.0000, 0.0000,\n",
              "          0.0000, 0.0000, 0.5373, 0.8235, 0.0000, 0.0000, 0.0000, 0.0000,\n",
              "          0.0000, 0.0000, 0.0000, 0.0000],\n",
              "         [0.0000, 0.0000, 0.0000, 0.0000, 0.0000, 0.0000, 0.0000, 0.2667,\n",
              "          0.0627, 0.0000, 0.0000, 0.0000, 0.0000, 0.0000, 0.0000, 0.0000,\n",
              "          0.0000, 0.2667, 0.9686, 0.4549, 0.0000, 0.0000, 0.0000, 0.0000,\n",
              "          0.0000, 0.0000, 0.0000, 0.0000],\n",
              "         [0.0000, 0.0000, 0.0000, 0.0000, 0.0000, 0.0000, 0.0000, 0.0000,\n",
              "          0.0000, 0.0000, 0.0000, 0.0000, 0.0000, 0.0000, 0.0000, 0.0000,\n",
              "          0.0000, 0.5294, 0.9922, 0.4549, 0.0000, 0.0000, 0.0000, 0.0000,\n",
              "          0.0000, 0.0000, 0.0000, 0.0000],\n",
              "         [0.0000, 0.0000, 0.0000, 0.0000, 0.0000, 0.0000, 0.0000, 0.0000,\n",
              "          0.0000, 0.0000, 0.0000, 0.0000, 0.0000, 0.0000, 0.0000, 0.0000,\n",
              "          0.0000, 0.6078, 0.9922, 0.0431, 0.0000, 0.0000, 0.0000, 0.0000,\n",
              "          0.0000, 0.0000, 0.0000, 0.0000],\n",
              "         [0.0000, 0.0000, 0.0000, 0.0000, 0.0000, 0.0000, 0.0000, 0.0000,\n",
              "          0.0000, 0.0000, 0.0000, 0.0000, 0.0000, 0.0000, 0.0000, 0.0000,\n",
              "          0.5216, 0.8314, 0.4627, 0.0000, 0.0000, 0.0000, 0.0000, 0.0000,\n",
              "          0.0000, 0.0000, 0.0000, 0.0000],\n",
              "         [0.0000, 0.0000, 0.0000, 0.0000, 0.0000, 0.0000, 0.0000, 0.0000,\n",
              "          0.0000, 0.0000, 0.0000, 0.0000, 0.0000, 0.0000, 0.0000, 0.0353,\n",
              "          0.7725, 0.7608, 0.0314, 0.0000, 0.0000, 0.0000, 0.0000, 0.0000,\n",
              "          0.0000, 0.0000, 0.0000, 0.0000],\n",
              "         [0.0000, 0.0000, 0.0000, 0.0000, 0.0000, 0.0000, 0.0000, 0.0000,\n",
              "          0.0000, 0.0000, 0.0000, 0.0000, 0.0000, 0.0000, 0.0000, 0.1843,\n",
              "          0.9922, 0.6314, 0.0000, 0.0000, 0.0000, 0.0000, 0.0000, 0.0000,\n",
              "          0.0000, 0.0000, 0.0000, 0.0000],\n",
              "         [0.0000, 0.0000, 0.0000, 0.0000, 0.0000, 0.0000, 0.0000, 0.0000,\n",
              "          0.0000, 0.0000, 0.0000, 0.0000, 0.0000, 0.0000, 0.0353, 0.6863,\n",
              "          0.9922, 0.4667, 0.0000, 0.0000, 0.0000, 0.0000, 0.0000, 0.0000,\n",
              "          0.0000, 0.0000, 0.0000, 0.0000],\n",
              "         [0.0000, 0.0000, 0.0000, 0.0000, 0.0000, 0.0000, 0.0000, 0.0000,\n",
              "          0.0000, 0.0000, 0.0000, 0.0000, 0.0000, 0.0000, 0.2588, 0.8314,\n",
              "          0.8706, 0.0980, 0.0000, 0.0000, 0.0000, 0.0000, 0.0000, 0.0000,\n",
              "          0.0000, 0.0000, 0.0000, 0.0000],\n",
              "         [0.0000, 0.0000, 0.0000, 0.0000, 0.0000, 0.0000, 0.0000, 0.0000,\n",
              "          0.0000, 0.0000, 0.0000, 0.0000, 0.0000, 0.0431, 0.5882, 0.9961,\n",
              "          0.4784, 0.0000, 0.0000, 0.0000, 0.0000, 0.0000, 0.0000, 0.0000,\n",
              "          0.0000, 0.0000, 0.0000, 0.0000],\n",
              "         [0.0000, 0.0000, 0.0000, 0.0000, 0.0000, 0.0000, 0.0000, 0.0000,\n",
              "          0.0000, 0.0000, 0.0000, 0.0000, 0.0000, 0.4549, 0.9961, 0.9922,\n",
              "          0.2706, 0.0000, 0.0000, 0.0000, 0.0000, 0.0000, 0.0000, 0.0000,\n",
              "          0.0000, 0.0000, 0.0000, 0.0000],\n",
              "         [0.0000, 0.0000, 0.0000, 0.0000, 0.0000, 0.0000, 0.0000, 0.0000,\n",
              "          0.0000, 0.0000, 0.0000, 0.0000, 0.0000, 0.5765, 0.9961, 0.8588,\n",
              "          0.0745, 0.0000, 0.0000, 0.0000, 0.0000, 0.0000, 0.0000, 0.0000,\n",
              "          0.0000, 0.0000, 0.0000, 0.0000],\n",
              "         [0.0000, 0.0000, 0.0000, 0.0000, 0.0000, 0.0000, 0.0000, 0.0000,\n",
              "          0.0000, 0.0000, 0.0000, 0.0000, 0.3020, 0.9373, 0.9647, 0.3098,\n",
              "          0.0000, 0.0000, 0.0000, 0.0000, 0.0000, 0.0000, 0.0000, 0.0000,\n",
              "          0.0000, 0.0000, 0.0000, 0.0000],\n",
              "         [0.0000, 0.0000, 0.0000, 0.0000, 0.0000, 0.0000, 0.0000, 0.0000,\n",
              "          0.0000, 0.0000, 0.0000, 0.1255, 0.8980, 0.9922, 0.6980, 0.0000,\n",
              "          0.0000, 0.0000, 0.0000, 0.0000, 0.0000, 0.0000, 0.0000, 0.0000,\n",
              "          0.0000, 0.0000, 0.0000, 0.0000],\n",
              "         [0.0000, 0.0000, 0.0000, 0.0000, 0.0000, 0.0000, 0.0000, 0.0000,\n",
              "          0.0000, 0.0000, 0.0196, 0.5451, 0.9961, 1.0000, 0.4157, 0.0000,\n",
              "          0.0000, 0.0000, 0.0000, 0.0000, 0.0000, 0.0000, 0.0000, 0.0000,\n",
              "          0.0000, 0.0000, 0.0000, 0.0000],\n",
              "         [0.0000, 0.0000, 0.0000, 0.0000, 0.0000, 0.0000, 0.0000, 0.0000,\n",
              "          0.0000, 0.0000, 0.1843, 0.9922, 0.9922, 0.7020, 0.0000, 0.0000,\n",
              "          0.0000, 0.0000, 0.0000, 0.0000, 0.0000, 0.0000, 0.0000, 0.0000,\n",
              "          0.0000, 0.0000, 0.0000, 0.0000],\n",
              "         [0.0000, 0.0000, 0.0000, 0.0000, 0.0000, 0.0000, 0.0000, 0.0000,\n",
              "          0.0000, 0.0000, 0.3098, 0.9922, 0.8941, 0.1882, 0.0000, 0.0000,\n",
              "          0.0000, 0.0000, 0.0000, 0.0000, 0.0000, 0.0000, 0.0000, 0.0000,\n",
              "          0.0000, 0.0000, 0.0000, 0.0000],\n",
              "         [0.0000, 0.0000, 0.0000, 0.0000, 0.0000, 0.0000, 0.0000, 0.0000,\n",
              "          0.0000, 0.0000, 0.6353, 0.9922, 0.4667, 0.0000, 0.0000, 0.0000,\n",
              "          0.0000, 0.0000, 0.0000, 0.0000, 0.0000, 0.0000, 0.0000, 0.0000,\n",
              "          0.0000, 0.0000, 0.0000, 0.0000],\n",
              "         [0.0000, 0.0000, 0.0000, 0.0000, 0.0000, 0.0000, 0.0000, 0.0000,\n",
              "          0.0000, 0.0431, 0.8000, 0.8706, 0.0980, 0.0000, 0.0000, 0.0000,\n",
              "          0.0000, 0.0000, 0.0000, 0.0000, 0.0000, 0.0000, 0.0000, 0.0000,\n",
              "          0.0000, 0.0000, 0.0000, 0.0000],\n",
              "         [0.0000, 0.0000, 0.0000, 0.0000, 0.0000, 0.0000, 0.0000, 0.0000,\n",
              "          0.0000, 0.0000, 0.0000, 0.0000, 0.0000, 0.0000, 0.0000, 0.0000,\n",
              "          0.0000, 0.0000, 0.0000, 0.0000, 0.0000, 0.0000, 0.0000, 0.0000,\n",
              "          0.0000, 0.0000, 0.0000, 0.0000],\n",
              "         [0.0000, 0.0000, 0.0000, 0.0000, 0.0000, 0.0000, 0.0000, 0.0000,\n",
              "          0.0000, 0.0000, 0.0000, 0.0000, 0.0000, 0.0000, 0.0000, 0.0000,\n",
              "          0.0000, 0.0000, 0.0000, 0.0000, 0.0000, 0.0000, 0.0000, 0.0000,\n",
              "          0.0000, 0.0000, 0.0000, 0.0000],\n",
              "         [0.0000, 0.0000, 0.0000, 0.0000, 0.0000, 0.0000, 0.0000, 0.0000,\n",
              "          0.0000, 0.0000, 0.0000, 0.0000, 0.0000, 0.0000, 0.0000, 0.0000,\n",
              "          0.0000, 0.0000, 0.0000, 0.0000, 0.0000, 0.0000, 0.0000, 0.0000,\n",
              "          0.0000, 0.0000, 0.0000, 0.0000],\n",
              "         [0.0000, 0.0000, 0.0000, 0.0000, 0.0000, 0.0000, 0.0000, 0.0000,\n",
              "          0.0000, 0.0000, 0.0000, 0.0000, 0.0000, 0.0000, 0.0000, 0.0000,\n",
              "          0.0000, 0.0000, 0.0000, 0.0000, 0.0000, 0.0000, 0.0000, 0.0000,\n",
              "          0.0000, 0.0000, 0.0000, 0.0000]]])"
            ]
          },
          "metadata": {
            "tags": []
          },
          "execution_count": 13
        }
      ]
    },
    {
      "cell_type": "code",
      "metadata": {
        "id": "_li1HrAPmNDL"
      },
      "source": [
        "# 画像データを表示するために、チャネルファーストのデータをチャネルラストに変換する\n",
        "img_permute = img.permute(1, 2, 0)"
      ],
      "execution_count": 14,
      "outputs": []
    },
    {
      "cell_type": "code",
      "metadata": {
        "colab": {
          "base_uri": "https://localhost:8080/"
        },
        "id": "8SbaQSTxlpBU",
        "outputId": "dbf79806-bdd2-4e69-b2b9-13711d0767f2"
      },
      "source": [
        "img_permute"
      ],
      "execution_count": 15,
      "outputs": [
        {
          "output_type": "execute_result",
          "data": {
            "text/plain": [
              "tensor([[[0.0000],\n",
              "         [0.0000],\n",
              "         [0.0000],\n",
              "         [0.0000],\n",
              "         [0.0000],\n",
              "         [0.0000],\n",
              "         [0.0000],\n",
              "         [0.0000],\n",
              "         [0.0000],\n",
              "         [0.0000],\n",
              "         [0.0000],\n",
              "         [0.0000],\n",
              "         [0.0000],\n",
              "         [0.0000],\n",
              "         [0.0000],\n",
              "         [0.0000],\n",
              "         [0.0000],\n",
              "         [0.0000],\n",
              "         [0.0000],\n",
              "         [0.0000],\n",
              "         [0.0000],\n",
              "         [0.0000],\n",
              "         [0.0000],\n",
              "         [0.0000],\n",
              "         [0.0000],\n",
              "         [0.0000],\n",
              "         [0.0000],\n",
              "         [0.0000]],\n",
              "\n",
              "        [[0.0000],\n",
              "         [0.0000],\n",
              "         [0.0000],\n",
              "         [0.0000],\n",
              "         [0.0000],\n",
              "         [0.0000],\n",
              "         [0.0000],\n",
              "         [0.0000],\n",
              "         [0.0000],\n",
              "         [0.0000],\n",
              "         [0.0000],\n",
              "         [0.0000],\n",
              "         [0.0000],\n",
              "         [0.0000],\n",
              "         [0.0000],\n",
              "         [0.0000],\n",
              "         [0.0000],\n",
              "         [0.0000],\n",
              "         [0.0000],\n",
              "         [0.0000],\n",
              "         [0.0000],\n",
              "         [0.0000],\n",
              "         [0.0000],\n",
              "         [0.0000],\n",
              "         [0.0000],\n",
              "         [0.0000],\n",
              "         [0.0000],\n",
              "         [0.0000]],\n",
              "\n",
              "        [[0.0000],\n",
              "         [0.0000],\n",
              "         [0.0000],\n",
              "         [0.0000],\n",
              "         [0.0000],\n",
              "         [0.0000],\n",
              "         [0.0000],\n",
              "         [0.0000],\n",
              "         [0.0000],\n",
              "         [0.0000],\n",
              "         [0.0000],\n",
              "         [0.0000],\n",
              "         [0.0000],\n",
              "         [0.0000],\n",
              "         [0.0000],\n",
              "         [0.0000],\n",
              "         [0.0000],\n",
              "         [0.0000],\n",
              "         [0.0000],\n",
              "         [0.0000],\n",
              "         [0.0000],\n",
              "         [0.0000],\n",
              "         [0.0000],\n",
              "         [0.0000],\n",
              "         [0.0000],\n",
              "         [0.0000],\n",
              "         [0.0000],\n",
              "         [0.0000]],\n",
              "\n",
              "        [[0.0000],\n",
              "         [0.0000],\n",
              "         [0.0000],\n",
              "         [0.0000],\n",
              "         [0.0000],\n",
              "         [0.0000],\n",
              "         [0.0000],\n",
              "         [0.0000],\n",
              "         [0.0000],\n",
              "         [0.0000],\n",
              "         [0.0000],\n",
              "         [0.0000],\n",
              "         [0.0000],\n",
              "         [0.0000],\n",
              "         [0.0000],\n",
              "         [0.0000],\n",
              "         [0.0000],\n",
              "         [0.0000],\n",
              "         [0.0000],\n",
              "         [0.0000],\n",
              "         [0.0000],\n",
              "         [0.0000],\n",
              "         [0.0000],\n",
              "         [0.0000],\n",
              "         [0.0000],\n",
              "         [0.0000],\n",
              "         [0.0000],\n",
              "         [0.0000]],\n",
              "\n",
              "        [[0.0000],\n",
              "         [0.0000],\n",
              "         [0.0000],\n",
              "         [0.0000],\n",
              "         [0.0000],\n",
              "         [0.0000],\n",
              "         [0.0000],\n",
              "         [0.0000],\n",
              "         [0.0000],\n",
              "         [0.0000],\n",
              "         [0.0000],\n",
              "         [0.0000],\n",
              "         [0.0000],\n",
              "         [0.0000],\n",
              "         [0.0000],\n",
              "         [0.0000],\n",
              "         [0.0000],\n",
              "         [0.0000],\n",
              "         [0.2510],\n",
              "         [0.9529],\n",
              "         [0.1647],\n",
              "         [0.0000],\n",
              "         [0.0000],\n",
              "         [0.0000],\n",
              "         [0.0000],\n",
              "         [0.0000],\n",
              "         [0.0000],\n",
              "         [0.0000]],\n",
              "\n",
              "        [[0.0000],\n",
              "         [0.0000],\n",
              "         [0.0000],\n",
              "         [0.0000],\n",
              "         [0.0000],\n",
              "         [0.0000],\n",
              "         [0.0000],\n",
              "         [0.0667],\n",
              "         [0.0196],\n",
              "         [0.0000],\n",
              "         [0.0000],\n",
              "         [0.0000],\n",
              "         [0.0000],\n",
              "         [0.0000],\n",
              "         [0.0000],\n",
              "         [0.0000],\n",
              "         [0.0000],\n",
              "         [0.0000],\n",
              "         [0.5373],\n",
              "         [0.8235],\n",
              "         [0.0000],\n",
              "         [0.0000],\n",
              "         [0.0000],\n",
              "         [0.0000],\n",
              "         [0.0000],\n",
              "         [0.0000],\n",
              "         [0.0000],\n",
              "         [0.0000]],\n",
              "\n",
              "        [[0.0000],\n",
              "         [0.0000],\n",
              "         [0.0000],\n",
              "         [0.0000],\n",
              "         [0.0000],\n",
              "         [0.0000],\n",
              "         [0.0000],\n",
              "         [0.2667],\n",
              "         [0.0627],\n",
              "         [0.0000],\n",
              "         [0.0000],\n",
              "         [0.0000],\n",
              "         [0.0000],\n",
              "         [0.0000],\n",
              "         [0.0000],\n",
              "         [0.0000],\n",
              "         [0.0000],\n",
              "         [0.2667],\n",
              "         [0.9686],\n",
              "         [0.4549],\n",
              "         [0.0000],\n",
              "         [0.0000],\n",
              "         [0.0000],\n",
              "         [0.0000],\n",
              "         [0.0000],\n",
              "         [0.0000],\n",
              "         [0.0000],\n",
              "         [0.0000]],\n",
              "\n",
              "        [[0.0000],\n",
              "         [0.0000],\n",
              "         [0.0000],\n",
              "         [0.0000],\n",
              "         [0.0000],\n",
              "         [0.0000],\n",
              "         [0.0000],\n",
              "         [0.0000],\n",
              "         [0.0000],\n",
              "         [0.0000],\n",
              "         [0.0000],\n",
              "         [0.0000],\n",
              "         [0.0000],\n",
              "         [0.0000],\n",
              "         [0.0000],\n",
              "         [0.0000],\n",
              "         [0.0000],\n",
              "         [0.5294],\n",
              "         [0.9922],\n",
              "         [0.4549],\n",
              "         [0.0000],\n",
              "         [0.0000],\n",
              "         [0.0000],\n",
              "         [0.0000],\n",
              "         [0.0000],\n",
              "         [0.0000],\n",
              "         [0.0000],\n",
              "         [0.0000]],\n",
              "\n",
              "        [[0.0000],\n",
              "         [0.0000],\n",
              "         [0.0000],\n",
              "         [0.0000],\n",
              "         [0.0000],\n",
              "         [0.0000],\n",
              "         [0.0000],\n",
              "         [0.0000],\n",
              "         [0.0000],\n",
              "         [0.0000],\n",
              "         [0.0000],\n",
              "         [0.0000],\n",
              "         [0.0000],\n",
              "         [0.0000],\n",
              "         [0.0000],\n",
              "         [0.0000],\n",
              "         [0.0000],\n",
              "         [0.6078],\n",
              "         [0.9922],\n",
              "         [0.0431],\n",
              "         [0.0000],\n",
              "         [0.0000],\n",
              "         [0.0000],\n",
              "         [0.0000],\n",
              "         [0.0000],\n",
              "         [0.0000],\n",
              "         [0.0000],\n",
              "         [0.0000]],\n",
              "\n",
              "        [[0.0000],\n",
              "         [0.0000],\n",
              "         [0.0000],\n",
              "         [0.0000],\n",
              "         [0.0000],\n",
              "         [0.0000],\n",
              "         [0.0000],\n",
              "         [0.0000],\n",
              "         [0.0000],\n",
              "         [0.0000],\n",
              "         [0.0000],\n",
              "         [0.0000],\n",
              "         [0.0000],\n",
              "         [0.0000],\n",
              "         [0.0000],\n",
              "         [0.0000],\n",
              "         [0.5216],\n",
              "         [0.8314],\n",
              "         [0.4627],\n",
              "         [0.0000],\n",
              "         [0.0000],\n",
              "         [0.0000],\n",
              "         [0.0000],\n",
              "         [0.0000],\n",
              "         [0.0000],\n",
              "         [0.0000],\n",
              "         [0.0000],\n",
              "         [0.0000]],\n",
              "\n",
              "        [[0.0000],\n",
              "         [0.0000],\n",
              "         [0.0000],\n",
              "         [0.0000],\n",
              "         [0.0000],\n",
              "         [0.0000],\n",
              "         [0.0000],\n",
              "         [0.0000],\n",
              "         [0.0000],\n",
              "         [0.0000],\n",
              "         [0.0000],\n",
              "         [0.0000],\n",
              "         [0.0000],\n",
              "         [0.0000],\n",
              "         [0.0000],\n",
              "         [0.0353],\n",
              "         [0.7725],\n",
              "         [0.7608],\n",
              "         [0.0314],\n",
              "         [0.0000],\n",
              "         [0.0000],\n",
              "         [0.0000],\n",
              "         [0.0000],\n",
              "         [0.0000],\n",
              "         [0.0000],\n",
              "         [0.0000],\n",
              "         [0.0000],\n",
              "         [0.0000]],\n",
              "\n",
              "        [[0.0000],\n",
              "         [0.0000],\n",
              "         [0.0000],\n",
              "         [0.0000],\n",
              "         [0.0000],\n",
              "         [0.0000],\n",
              "         [0.0000],\n",
              "         [0.0000],\n",
              "         [0.0000],\n",
              "         [0.0000],\n",
              "         [0.0000],\n",
              "         [0.0000],\n",
              "         [0.0000],\n",
              "         [0.0000],\n",
              "         [0.0000],\n",
              "         [0.1843],\n",
              "         [0.9922],\n",
              "         [0.6314],\n",
              "         [0.0000],\n",
              "         [0.0000],\n",
              "         [0.0000],\n",
              "         [0.0000],\n",
              "         [0.0000],\n",
              "         [0.0000],\n",
              "         [0.0000],\n",
              "         [0.0000],\n",
              "         [0.0000],\n",
              "         [0.0000]],\n",
              "\n",
              "        [[0.0000],\n",
              "         [0.0000],\n",
              "         [0.0000],\n",
              "         [0.0000],\n",
              "         [0.0000],\n",
              "         [0.0000],\n",
              "         [0.0000],\n",
              "         [0.0000],\n",
              "         [0.0000],\n",
              "         [0.0000],\n",
              "         [0.0000],\n",
              "         [0.0000],\n",
              "         [0.0000],\n",
              "         [0.0000],\n",
              "         [0.0353],\n",
              "         [0.6863],\n",
              "         [0.9922],\n",
              "         [0.4667],\n",
              "         [0.0000],\n",
              "         [0.0000],\n",
              "         [0.0000],\n",
              "         [0.0000],\n",
              "         [0.0000],\n",
              "         [0.0000],\n",
              "         [0.0000],\n",
              "         [0.0000],\n",
              "         [0.0000],\n",
              "         [0.0000]],\n",
              "\n",
              "        [[0.0000],\n",
              "         [0.0000],\n",
              "         [0.0000],\n",
              "         [0.0000],\n",
              "         [0.0000],\n",
              "         [0.0000],\n",
              "         [0.0000],\n",
              "         [0.0000],\n",
              "         [0.0000],\n",
              "         [0.0000],\n",
              "         [0.0000],\n",
              "         [0.0000],\n",
              "         [0.0000],\n",
              "         [0.0000],\n",
              "         [0.2588],\n",
              "         [0.8314],\n",
              "         [0.8706],\n",
              "         [0.0980],\n",
              "         [0.0000],\n",
              "         [0.0000],\n",
              "         [0.0000],\n",
              "         [0.0000],\n",
              "         [0.0000],\n",
              "         [0.0000],\n",
              "         [0.0000],\n",
              "         [0.0000],\n",
              "         [0.0000],\n",
              "         [0.0000]],\n",
              "\n",
              "        [[0.0000],\n",
              "         [0.0000],\n",
              "         [0.0000],\n",
              "         [0.0000],\n",
              "         [0.0000],\n",
              "         [0.0000],\n",
              "         [0.0000],\n",
              "         [0.0000],\n",
              "         [0.0000],\n",
              "         [0.0000],\n",
              "         [0.0000],\n",
              "         [0.0000],\n",
              "         [0.0000],\n",
              "         [0.0431],\n",
              "         [0.5882],\n",
              "         [0.9961],\n",
              "         [0.4784],\n",
              "         [0.0000],\n",
              "         [0.0000],\n",
              "         [0.0000],\n",
              "         [0.0000],\n",
              "         [0.0000],\n",
              "         [0.0000],\n",
              "         [0.0000],\n",
              "         [0.0000],\n",
              "         [0.0000],\n",
              "         [0.0000],\n",
              "         [0.0000]],\n",
              "\n",
              "        [[0.0000],\n",
              "         [0.0000],\n",
              "         [0.0000],\n",
              "         [0.0000],\n",
              "         [0.0000],\n",
              "         [0.0000],\n",
              "         [0.0000],\n",
              "         [0.0000],\n",
              "         [0.0000],\n",
              "         [0.0000],\n",
              "         [0.0000],\n",
              "         [0.0000],\n",
              "         [0.0000],\n",
              "         [0.4549],\n",
              "         [0.9961],\n",
              "         [0.9922],\n",
              "         [0.2706],\n",
              "         [0.0000],\n",
              "         [0.0000],\n",
              "         [0.0000],\n",
              "         [0.0000],\n",
              "         [0.0000],\n",
              "         [0.0000],\n",
              "         [0.0000],\n",
              "         [0.0000],\n",
              "         [0.0000],\n",
              "         [0.0000],\n",
              "         [0.0000]],\n",
              "\n",
              "        [[0.0000],\n",
              "         [0.0000],\n",
              "         [0.0000],\n",
              "         [0.0000],\n",
              "         [0.0000],\n",
              "         [0.0000],\n",
              "         [0.0000],\n",
              "         [0.0000],\n",
              "         [0.0000],\n",
              "         [0.0000],\n",
              "         [0.0000],\n",
              "         [0.0000],\n",
              "         [0.0000],\n",
              "         [0.5765],\n",
              "         [0.9961],\n",
              "         [0.8588],\n",
              "         [0.0745],\n",
              "         [0.0000],\n",
              "         [0.0000],\n",
              "         [0.0000],\n",
              "         [0.0000],\n",
              "         [0.0000],\n",
              "         [0.0000],\n",
              "         [0.0000],\n",
              "         [0.0000],\n",
              "         [0.0000],\n",
              "         [0.0000],\n",
              "         [0.0000]],\n",
              "\n",
              "        [[0.0000],\n",
              "         [0.0000],\n",
              "         [0.0000],\n",
              "         [0.0000],\n",
              "         [0.0000],\n",
              "         [0.0000],\n",
              "         [0.0000],\n",
              "         [0.0000],\n",
              "         [0.0000],\n",
              "         [0.0000],\n",
              "         [0.0000],\n",
              "         [0.0000],\n",
              "         [0.3020],\n",
              "         [0.9373],\n",
              "         [0.9647],\n",
              "         [0.3098],\n",
              "         [0.0000],\n",
              "         [0.0000],\n",
              "         [0.0000],\n",
              "         [0.0000],\n",
              "         [0.0000],\n",
              "         [0.0000],\n",
              "         [0.0000],\n",
              "         [0.0000],\n",
              "         [0.0000],\n",
              "         [0.0000],\n",
              "         [0.0000],\n",
              "         [0.0000]],\n",
              "\n",
              "        [[0.0000],\n",
              "         [0.0000],\n",
              "         [0.0000],\n",
              "         [0.0000],\n",
              "         [0.0000],\n",
              "         [0.0000],\n",
              "         [0.0000],\n",
              "         [0.0000],\n",
              "         [0.0000],\n",
              "         [0.0000],\n",
              "         [0.0000],\n",
              "         [0.1255],\n",
              "         [0.8980],\n",
              "         [0.9922],\n",
              "         [0.6980],\n",
              "         [0.0000],\n",
              "         [0.0000],\n",
              "         [0.0000],\n",
              "         [0.0000],\n",
              "         [0.0000],\n",
              "         [0.0000],\n",
              "         [0.0000],\n",
              "         [0.0000],\n",
              "         [0.0000],\n",
              "         [0.0000],\n",
              "         [0.0000],\n",
              "         [0.0000],\n",
              "         [0.0000]],\n",
              "\n",
              "        [[0.0000],\n",
              "         [0.0000],\n",
              "         [0.0000],\n",
              "         [0.0000],\n",
              "         [0.0000],\n",
              "         [0.0000],\n",
              "         [0.0000],\n",
              "         [0.0000],\n",
              "         [0.0000],\n",
              "         [0.0000],\n",
              "         [0.0196],\n",
              "         [0.5451],\n",
              "         [0.9961],\n",
              "         [1.0000],\n",
              "         [0.4157],\n",
              "         [0.0000],\n",
              "         [0.0000],\n",
              "         [0.0000],\n",
              "         [0.0000],\n",
              "         [0.0000],\n",
              "         [0.0000],\n",
              "         [0.0000],\n",
              "         [0.0000],\n",
              "         [0.0000],\n",
              "         [0.0000],\n",
              "         [0.0000],\n",
              "         [0.0000],\n",
              "         [0.0000]],\n",
              "\n",
              "        [[0.0000],\n",
              "         [0.0000],\n",
              "         [0.0000],\n",
              "         [0.0000],\n",
              "         [0.0000],\n",
              "         [0.0000],\n",
              "         [0.0000],\n",
              "         [0.0000],\n",
              "         [0.0000],\n",
              "         [0.0000],\n",
              "         [0.1843],\n",
              "         [0.9922],\n",
              "         [0.9922],\n",
              "         [0.7020],\n",
              "         [0.0000],\n",
              "         [0.0000],\n",
              "         [0.0000],\n",
              "         [0.0000],\n",
              "         [0.0000],\n",
              "         [0.0000],\n",
              "         [0.0000],\n",
              "         [0.0000],\n",
              "         [0.0000],\n",
              "         [0.0000],\n",
              "         [0.0000],\n",
              "         [0.0000],\n",
              "         [0.0000],\n",
              "         [0.0000]],\n",
              "\n",
              "        [[0.0000],\n",
              "         [0.0000],\n",
              "         [0.0000],\n",
              "         [0.0000],\n",
              "         [0.0000],\n",
              "         [0.0000],\n",
              "         [0.0000],\n",
              "         [0.0000],\n",
              "         [0.0000],\n",
              "         [0.0000],\n",
              "         [0.3098],\n",
              "         [0.9922],\n",
              "         [0.8941],\n",
              "         [0.1882],\n",
              "         [0.0000],\n",
              "         [0.0000],\n",
              "         [0.0000],\n",
              "         [0.0000],\n",
              "         [0.0000],\n",
              "         [0.0000],\n",
              "         [0.0000],\n",
              "         [0.0000],\n",
              "         [0.0000],\n",
              "         [0.0000],\n",
              "         [0.0000],\n",
              "         [0.0000],\n",
              "         [0.0000],\n",
              "         [0.0000]],\n",
              "\n",
              "        [[0.0000],\n",
              "         [0.0000],\n",
              "         [0.0000],\n",
              "         [0.0000],\n",
              "         [0.0000],\n",
              "         [0.0000],\n",
              "         [0.0000],\n",
              "         [0.0000],\n",
              "         [0.0000],\n",
              "         [0.0000],\n",
              "         [0.6353],\n",
              "         [0.9922],\n",
              "         [0.4667],\n",
              "         [0.0000],\n",
              "         [0.0000],\n",
              "         [0.0000],\n",
              "         [0.0000],\n",
              "         [0.0000],\n",
              "         [0.0000],\n",
              "         [0.0000],\n",
              "         [0.0000],\n",
              "         [0.0000],\n",
              "         [0.0000],\n",
              "         [0.0000],\n",
              "         [0.0000],\n",
              "         [0.0000],\n",
              "         [0.0000],\n",
              "         [0.0000]],\n",
              "\n",
              "        [[0.0000],\n",
              "         [0.0000],\n",
              "         [0.0000],\n",
              "         [0.0000],\n",
              "         [0.0000],\n",
              "         [0.0000],\n",
              "         [0.0000],\n",
              "         [0.0000],\n",
              "         [0.0000],\n",
              "         [0.0431],\n",
              "         [0.8000],\n",
              "         [0.8706],\n",
              "         [0.0980],\n",
              "         [0.0000],\n",
              "         [0.0000],\n",
              "         [0.0000],\n",
              "         [0.0000],\n",
              "         [0.0000],\n",
              "         [0.0000],\n",
              "         [0.0000],\n",
              "         [0.0000],\n",
              "         [0.0000],\n",
              "         [0.0000],\n",
              "         [0.0000],\n",
              "         [0.0000],\n",
              "         [0.0000],\n",
              "         [0.0000],\n",
              "         [0.0000]],\n",
              "\n",
              "        [[0.0000],\n",
              "         [0.0000],\n",
              "         [0.0000],\n",
              "         [0.0000],\n",
              "         [0.0000],\n",
              "         [0.0000],\n",
              "         [0.0000],\n",
              "         [0.0000],\n",
              "         [0.0000],\n",
              "         [0.0000],\n",
              "         [0.0000],\n",
              "         [0.0000],\n",
              "         [0.0000],\n",
              "         [0.0000],\n",
              "         [0.0000],\n",
              "         [0.0000],\n",
              "         [0.0000],\n",
              "         [0.0000],\n",
              "         [0.0000],\n",
              "         [0.0000],\n",
              "         [0.0000],\n",
              "         [0.0000],\n",
              "         [0.0000],\n",
              "         [0.0000],\n",
              "         [0.0000],\n",
              "         [0.0000],\n",
              "         [0.0000],\n",
              "         [0.0000]],\n",
              "\n",
              "        [[0.0000],\n",
              "         [0.0000],\n",
              "         [0.0000],\n",
              "         [0.0000],\n",
              "         [0.0000],\n",
              "         [0.0000],\n",
              "         [0.0000],\n",
              "         [0.0000],\n",
              "         [0.0000],\n",
              "         [0.0000],\n",
              "         [0.0000],\n",
              "         [0.0000],\n",
              "         [0.0000],\n",
              "         [0.0000],\n",
              "         [0.0000],\n",
              "         [0.0000],\n",
              "         [0.0000],\n",
              "         [0.0000],\n",
              "         [0.0000],\n",
              "         [0.0000],\n",
              "         [0.0000],\n",
              "         [0.0000],\n",
              "         [0.0000],\n",
              "         [0.0000],\n",
              "         [0.0000],\n",
              "         [0.0000],\n",
              "         [0.0000],\n",
              "         [0.0000]],\n",
              "\n",
              "        [[0.0000],\n",
              "         [0.0000],\n",
              "         [0.0000],\n",
              "         [0.0000],\n",
              "         [0.0000],\n",
              "         [0.0000],\n",
              "         [0.0000],\n",
              "         [0.0000],\n",
              "         [0.0000],\n",
              "         [0.0000],\n",
              "         [0.0000],\n",
              "         [0.0000],\n",
              "         [0.0000],\n",
              "         [0.0000],\n",
              "         [0.0000],\n",
              "         [0.0000],\n",
              "         [0.0000],\n",
              "         [0.0000],\n",
              "         [0.0000],\n",
              "         [0.0000],\n",
              "         [0.0000],\n",
              "         [0.0000],\n",
              "         [0.0000],\n",
              "         [0.0000],\n",
              "         [0.0000],\n",
              "         [0.0000],\n",
              "         [0.0000],\n",
              "         [0.0000]],\n",
              "\n",
              "        [[0.0000],\n",
              "         [0.0000],\n",
              "         [0.0000],\n",
              "         [0.0000],\n",
              "         [0.0000],\n",
              "         [0.0000],\n",
              "         [0.0000],\n",
              "         [0.0000],\n",
              "         [0.0000],\n",
              "         [0.0000],\n",
              "         [0.0000],\n",
              "         [0.0000],\n",
              "         [0.0000],\n",
              "         [0.0000],\n",
              "         [0.0000],\n",
              "         [0.0000],\n",
              "         [0.0000],\n",
              "         [0.0000],\n",
              "         [0.0000],\n",
              "         [0.0000],\n",
              "         [0.0000],\n",
              "         [0.0000],\n",
              "         [0.0000],\n",
              "         [0.0000],\n",
              "         [0.0000],\n",
              "         [0.0000],\n",
              "         [0.0000],\n",
              "         [0.0000]]])"
            ]
          },
          "metadata": {
            "tags": []
          },
          "execution_count": 15
        }
      ]
    },
    {
      "cell_type": "code",
      "metadata": {
        "colab": {
          "base_uri": "https://localhost:8080/",
          "height": 320
        },
        "id": "RBNdeLeRmZBR",
        "outputId": "fa1a1eff-8ebd-4626-ae6b-594eb48745c2"
      },
      "source": [
        "# tensorから2次元のarrayに変換する\n",
        "sns.heatmap(img_permute.numpy()[:, :, 0])"
      ],
      "execution_count": 16,
      "outputs": [
        {
          "output_type": "stream",
          "text": [
            "\n",
            "\n"
          ],
          "name": "stdout"
        },
        {
          "output_type": "execute_result",
          "data": {
            "text/plain": [
              "<matplotlib.axes._subplots.AxesSubplot at 0x7fd978735cf8>"
            ]
          },
          "metadata": {
            "tags": []
          },
          "execution_count": 16
        },
        {
          "output_type": "display_data",
          "data": {
            "image/png": "[encoded data removed]",
            "text/plain": [
              "<Figure size 432x288 with 2 Axes>"
            ]
          },
          "metadata": {
            "tags": [],
            "needs_background": "light"
          }
        }
      ]
    },
    {
      "cell_type": "code",
      "metadata": {
        "colab": {
          "base_uri": "https://localhost:8080/"
        },
        "id": "MqLAtdOhmeH5",
        "outputId": "8fb3c086-946c-46a4-fc60-4bc039199094"
      },
      "source": [
        "labels[0]"
      ],
      "execution_count": 17,
      "outputs": [
        {
          "output_type": "execute_result",
          "data": {
            "text/plain": [
              "tensor(1)"
            ]
          },
          "metadata": {
            "tags": []
          },
          "execution_count": 17
        }
      ]
    },
    {
      "cell_type": "code",
      "metadata": {
        "id": "CPdP5usemruv"
      },
      "source": [
        "class MLP(nn.Module):\n",
        "    def __init__(self):\n",
        "        super().__init__()\n",
        "        self.classifier = nn.Sequential(\n",
        "            # 第1引数：input\n",
        "            # 第2引数：output\n",
        "            nn.Linear(28 * 28, 400),\n",
        "            # メモリを節約出来る\n",
        "            nn.ReLU(inplace=True),\n",
        "            nn.Linear(400, 200),\n",
        "            nn.ReLU(inplace=True),\n",
        "            nn.Linear(200, 100),\n",
        "            nn.ReLU(inplace=True),\n",
        "            nn.Linear(100, 10)\n",
        "        )\n",
        "    def forward(self, x):\n",
        "        output = self.classifier(x)\n",
        "        return output"
      ],
      "execution_count": 18,
      "outputs": []
    },
    {
      "cell_type": "code",
      "metadata": {
        "id": "dNunXFu_nexV"
      },
      "source": [
        "model = MLP()"
      ],
      "execution_count": 19,
      "outputs": []
    },
    {
      "cell_type": "code",
      "metadata": {
        "colab": {
          "base_uri": "https://localhost:8080/"
        },
        "id": "-mp3WGIbniXA",
        "outputId": "20dad4c7-0a54-41e1-9b68-5a6502e7768a"
      },
      "source": [
        "model.to(device)"
      ],
      "execution_count": 20,
      "outputs": [
        {
          "output_type": "execute_result",
          "data": {
            "text/plain": [
              "MLP(\n",
              "  (classifier): Sequential(\n",
              "    (0): Linear(in_features=784, out_features=400, bias=True)\n",
              "    (1): ReLU(inplace=True)\n",
              "    (2): Linear(in_features=400, out_features=200, bias=True)\n",
              "    (3): ReLU(inplace=True)\n",
              "    (4): Linear(in_features=200, out_features=100, bias=True)\n",
              "    (5): ReLU(inplace=True)\n",
              "    (6): Linear(in_features=100, out_features=10, bias=True)\n",
              "  )\n",
              ")"
            ]
          },
          "metadata": {
            "tags": []
          },
          "execution_count": 20
        }
      ]
    },
    {
      "cell_type": "code",
      "metadata": {
        "id": "Ue9kmbBOnlUW"
      },
      "source": [
        "criterion = nn.CrossEntropyLoss()\n",
        "optimizer = optim.Adam(model.parameters(), lr=0.001)"
      ],
      "execution_count": 21,
      "outputs": []
    },
    {
      "cell_type": "code",
      "metadata": {
        "colab": {
          "base_uri": "https://localhost:8080/"
        },
        "id": "gA54TR05oWq_",
        "outputId": "ff0332e8-71a8-4ffd-98d6-6eafc5f86908"
      },
      "source": [
        "num_epochs = 15\n",
        "losses = []\n",
        "accs = []\n",
        "for epoch in range(num_epochs):\n",
        "    running_loss = 0.0\n",
        "    running_acc = 0.0\n",
        "    for imgs, labels in train_dataloader:\n",
        "        imgs = imgs.view(num_batches, -1)\n",
        "        imgs = imgs.to(device)\n",
        "        labels = labels.to(device)\n",
        "        optimizer.zero_grad()\n",
        "        output = model(imgs)\n",
        "        loss = criterion(output, labels)\n",
        "        running_loss += loss.item()\n",
        "        # dim=1 => 0-9の分類方向のMax値を返す\n",
        "        pred = torch.argmax(output, dim=1)\n",
        "        running_acc += torch.mean(pred.eq(labels).float())\n",
        "        loss.backward()\n",
        "        optimizer.step()\n",
        "    # 600回分で割る\n",
        "    running_loss /= len(train_dataloader)\n",
        "    running_acc /= len(train_dataloader)\n",
        "    losses.append(running_loss)\n",
        "    accs.append(running_acc)\n",
        "    print(\"epoch: {}, loss: {}, acc: {}\".format(epoch, running_loss, running_acc))"
      ],
      "execution_count": 22,
      "outputs": [
        {
          "output_type": "stream",
          "text": [
            "epoch: 0, loss: 0.30317524713153643, acc: 0.9103173017501831\n",
            "epoch: 1, loss: 0.10486560077561687, acc: 0.9682163596153259\n",
            "epoch: 2, loss: 0.07085319480005031, acc: 0.9783489108085632\n",
            "epoch: 3, loss: 0.051208502954104916, acc: 0.983681857585907\n",
            "epoch: 4, loss: 0.039856257903544856, acc: 0.9872986674308777\n",
            "epoch: 5, loss: 0.031222712240414695, acc: 0.9899818897247314\n",
            "epoch: 6, loss: 0.027141132558463142, acc: 0.991348147392273\n",
            "epoch: 7, loss: 0.02016598453662785, acc: 0.9935652613639832\n",
            "epoch: 8, loss: 0.018637861243769295, acc: 0.993831992149353\n",
            "epoch: 9, loss: 0.018294134559328087, acc: 0.9940817356109619\n",
            "epoch: 10, loss: 0.015549954691086896, acc: 0.9951152801513672\n",
            "epoch: 11, loss: 0.015609512751610358, acc: 0.9950652122497559\n",
            "epoch: 12, loss: 0.011300798359510129, acc: 0.9964988231658936\n",
            "epoch: 13, loss: 0.013379513326005205, acc: 0.9955316185951233\n",
            "epoch: 14, loss: 0.010116237265647214, acc: 0.9967653155326843\n"
          ],
          "name": "stdout"
        }
      ]
    },
    {
      "cell_type": "code",
      "metadata": {
        "colab": {
          "base_uri": "https://localhost:8080/",
          "height": 282
        },
        "id": "1j-nMNHOqMiS",
        "outputId": "e21bdd66-608c-486c-ea3f-bcc29407be17"
      },
      "source": [
        "plt.plot(losses)"
      ],
      "execution_count": 23,
      "outputs": [
        {
          "output_type": "execute_result",
          "data": {
            "text/plain": [
              "[<matplotlib.lines.Line2D at 0x7fd97578bf98>]"
            ]
          },
          "metadata": {
            "tags": []
          },
          "execution_count": 23
        },
        {
          "output_type": "display_data",
          "data": {
            "image/png": "[encoded data removed]",
            "text/plain": [
              "<Figure size 432x288 with 1 Axes>"
            ]
          },
          "metadata": {
            "tags": [],
            "needs_background": "light"
          }
        }
      ]
    },
    {
      "cell_type": "code",
      "metadata": {
        "colab": {
          "base_uri": "https://localhost:8080/",
          "height": 284
        },
        "id": "pfooZ7qxq4ci",
        "outputId": "309dfc33-c7f7-4b8d-dc0b-5bb39cd88f1b"
      },
      "source": [
        "plt.plot(accs)"
      ],
      "execution_count": 24,
      "outputs": [
        {
          "output_type": "execute_result",
          "data": {
            "text/plain": [
              "[<matplotlib.lines.Line2D at 0x7fd975879ef0>]"
            ]
          },
          "metadata": {
            "tags": []
          },
          "execution_count": 24
        },
        {
          "output_type": "display_data",
          "data": {
            "image/png": "[encoded data removed]",
            "text/plain": [
              "<Figure size 432x288 with 1 Axes>"
            ]
          },
          "metadata": {
            "tags": [],
            "needs_background": "light"
          }
        }
      ]
    },
    {
      "cell_type": "code",
      "metadata": {
        "id": "Z2hBAra3q8gg"
      },
      "source": [
        "train_iter = iter(train_dataloader)"
      ],
      "execution_count": 25,
      "outputs": []
    },
    {
      "cell_type": "code",
      "metadata": {
        "id": "fqkJyrIvrKfp"
      },
      "source": [
        "imgs, labels = train_iter.next()"
      ],
      "execution_count": 26,
      "outputs": []
    },
    {
      "cell_type": "code",
      "metadata": {
        "colab": {
          "base_uri": "https://localhost:8080/"
        },
        "id": "Cl9N84LmrNlj",
        "outputId": "777cfb76-2cb0-4cf4-fcf9-4f39fec4bf07"
      },
      "source": [
        "labels"
      ],
      "execution_count": 27,
      "outputs": [
        {
          "output_type": "execute_result",
          "data": {
            "text/plain": [
              "tensor([0, 5, 7, 4, 2, 0, 2, 2, 0, 1, 3, 1, 6, 8, 7, 4, 4, 9, 7, 1, 2, 2, 2, 5,\n",
              "        5, 6, 3, 3, 2, 8, 0, 1, 6, 4, 4, 0, 8, 6, 9, 9, 9, 1, 7, 0, 5, 5, 2, 4,\n",
              "        0, 7, 3, 2, 4, 6, 7, 4, 6, 3, 7, 3, 4, 1, 5, 4, 6, 9, 9, 2, 9, 9, 9, 9,\n",
              "        6, 0, 6, 0, 7, 9, 7, 1, 6, 8, 2, 5, 4, 6, 7, 3, 8, 0, 7, 9, 3, 6, 2, 3,\n",
              "        2, 8, 8, 5])"
            ]
          },
          "metadata": {
            "tags": []
          },
          "execution_count": 27
        }
      ]
    },
    {
      "cell_type": "code",
      "metadata": {
        "id": "L07SmP3ArO7I"
      },
      "source": [
        "imgs_gpu = imgs.view(100, -1).to(device)\n",
        "output= model(imgs_gpu)"
      ],
      "execution_count": 28,
      "outputs": []
    },
    {
      "cell_type": "code",
      "metadata": {
        "id": "nDZxmWNSrftX"
      },
      "source": [
        "pred = torch.argmax(output, dim=1)"
      ],
      "execution_count": 29,
      "outputs": []
    },
    {
      "cell_type": "code",
      "metadata": {
        "colab": {
          "base_uri": "https://localhost:8080/"
        },
        "id": "4IMUJoEsrlWY",
        "outputId": "330c7680-0b7c-4d73-f082-2224017df131"
      },
      "source": [
        "pred"
      ],
      "execution_count": 30,
      "outputs": [
        {
          "output_type": "execute_result",
          "data": {
            "text/plain": [
              "tensor([0, 5, 7, 4, 2, 0, 2, 2, 0, 1, 3, 1, 6, 8, 7, 4, 4, 9, 7, 1, 2, 2, 2, 5,\n",
              "        5, 6, 3, 3, 2, 8, 0, 1, 6, 4, 4, 0, 8, 6, 9, 9, 9, 1, 7, 0, 5, 5, 2, 4,\n",
              "        0, 7, 3, 2, 4, 6, 7, 4, 6, 3, 7, 3, 4, 1, 5, 4, 6, 9, 9, 2, 9, 9, 9, 9,\n",
              "        6, 0, 6, 0, 7, 9, 7, 1, 6, 8, 2, 5, 4, 6, 7, 3, 8, 0, 7, 9, 3, 6, 2, 3,\n",
              "        2, 8, 8, 5])"
            ]
          },
          "metadata": {
            "tags": []
          },
          "execution_count": 30
        }
      ]
    },
    {
      "cell_type": "code",
      "metadata": {
        "id": "zbRBE2jMrmYZ"
      },
      "source": [
        "# 重み、バイアスを抜き出す\n",
        "params = model.state_dict()"
      ],
      "execution_count": 31,
      "outputs": []
    },
    {
      "cell_type": "code",
      "metadata": {
        "id": "mKFnt9_usJzh"
      },
      "source": [
        "# 抜き出した重み、バイアスをprmファイルに保存する。\n",
        "torch.save(params, \"model.prm\")"
      ],
      "execution_count": 32,
      "outputs": []
    },
    {
      "cell_type": "code",
      "metadata": {
        "colab": {
          "base_uri": "https://localhost:8080/"
        },
        "id": "M8F8HddMsPgp",
        "outputId": "413132d9-52db-4159-e72e-e6f83c5f96a0"
      },
      "source": [
        "!ls"
      ],
      "execution_count": 33,
      "outputs": [
        {
          "output_type": "stream",
          "text": [
            "MLP  model.prm\tsample_data\n"
          ],
          "name": "stdout"
        }
      ]
    },
    {
      "cell_type": "code",
      "metadata": {
        "id": "utltbvfxsV83"
      },
      "source": [
        "param_load = torch.load(\"model.prm\")"
      ],
      "execution_count": 34,
      "outputs": []
    },
    {
      "cell_type": "code",
      "metadata": {
        "colab": {
          "base_uri": "https://localhost:8080/"
        },
        "id": "x6vIrO6EsfPn",
        "outputId": "6c01e644-ec7d-4f35-8988-f87f464fc786"
      },
      "source": [
        "model.load_state_dict(param_load)"
      ],
      "execution_count": 35,
      "outputs": [
        {
          "output_type": "execute_result",
          "data": {
            "text/plain": [
              "<All keys matched successfully>"
            ]
          },
          "metadata": {
            "tags": []
          },
          "execution_count": 35
        }
      ]
    },
    {
      "cell_type": "code",
      "metadata": {
        "colab": {
          "base_uri": "https://localhost:8080/"
        },
        "id": "aKKnVyXpsj7n",
        "outputId": "ac0b894b-46fe-4098-ebe8-0a98fbd8ed53"
      },
      "source": [
        "num_epochs = 10\n",
        "losses = []\n",
        "accs = []\n",
        "for epoch in range(num_epochs):\n",
        "    running_loss = 0.0\n",
        "    running_acc = 0.0\n",
        "    for imgs, labels in train_dataloader:\n",
        "        imgs = imgs.view(num_batches, -1)\n",
        "        imgs = imgs.to(device)\n",
        "        labels = labels.to(device)\n",
        "        optimizer.zero_grad()\n",
        "        output = model(imgs)\n",
        "        loss = criterion(output, labels)\n",
        "        running_loss += loss.item()\n",
        "        # dim=1 => 0-9の分類方向のMax値を返す\n",
        "        pred = torch.argmax(output, dim=1)\n",
        "        running_acc += torch.mean(pred.eq(labels).float())\n",
        "        loss.backward()\n",
        "        optimizer.step()\n",
        "    # 600回分で割る\n",
        "    running_loss /= len(train_dataloader)\n",
        "    running_acc /= len(train_dataloader)\n",
        "    losses.append(running_loss)\n",
        "    accs.append(running_acc)\n",
        "    print(\"epoch: {}, loss: {}, acc: {}\".format(epoch, running_loss, running_acc))"
      ],
      "execution_count": 36,
      "outputs": [
        {
          "output_type": "stream",
          "text": [
            "epoch: 0, loss: 0.010084920997166288, acc: 0.9967657327651978\n",
            "epoch: 1, loss: 0.00796181476405233, acc: 0.9973655343055725\n",
            "epoch: 2, loss: 0.011313071262884477, acc: 0.995915412902832\n",
            "epoch: 3, loss: 0.0075736459271138305, acc: 0.997515857219696\n",
            "epoch: 4, loss: 0.01027795355610427, acc: 0.9967154860496521\n",
            "epoch: 5, loss: 0.006435076927781627, acc: 0.9979325532913208\n",
            "epoch: 6, loss: 0.00751345808648163, acc: 0.9974156618118286\n",
            "epoch: 7, loss: 0.008477863503310345, acc: 0.9972990155220032\n",
            "epoch: 8, loss: 0.0059549959689706115, acc: 0.9978830218315125\n",
            "epoch: 9, loss: 0.005946328057404552, acc: 0.998015820980072\n"
          ],
          "name": "stdout"
        }
      ]
    }
  ]
}