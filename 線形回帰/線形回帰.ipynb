{
  "nbformat": 4,
  "nbformat_minor": 0,
  "metadata": {
    "colab": {
      "name": "線形回帰.ipynb",
      "provenance": [],
      "collapsed_sections": []
    },
    "kernelspec": {
      "display_name": "Python 3",
      "language": "python",
      "name": "python3"
    },
    "language_info": {
      "codemirror_mode": {
        "name": "ipython",
        "version": 3
      },
      "file_extension": ".py",
      "mimetype": "text/x-python",
      "name": "python",
      "nbconvert_exporter": "python",
      "pygments_lexer": "ipython3",
      "version": "3.5.5"
    }
  },
  "cells": [
    {
      "cell_type": "code",
      "metadata": {
        "id": "WC6X7h32HxS2"
      },
      "source": [
        "import torch\n",
        "import torch.nn as nn\n",
        "import torch.optim as optim\n",
        "import matplotlib.pyplot as plt\n",
        "import numpy as np\n",
        "%matplotlib inline\n",
        "plt.style.use(\"ggplot\")"
      ],
      "execution_count": 24,
      "outputs": []
    },
    {
      "cell_type": "code",
      "metadata": {
        "colab": {
          "base_uri": "https://localhost:8080/"
        },
        "id": "-zAGvUTFZG5Q",
        "outputId": "5eb31444-cadc-44bf-829c-d636aa7a7e5d"
      },
      "source": [
        "# 乱数を使用した時に、毎回同じ結果を得るために指定\n",
        "torch.manual_seed(123)"
      ],
      "execution_count": 25,
      "outputs": [
        {
          "output_type": "execute_result",
          "data": {
            "text/plain": [
              "<torch._C.Generator at 0x7f2bb5f4db58>"
            ]
          },
          "metadata": {
            "tags": []
          },
          "execution_count": 25
        }
      ]
    },
    {
      "cell_type": "code",
      "metadata": {
        "id": "S7e1ELq0ZSjO"
      },
      "source": [
        "a = 5\n",
        "b = 2\n",
        "# 0〜10の間のデータを100個作成\n",
        "x = torch.linspace(0, 10, 100)"
      ],
      "execution_count": 26,
      "outputs": []
    },
    {
      "cell_type": "code",
      "metadata": {
        "colab": {
          "base_uri": "https://localhost:8080/"
        },
        "id": "LKavOJJxpaRh",
        "outputId": "072c8568-6dc9-4cc4-98b3-bb815b431433"
      },
      "source": [
        "x"
      ],
      "execution_count": 27,
      "outputs": [
        {
          "output_type": "execute_result",
          "data": {
            "text/plain": [
              "tensor([ 0.0000,  0.1010,  0.2020,  0.3030,  0.4040,  0.5051,  0.6061,  0.7071,\n",
              "         0.8081,  0.9091,  1.0101,  1.1111,  1.2121,  1.3131,  1.4141,  1.5152,\n",
              "         1.6162,  1.7172,  1.8182,  1.9192,  2.0202,  2.1212,  2.2222,  2.3232,\n",
              "         2.4242,  2.5253,  2.6263,  2.7273,  2.8283,  2.9293,  3.0303,  3.1313,\n",
              "         3.2323,  3.3333,  3.4343,  3.5354,  3.6364,  3.7374,  3.8384,  3.9394,\n",
              "         4.0404,  4.1414,  4.2424,  4.3434,  4.4444,  4.5455,  4.6465,  4.7475,\n",
              "         4.8485,  4.9495,  5.0505,  5.1515,  5.2525,  5.3535,  5.4545,  5.5556,\n",
              "         5.6566,  5.7576,  5.8586,  5.9596,  6.0606,  6.1616,  6.2626,  6.3636,\n",
              "         6.4646,  6.5657,  6.6667,  6.7677,  6.8687,  6.9697,  7.0707,  7.1717,\n",
              "         7.2727,  7.3737,  7.4747,  7.5758,  7.6768,  7.7778,  7.8788,  7.9798,\n",
              "         8.0808,  8.1818,  8.2828,  8.3838,  8.4848,  8.5859,  8.6869,  8.7879,\n",
              "         8.8889,  8.9899,  9.0909,  9.1919,  9.2929,  9.3939,  9.4950,  9.5960,\n",
              "         9.6970,  9.7980,  9.8990, 10.0000])"
            ]
          },
          "metadata": {
            "tags": []
          },
          "execution_count": 27
        }
      ]
    },
    {
      "cell_type": "code",
      "metadata": {
        "id": "B81HERBrqFR5"
      },
      "source": [
        "# view：サイズ数を調整する。以下は元々1個の配列に100個データが入っていたが、100個の配列に1個のデータが入るように変形している。\n",
        "# 第一引数はバッチの次元を指定する。\n",
        "x = x.view(100, 1)"
      ],
      "execution_count": 28,
      "outputs": []
    },
    {
      "cell_type": "code",
      "metadata": {
        "colab": {
          "base_uri": "https://localhost:8080/"
        },
        "id": "but9yt7vqMDQ",
        "outputId": "0bf3d6a4-1b34-46aa-a7fc-ac432248a828"
      },
      "source": [
        "x"
      ],
      "execution_count": 29,
      "outputs": [
        {
          "output_type": "execute_result",
          "data": {
            "text/plain": [
              "tensor([[ 0.0000],\n",
              "        [ 0.1010],\n",
              "        [ 0.2020],\n",
              "        [ 0.3030],\n",
              "        [ 0.4040],\n",
              "        [ 0.5051],\n",
              "        [ 0.6061],\n",
              "        [ 0.7071],\n",
              "        [ 0.8081],\n",
              "        [ 0.9091],\n",
              "        [ 1.0101],\n",
              "        [ 1.1111],\n",
              "        [ 1.2121],\n",
              "        [ 1.3131],\n",
              "        [ 1.4141],\n",
              "        [ 1.5152],\n",
              "        [ 1.6162],\n",
              "        [ 1.7172],\n",
              "        [ 1.8182],\n",
              "        [ 1.9192],\n",
              "        [ 2.0202],\n",
              "        [ 2.1212],\n",
              "        [ 2.2222],\n",
              "        [ 2.3232],\n",
              "        [ 2.4242],\n",
              "        [ 2.5253],\n",
              "        [ 2.6263],\n",
              "        [ 2.7273],\n",
              "        [ 2.8283],\n",
              "        [ 2.9293],\n",
              "        [ 3.0303],\n",
              "        [ 3.1313],\n",
              "        [ 3.2323],\n",
              "        [ 3.3333],\n",
              "        [ 3.4343],\n",
              "        [ 3.5354],\n",
              "        [ 3.6364],\n",
              "        [ 3.7374],\n",
              "        [ 3.8384],\n",
              "        [ 3.9394],\n",
              "        [ 4.0404],\n",
              "        [ 4.1414],\n",
              "        [ 4.2424],\n",
              "        [ 4.3434],\n",
              "        [ 4.4444],\n",
              "        [ 4.5455],\n",
              "        [ 4.6465],\n",
              "        [ 4.7475],\n",
              "        [ 4.8485],\n",
              "        [ 4.9495],\n",
              "        [ 5.0505],\n",
              "        [ 5.1515],\n",
              "        [ 5.2525],\n",
              "        [ 5.3535],\n",
              "        [ 5.4545],\n",
              "        [ 5.5556],\n",
              "        [ 5.6566],\n",
              "        [ 5.7576],\n",
              "        [ 5.8586],\n",
              "        [ 5.9596],\n",
              "        [ 6.0606],\n",
              "        [ 6.1616],\n",
              "        [ 6.2626],\n",
              "        [ 6.3636],\n",
              "        [ 6.4646],\n",
              "        [ 6.5657],\n",
              "        [ 6.6667],\n",
              "        [ 6.7677],\n",
              "        [ 6.8687],\n",
              "        [ 6.9697],\n",
              "        [ 7.0707],\n",
              "        [ 7.1717],\n",
              "        [ 7.2727],\n",
              "        [ 7.3737],\n",
              "        [ 7.4747],\n",
              "        [ 7.5758],\n",
              "        [ 7.6768],\n",
              "        [ 7.7778],\n",
              "        [ 7.8788],\n",
              "        [ 7.9798],\n",
              "        [ 8.0808],\n",
              "        [ 8.1818],\n",
              "        [ 8.2828],\n",
              "        [ 8.3838],\n",
              "        [ 8.4848],\n",
              "        [ 8.5859],\n",
              "        [ 8.6869],\n",
              "        [ 8.7879],\n",
              "        [ 8.8889],\n",
              "        [ 8.9899],\n",
              "        [ 9.0909],\n",
              "        [ 9.1919],\n",
              "        [ 9.2929],\n",
              "        [ 9.3939],\n",
              "        [ 9.4950],\n",
              "        [ 9.5960],\n",
              "        [ 9.6970],\n",
              "        [ 9.7980],\n",
              "        [ 9.8990],\n",
              "        [10.0000]])"
            ]
          },
          "metadata": {
            "tags": []
          },
          "execution_count": 29
        }
      ]
    },
    {
      "cell_type": "code",
      "metadata": {
        "id": "yyHizTshZbEE"
      },
      "source": [
        "eps = torch.randn(100, 1)\n",
        "y = a * x + b + eps"
      ],
      "execution_count": 30,
      "outputs": []
    },
    {
      "cell_type": "code",
      "metadata": {
        "colab": {
          "base_uri": "https://localhost:8080/",
          "height": 282
        },
        "id": "zvyFWvo_ZigO",
        "outputId": "5fa84e8e-8851-4f8c-8900-b7d915c907a3"
      },
      "source": [
        "# 散布図を描画する。第1引数にx軸、第2引数にy軸を指定する。\n",
        "plt.scatter(x, y)"
      ],
      "execution_count": 31,
      "outputs": [
        {
          "output_type": "execute_result",
          "data": {
            "text/plain": [
              "<matplotlib.collections.PathCollection at 0x7f2b670be470>"
            ]
          },
          "metadata": {
            "tags": []
          },
          "execution_count": 31
        },
        {
          "output_type": "display_data",
          "data": {
            "image/png": "[encoded data removed]",
            "text/plain": [
              "<Figure size 432x288 with 1 Axes>"
            ]
          },
          "metadata": {
            "tags": []
          }
        }
      ]
    },
    {
      "cell_type": "code",
      "metadata": {
        "id": "semm5rovZu3U"
      },
      "source": [
        "class LR(nn.Module):\n",
        "    def __init__(self):\n",
        "        super().__init__()\n",
        "        # in_features：入力値の数、out_features：出力値の数\n",
        "        self.linear = nn.Linear(in_features=1, out_features=1)\n",
        "    # 順伝播、forwardを定義しておくと、学習中に自動的に呼ばれる\n",
        "    def forward(self, x):\n",
        "        output = self.linear(x)\n",
        "        return output"
      ],
      "execution_count": 32,
      "outputs": []
    },
    {
      "cell_type": "code",
      "metadata": {
        "id": "HzaEE9WsaTLm"
      },
      "source": [
        "model = LR()"
      ],
      "execution_count": 33,
      "outputs": []
    },
    {
      "cell_type": "code",
      "metadata": {
        "id": "-rSMcH8XaVvG"
      },
      "source": [
        "x_test = torch.tensor([[1.0], [2.0]])"
      ],
      "execution_count": 34,
      "outputs": []
    },
    {
      "cell_type": "code",
      "metadata": {
        "colab": {
          "base_uri": "https://localhost:8080/"
        },
        "id": "R-lzM3h4wSq6",
        "outputId": "39d46be4-2408-4183-cccd-35c870405b84"
      },
      "source": [
        "x_test"
      ],
      "execution_count": 35,
      "outputs": [
        {
          "output_type": "execute_result",
          "data": {
            "text/plain": [
              "tensor([[1.],\n",
              "        [2.]])"
            ]
          },
          "metadata": {
            "tags": []
          },
          "execution_count": 35
        }
      ]
    },
    {
      "cell_type": "code",
      "metadata": {
        "colab": {
          "base_uri": "https://localhost:8080/"
        },
        "id": "YU6J5g3Hadju",
        "outputId": "f4aa4d09-b14b-4107-d023-0573ff795dbe"
      },
      "source": [
        "model(x_test)"
      ],
      "execution_count": 36,
      "outputs": [
        {
          "output_type": "execute_result",
          "data": {
            "text/plain": [
              "tensor([[-0.6505],\n",
              "        [-1.4166]], grad_fn=<AddmmBackward>)"
            ]
          },
          "metadata": {
            "tags": []
          },
          "execution_count": 36
        }
      ]
    },
    {
      "cell_type": "code",
      "metadata": {
        "id": "wpZIcbzqafQl"
      },
      "source": [
        "x2 = torch.linspace(0, 3, 100).view(100, 1)"
      ],
      "execution_count": 37,
      "outputs": []
    },
    {
      "cell_type": "code",
      "metadata": {
        "colab": {
          "base_uri": "https://localhost:8080/"
        },
        "id": "_Roi8sRcwcC1",
        "outputId": "07fd6083-9252-4e21-d052-8a9d8051a3fa"
      },
      "source": [
        "x2"
      ],
      "execution_count": 38,
      "outputs": [
        {
          "output_type": "execute_result",
          "data": {
            "text/plain": [
              "tensor([[0.0000],\n",
              "        [0.0303],\n",
              "        [0.0606],\n",
              "        [0.0909],\n",
              "        [0.1212],\n",
              "        [0.1515],\n",
              "        [0.1818],\n",
              "        [0.2121],\n",
              "        [0.2424],\n",
              "        [0.2727],\n",
              "        [0.3030],\n",
              "        [0.3333],\n",
              "        [0.3636],\n",
              "        [0.3939],\n",
              "        [0.4242],\n",
              "        [0.4545],\n",
              "        [0.4848],\n",
              "        [0.5152],\n",
              "        [0.5455],\n",
              "        [0.5758],\n",
              "        [0.6061],\n",
              "        [0.6364],\n",
              "        [0.6667],\n",
              "        [0.6970],\n",
              "        [0.7273],\n",
              "        [0.7576],\n",
              "        [0.7879],\n",
              "        [0.8182],\n",
              "        [0.8485],\n",
              "        [0.8788],\n",
              "        [0.9091],\n",
              "        [0.9394],\n",
              "        [0.9697],\n",
              "        [1.0000],\n",
              "        [1.0303],\n",
              "        [1.0606],\n",
              "        [1.0909],\n",
              "        [1.1212],\n",
              "        [1.1515],\n",
              "        [1.1818],\n",
              "        [1.2121],\n",
              "        [1.2424],\n",
              "        [1.2727],\n",
              "        [1.3030],\n",
              "        [1.3333],\n",
              "        [1.3636],\n",
              "        [1.3939],\n",
              "        [1.4242],\n",
              "        [1.4545],\n",
              "        [1.4848],\n",
              "        [1.5152],\n",
              "        [1.5455],\n",
              "        [1.5758],\n",
              "        [1.6061],\n",
              "        [1.6364],\n",
              "        [1.6667],\n",
              "        [1.6970],\n",
              "        [1.7273],\n",
              "        [1.7576],\n",
              "        [1.7879],\n",
              "        [1.8182],\n",
              "        [1.8485],\n",
              "        [1.8788],\n",
              "        [1.9091],\n",
              "        [1.9394],\n",
              "        [1.9697],\n",
              "        [2.0000],\n",
              "        [2.0303],\n",
              "        [2.0606],\n",
              "        [2.0909],\n",
              "        [2.1212],\n",
              "        [2.1515],\n",
              "        [2.1818],\n",
              "        [2.2121],\n",
              "        [2.2424],\n",
              "        [2.2727],\n",
              "        [2.3030],\n",
              "        [2.3333],\n",
              "        [2.3636],\n",
              "        [2.3939],\n",
              "        [2.4242],\n",
              "        [2.4545],\n",
              "        [2.4848],\n",
              "        [2.5152],\n",
              "        [2.5455],\n",
              "        [2.5758],\n",
              "        [2.6061],\n",
              "        [2.6364],\n",
              "        [2.6667],\n",
              "        [2.6970],\n",
              "        [2.7273],\n",
              "        [2.7576],\n",
              "        [2.7879],\n",
              "        [2.8182],\n",
              "        [2.8485],\n",
              "        [2.8788],\n",
              "        [2.9091],\n",
              "        [2.9394],\n",
              "        [2.9697],\n",
              "        [3.0000]])"
            ]
          },
          "metadata": {
            "tags": []
          },
          "execution_count": 38
        }
      ]
    },
    {
      "cell_type": "code",
      "metadata": {
        "colab": {
          "base_uri": "https://localhost:8080/"
        },
        "id": "r0zxqBhiancV",
        "outputId": "f1948811-e6c2-4fc3-a19b-3aa96c92e3fc"
      },
      "source": [
        "x2.size()"
      ],
      "execution_count": 39,
      "outputs": [
        {
          "output_type": "execute_result",
          "data": {
            "text/plain": [
              "torch.Size([100, 1])"
            ]
          },
          "metadata": {
            "tags": []
          },
          "execution_count": 39
        }
      ]
    },
    {
      "cell_type": "code",
      "metadata": {
        "id": "a6RxYoC9aoc-"
      },
      "source": [
        "y_pred = model(x2)"
      ],
      "execution_count": 40,
      "outputs": []
    },
    {
      "cell_type": "code",
      "metadata": {
        "colab": {
          "base_uri": "https://localhost:8080/"
        },
        "id": "A9AfuGbrxBkw",
        "outputId": "29c0e606-5198-43bd-b546-fe67a72d2c62"
      },
      "source": [
        "y_pred"
      ],
      "execution_count": 41,
      "outputs": [
        {
          "output_type": "execute_result",
          "data": {
            "text/plain": [
              "tensor([[ 1.1556e-01],\n",
              "        [ 9.2342e-02],\n",
              "        [ 6.9127e-02],\n",
              "        [ 4.5912e-02],\n",
              "        [ 2.2697e-02],\n",
              "        [-5.1795e-04],\n",
              "        [-2.3733e-02],\n",
              "        [-4.6948e-02],\n",
              "        [-7.0163e-02],\n",
              "        [-9.3378e-02],\n",
              "        [-1.1659e-01],\n",
              "        [-1.3981e-01],\n",
              "        [-1.6302e-01],\n",
              "        [-1.8624e-01],\n",
              "        [-2.0945e-01],\n",
              "        [-2.3267e-01],\n",
              "        [-2.5588e-01],\n",
              "        [-2.7910e-01],\n",
              "        [-3.0231e-01],\n",
              "        [-3.2553e-01],\n",
              "        [-3.4874e-01],\n",
              "        [-3.7196e-01],\n",
              "        [-3.9517e-01],\n",
              "        [-4.1839e-01],\n",
              "        [-4.4160e-01],\n",
              "        [-4.6482e-01],\n",
              "        [-4.8803e-01],\n",
              "        [-5.1125e-01],\n",
              "        [-5.3446e-01],\n",
              "        [-5.5768e-01],\n",
              "        [-5.8089e-01],\n",
              "        [-6.0411e-01],\n",
              "        [-6.2732e-01],\n",
              "        [-6.5054e-01],\n",
              "        [-6.7375e-01],\n",
              "        [-6.9697e-01],\n",
              "        [-7.2018e-01],\n",
              "        [-7.4340e-01],\n",
              "        [-7.6661e-01],\n",
              "        [-7.8983e-01],\n",
              "        [-8.1304e-01],\n",
              "        [-8.3626e-01],\n",
              "        [-8.5947e-01],\n",
              "        [-8.8269e-01],\n",
              "        [-9.0591e-01],\n",
              "        [-9.2912e-01],\n",
              "        [-9.5234e-01],\n",
              "        [-9.7555e-01],\n",
              "        [-9.9877e-01],\n",
              "        [-1.0220e+00],\n",
              "        [-1.0452e+00],\n",
              "        [-1.0684e+00],\n",
              "        [-1.0916e+00],\n",
              "        [-1.1148e+00],\n",
              "        [-1.1381e+00],\n",
              "        [-1.1613e+00],\n",
              "        [-1.1845e+00],\n",
              "        [-1.2077e+00],\n",
              "        [-1.2309e+00],\n",
              "        [-1.2541e+00],\n",
              "        [-1.2773e+00],\n",
              "        [-1.3006e+00],\n",
              "        [-1.3238e+00],\n",
              "        [-1.3470e+00],\n",
              "        [-1.3702e+00],\n",
              "        [-1.3934e+00],\n",
              "        [-1.4166e+00],\n",
              "        [-1.4399e+00],\n",
              "        [-1.4631e+00],\n",
              "        [-1.4863e+00],\n",
              "        [-1.5095e+00],\n",
              "        [-1.5327e+00],\n",
              "        [-1.5559e+00],\n",
              "        [-1.5791e+00],\n",
              "        [-1.6024e+00],\n",
              "        [-1.6256e+00],\n",
              "        [-1.6488e+00],\n",
              "        [-1.6720e+00],\n",
              "        [-1.6952e+00],\n",
              "        [-1.7184e+00],\n",
              "        [-1.7416e+00],\n",
              "        [-1.7649e+00],\n",
              "        [-1.7881e+00],\n",
              "        [-1.8113e+00],\n",
              "        [-1.8345e+00],\n",
              "        [-1.8577e+00],\n",
              "        [-1.8809e+00],\n",
              "        [-1.9042e+00],\n",
              "        [-1.9274e+00],\n",
              "        [-1.9506e+00],\n",
              "        [-1.9738e+00],\n",
              "        [-1.9970e+00],\n",
              "        [-2.0202e+00],\n",
              "        [-2.0434e+00],\n",
              "        [-2.0667e+00],\n",
              "        [-2.0899e+00],\n",
              "        [-2.1131e+00],\n",
              "        [-2.1363e+00],\n",
              "        [-2.1595e+00],\n",
              "        [-2.1827e+00]], grad_fn=<AddmmBackward>)"
            ]
          },
          "metadata": {
            "tags": []
          },
          "execution_count": 41
        }
      ]
    },
    {
      "cell_type": "code",
      "metadata": {
        "colab": {
          "base_uri": "https://localhost:8080/",
          "height": 282
        },
        "id": "-TvRd7L7arjk",
        "outputId": "82552919-5083-4182-ab13-a24374aa4cae"
      },
      "source": [
        "# 順伝播をしているので、勾配計算処理を外す => detach()\n",
        "# plot：一本の線を描画\n",
        "plt.plot(x2, y_pred.detach(), label=\"prediction\")\n",
        "plt.scatter(x, y, label=\"data\")\n",
        "plt.legend()"
      ],
      "execution_count": 42,
      "outputs": [
        {
          "output_type": "execute_result",
          "data": {
            "text/plain": [
              "<matplotlib.legend.Legend at 0x7f2b66f6ee10>"
            ]
          },
          "metadata": {
            "tags": []
          },
          "execution_count": 42
        },
        {
          "output_type": "display_data",
          "data": {
            "image/png": "[encoded data removed]",
            "text/plain": [
              "<Figure size 432x288 with 1 Axes>"
            ]
          },
          "metadata": {
            "tags": []
          }
        }
      ]
    },
    {
      "cell_type": "code",
      "metadata": {
        "id": "cnS0c8d6a_B-"
      },
      "source": [
        "# 損失関数\n",
        "criterion = nn.MSELoss()\n",
        "# 最適化関数\n",
        "# 第1引数：model.parameters() => 重みとバイアスの情報が入っている。これを更新したい。\n",
        "# 第2引数：学習率\n",
        "optimizer = optim.SGD(model.parameters(), lr=0.001)"
      ],
      "execution_count": 43,
      "outputs": []
    },
    {
      "cell_type": "code",
      "metadata": {
        "colab": {
          "base_uri": "https://localhost:8080/"
        },
        "id": "olnBRKXHbTx9",
        "outputId": "3b8887fd-3fd8-41ca-953d-de039933fbe3"
      },
      "source": [
        "losses = []\n",
        "num_epoch = 500\n",
        "for epoch in range(num_epoch):\n",
        "    # ミニバッチのloopがないため、バッチ学習\n",
        "    \n",
        "    # 勾配の初期化を行う\n",
        "    optimizer.zero_grad()\n",
        "    # 予測値の計算\n",
        "    y_pred = model(x)\n",
        "    # 損失の計算：予想値と正解値を与える\n",
        "    loss = criterion(y_pred, y)\n",
        "    # 損失を誤差逆伝播する\n",
        "    loss.backward()\n",
        "    # 重みとバイアスの更新\n",
        "    optimizer.step()\n",
        "    if epoch % 10 == 0:\n",
        "        print(\"epoch: {}, loss: {}\".format(epoch, loss.item()))\n",
        "        losses.append(loss.item())"
      ],
      "execution_count": 44,
      "outputs": [
        {
          "output_type": "stream",
          "text": [
            "epoch: 0, loss: 1221.19384765625\n",
            "epoch: 10, loss: 296.3516540527344\n",
            "epoch: 20, loss: 72.65264129638672\n",
            "epoch: 30, loss: 18.543027877807617\n",
            "epoch: 40, loss: 5.452998161315918\n",
            "epoch: 50, loss: 2.284636974334717\n",
            "epoch: 60, loss: 1.516102910041809\n",
            "epoch: 70, loss: 1.328049898147583\n",
            "epoch: 80, loss: 1.280423879623413\n",
            "epoch: 90, loss: 1.2667850255966187\n",
            "epoch: 100, loss: 1.2613884210586548\n",
            "epoch: 110, loss: 1.2580046653747559\n",
            "epoch: 120, loss: 1.255129337310791\n",
            "epoch: 130, loss: 1.2523959875106812\n",
            "epoch: 140, loss: 1.249718189239502\n",
            "epoch: 150, loss: 1.2470738887786865\n",
            "epoch: 160, loss: 1.2444573640823364\n",
            "epoch: 170, loss: 1.2418670654296875\n",
            "epoch: 180, loss: 1.2393015623092651\n",
            "epoch: 190, loss: 1.2367624044418335\n",
            "epoch: 200, loss: 1.2342474460601807\n",
            "epoch: 210, loss: 1.2317582368850708\n",
            "epoch: 220, loss: 1.2292927503585815\n",
            "epoch: 230, loss: 1.2268524169921875\n",
            "epoch: 240, loss: 1.224436640739441\n",
            "epoch: 250, loss: 1.222043514251709\n",
            "epoch: 260, loss: 1.219675064086914\n",
            "epoch: 270, loss: 1.2173289060592651\n",
            "epoch: 280, loss: 1.2150070667266846\n",
            "epoch: 290, loss: 1.2127076387405396\n",
            "epoch: 300, loss: 1.2104305028915405\n",
            "epoch: 310, loss: 1.208176612854004\n",
            "epoch: 320, loss: 1.2059447765350342\n",
            "epoch: 330, loss: 1.203734040260315\n",
            "epoch: 340, loss: 1.201546549797058\n",
            "epoch: 350, loss: 1.199379563331604\n",
            "epoch: 360, loss: 1.1972352266311646\n",
            "epoch: 370, loss: 1.1951113939285278\n",
            "epoch: 380, loss: 1.1930078268051147\n",
            "epoch: 390, loss: 1.1909259557724\n",
            "epoch: 400, loss: 1.1888651847839355\n",
            "epoch: 410, loss: 1.1868232488632202\n",
            "epoch: 420, loss: 1.1848024129867554\n",
            "epoch: 430, loss: 1.182801365852356\n",
            "epoch: 440, loss: 1.180820107460022\n",
            "epoch: 450, loss: 1.1788581609725952\n",
            "epoch: 460, loss: 1.1769163608551025\n",
            "epoch: 470, loss: 1.1749935150146484\n",
            "epoch: 480, loss: 1.1730895042419434\n",
            "epoch: 490, loss: 1.1712037324905396\n"
          ],
          "name": "stdout"
        }
      ]
    },
    {
      "cell_type": "code",
      "metadata": {
        "colab": {
          "base_uri": "https://localhost:8080/",
          "height": 282
        },
        "id": "JOVaLlqacMVC",
        "outputId": "26831f3b-5f1c-441d-bf7a-b4ffa09b477b"
      },
      "source": [
        "plt.plot(losses)"
      ],
      "execution_count": 45,
      "outputs": [
        {
          "output_type": "execute_result",
          "data": {
            "text/plain": [
              "[<matplotlib.lines.Line2D at 0x7f2b66ee7358>]"
            ]
          },
          "metadata": {
            "tags": []
          },
          "execution_count": 45
        },
        {
          "output_type": "display_data",
          "data": {
            "image/png": "[encoded data removed]",
            "text/plain": [
              "<Figure size 432x288 with 1 Axes>"
            ]
          },
          "metadata": {
            "tags": []
          }
        }
      ]
    },
    {
      "cell_type": "code",
      "metadata": {
        "colab": {
          "base_uri": "https://localhost:8080/",
          "height": 282
        },
        "id": "X4QN6WBkcSme",
        "outputId": "453e79cb-f37f-46ae-8cac-a38d730e7012"
      },
      "source": [
        "x_test = torch.linspace(0, 10, 100).view(100, 1)\n",
        "y_test = model(x_test)\n",
        "plt.plot(x_test, y_test.detach(), label=\"prediction\")\n",
        "plt.scatter(x, y, label=\"data\")\n",
        "plt.legend()"
      ],
      "execution_count": 46,
      "outputs": [
        {
          "output_type": "execute_result",
          "data": {
            "text/plain": [
              "<matplotlib.legend.Legend at 0x7f2b66ecde48>"
            ]
          },
          "metadata": {
            "tags": []
          },
          "execution_count": 46
        },
        {
          "output_type": "display_data",
          "data": {
            "image/png": "[encoded data removed]",
            "text/plain": [
              "<Figure size 432x288 with 1 Axes>"
            ]
          },
          "metadata": {
            "tags": []
          }
        }
      ]
    },
    {
      "cell_type": "code",
      "metadata": {
        "id": "f6R0R3RvrjDw"
      },
      "source": [
        ""
      ],
      "execution_count": 46,
      "outputs": []
    }
  ]
}