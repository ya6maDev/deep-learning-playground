{
  "nbformat": 4,
  "nbformat_minor": 0,
  "metadata": {
    "colab": {
      "name": "線形回帰.ipynb",
      "provenance": [],
      "collapsed_sections": []
    },
    "kernelspec": {
      "display_name": "Python 3",
      "language": "python",
      "name": "python3"
    },
    "language_info": {
      "codemirror_mode": {
        "name": "ipython",
        "version": 3
      },
      "file_extension": ".py",
      "mimetype": "text/x-python",
      "name": "python",
      "nbconvert_exporter": "python",
      "pygments_lexer": "ipython3",
      "version": "3.5.5"
    }
  },
  "cells": [
    {
      "cell_type": "code",
      "metadata": {
        "id": "WC6X7h32HxS2"
      },
      "source": [
        "import torch\n",
        "import torch.nn as nn\n",
        "import torch.optim as optim\n",
        "import matplotlib.pyplot as plt\n",
        "import numpy as np\n",
        "%matplotlib inline\n",
        "plt.style.use(\"ggplot\")"
      ],
      "execution_count": 1,
      "outputs": []
    },
    {
      "cell_type": "code",
      "metadata": {
        "colab": {
          "base_uri": "https://localhost:8080/"
        },
        "id": "-zAGvUTFZG5Q",
        "outputId": "08294c5a-64d5-4635-ed63-ffb48e25cf4d"
      },
      "source": [
        "# 乱数を使用した時に、毎回同じ結果を得るために指定\n",
        "torch.manual_seed(123)"
      ],
      "execution_count": 2,
      "outputs": [
        {
          "output_type": "execute_result",
          "data": {
            "text/plain": [
              "<torch._C.Generator at 0x7f46533cab58>"
            ]
          },
          "metadata": {
            "tags": []
          },
          "execution_count": 2
        }
      ]
    },
    {
      "cell_type": "code",
      "metadata": {
        "id": "S7e1ELq0ZSjO"
      },
      "source": [
        "a = 5\n",
        "b = 2\n",
        "# 0〜10の間のデータを100個作成\n",
        "x = torch.linspace(0, 5, 100)"
      ],
      "execution_count": 3,
      "outputs": []
    },
    {
      "cell_type": "code",
      "metadata": {
        "colab": {
          "base_uri": "https://localhost:8080/"
        },
        "id": "LKavOJJxpaRh",
        "outputId": "a83ea5c6-d107-4389-a787-218848d5fcdd"
      },
      "source": [
        "x"
      ],
      "execution_count": 4,
      "outputs": [
        {
          "output_type": "execute_result",
          "data": {
            "text/plain": [
              "tensor([0.0000, 0.0505, 0.1010, 0.1515, 0.2020, 0.2525, 0.3030, 0.3535, 0.4040,\n",
              "        0.4545, 0.5051, 0.5556, 0.6061, 0.6566, 0.7071, 0.7576, 0.8081, 0.8586,\n",
              "        0.9091, 0.9596, 1.0101, 1.0606, 1.1111, 1.1616, 1.2121, 1.2626, 1.3131,\n",
              "        1.3636, 1.4141, 1.4646, 1.5152, 1.5657, 1.6162, 1.6667, 1.7172, 1.7677,\n",
              "        1.8182, 1.8687, 1.9192, 1.9697, 2.0202, 2.0707, 2.1212, 2.1717, 2.2222,\n",
              "        2.2727, 2.3232, 2.3737, 2.4242, 2.4747, 2.5253, 2.5758, 2.6263, 2.6768,\n",
              "        2.7273, 2.7778, 2.8283, 2.8788, 2.9293, 2.9798, 3.0303, 3.0808, 3.1313,\n",
              "        3.1818, 3.2323, 3.2828, 3.3333, 3.3838, 3.4343, 3.4848, 3.5354, 3.5859,\n",
              "        3.6364, 3.6869, 3.7374, 3.7879, 3.8384, 3.8889, 3.9394, 3.9899, 4.0404,\n",
              "        4.0909, 4.1414, 4.1919, 4.2424, 4.2929, 4.3434, 4.3939, 4.4444, 4.4949,\n",
              "        4.5455, 4.5960, 4.6465, 4.6970, 4.7475, 4.7980, 4.8485, 4.8990, 4.9495,\n",
              "        5.0000])"
            ]
          },
          "metadata": {
            "tags": []
          },
          "execution_count": 4
        }
      ]
    },
    {
      "cell_type": "code",
      "metadata": {
        "id": "B81HERBrqFR5"
      },
      "source": [
        "# view：サイズ数を調整する。以下は元々1個の配列に100個データが入っていたが、100個の配列に1個のデータが入るように変形している。\n",
        "# 第一引数はバッチの次元を指定する。\n",
        "x = x.view(100, 1)"
      ],
      "execution_count": 5,
      "outputs": []
    },
    {
      "cell_type": "code",
      "metadata": {
        "colab": {
          "base_uri": "https://localhost:8080/"
        },
        "id": "but9yt7vqMDQ",
        "outputId": "3950940b-3b13-44f1-9406-b32814f82719"
      },
      "source": [
        "x"
      ],
      "execution_count": 6,
      "outputs": [
        {
          "output_type": "execute_result",
          "data": {
            "text/plain": [
              "tensor([[0.0000],\n",
              "        [0.0505],\n",
              "        [0.1010],\n",
              "        [0.1515],\n",
              "        [0.2020],\n",
              "        [0.2525],\n",
              "        [0.3030],\n",
              "        [0.3535],\n",
              "        [0.4040],\n",
              "        [0.4545],\n",
              "        [0.5051],\n",
              "        [0.5556],\n",
              "        [0.6061],\n",
              "        [0.6566],\n",
              "        [0.7071],\n",
              "        [0.7576],\n",
              "        [0.8081],\n",
              "        [0.8586],\n",
              "        [0.9091],\n",
              "        [0.9596],\n",
              "        [1.0101],\n",
              "        [1.0606],\n",
              "        [1.1111],\n",
              "        [1.1616],\n",
              "        [1.2121],\n",
              "        [1.2626],\n",
              "        [1.3131],\n",
              "        [1.3636],\n",
              "        [1.4141],\n",
              "        [1.4646],\n",
              "        [1.5152],\n",
              "        [1.5657],\n",
              "        [1.6162],\n",
              "        [1.6667],\n",
              "        [1.7172],\n",
              "        [1.7677],\n",
              "        [1.8182],\n",
              "        [1.8687],\n",
              "        [1.9192],\n",
              "        [1.9697],\n",
              "        [2.0202],\n",
              "        [2.0707],\n",
              "        [2.1212],\n",
              "        [2.1717],\n",
              "        [2.2222],\n",
              "        [2.2727],\n",
              "        [2.3232],\n",
              "        [2.3737],\n",
              "        [2.4242],\n",
              "        [2.4747],\n",
              "        [2.5253],\n",
              "        [2.5758],\n",
              "        [2.6263],\n",
              "        [2.6768],\n",
              "        [2.7273],\n",
              "        [2.7778],\n",
              "        [2.8283],\n",
              "        [2.8788],\n",
              "        [2.9293],\n",
              "        [2.9798],\n",
              "        [3.0303],\n",
              "        [3.0808],\n",
              "        [3.1313],\n",
              "        [3.1818],\n",
              "        [3.2323],\n",
              "        [3.2828],\n",
              "        [3.3333],\n",
              "        [3.3838],\n",
              "        [3.4343],\n",
              "        [3.4848],\n",
              "        [3.5354],\n",
              "        [3.5859],\n",
              "        [3.6364],\n",
              "        [3.6869],\n",
              "        [3.7374],\n",
              "        [3.7879],\n",
              "        [3.8384],\n",
              "        [3.8889],\n",
              "        [3.9394],\n",
              "        [3.9899],\n",
              "        [4.0404],\n",
              "        [4.0909],\n",
              "        [4.1414],\n",
              "        [4.1919],\n",
              "        [4.2424],\n",
              "        [4.2929],\n",
              "        [4.3434],\n",
              "        [4.3939],\n",
              "        [4.4444],\n",
              "        [4.4949],\n",
              "        [4.5455],\n",
              "        [4.5960],\n",
              "        [4.6465],\n",
              "        [4.6970],\n",
              "        [4.7475],\n",
              "        [4.7980],\n",
              "        [4.8485],\n",
              "        [4.8990],\n",
              "        [4.9495],\n",
              "        [5.0000]])"
            ]
          },
          "metadata": {
            "tags": []
          },
          "execution_count": 6
        }
      ]
    },
    {
      "cell_type": "code",
      "metadata": {
        "id": "yyHizTshZbEE"
      },
      "source": [
        "eps = torch.randn(100, 1)\n",
        "y = a * x + b + eps"
      ],
      "execution_count": 7,
      "outputs": []
    },
    {
      "cell_type": "code",
      "metadata": {
        "colab": {
          "base_uri": "https://localhost:8080/",
          "height": 282
        },
        "id": "zvyFWvo_ZigO",
        "outputId": "b5021351-7c40-4051-c9f0-d2c5efa08690"
      },
      "source": [
        "# 散布図を描画する。第1引数にx軸、第2引数にy軸を指定する。\n",
        "plt.scatter(x, y)"
      ],
      "execution_count": 8,
      "outputs": [
        {
          "output_type": "execute_result",
          "data": {
            "text/plain": [
              "<matplotlib.collections.PathCollection at 0x7f46053198d0>"
            ]
          },
          "metadata": {
            "tags": []
          },
          "execution_count": 8
        },
        {
          "output_type": "display_data",
          "data": {
            "image/png": "[encoded data removed]",
            "text/plain": [
              "<Figure size 432x288 with 1 Axes>"
            ]
          },
          "metadata": {
            "tags": [],
            "needs_background": "light"
          }
        }
      ]
    },
    {
      "cell_type": "code",
      "metadata": {
        "id": "semm5rovZu3U"
      },
      "source": [
        "class LR(nn.Module):\n",
        "    def __init__(self):\n",
        "        super().__init__()\n",
        "        # in_features：入力値の数、out_features：出力値の数\n",
        "        self.linear = nn.Linear(in_features=1, out_features=1)\n",
        "    # 順伝播、forwardを定義しておくと、学習中に自動的に呼ばれる\n",
        "    def forward(self, x):\n",
        "        output = self.linear(x)\n",
        "        return output"
      ],
      "execution_count": 9,
      "outputs": []
    },
    {
      "cell_type": "code",
      "metadata": {
        "id": "HzaEE9WsaTLm"
      },
      "source": [
        "model = LR()"
      ],
      "execution_count": 10,
      "outputs": []
    },
    {
      "cell_type": "code",
      "metadata": {
        "id": "-rSMcH8XaVvG"
      },
      "source": [
        "x_test = torch.tensor([[1.0], [2.0]])"
      ],
      "execution_count": 11,
      "outputs": []
    },
    {
      "cell_type": "code",
      "metadata": {
        "colab": {
          "base_uri": "https://localhost:8080/"
        },
        "id": "R-lzM3h4wSq6",
        "outputId": "026da6d9-88a3-44ed-d118-7a88594264b7"
      },
      "source": [
        "x_test"
      ],
      "execution_count": 12,
      "outputs": [
        {
          "output_type": "execute_result",
          "data": {
            "text/plain": [
              "tensor([[1.],\n",
              "        [2.]])"
            ]
          },
          "metadata": {
            "tags": []
          },
          "execution_count": 12
        }
      ]
    },
    {
      "cell_type": "code",
      "metadata": {
        "colab": {
          "base_uri": "https://localhost:8080/"
        },
        "id": "YU6J5g3Hadju",
        "outputId": "c6029474-669f-438e-8f74-300693d2337b"
      },
      "source": [
        "model(x_test)"
      ],
      "execution_count": 13,
      "outputs": [
        {
          "output_type": "execute_result",
          "data": {
            "text/plain": [
              "tensor([[-0.6505],\n",
              "        [-1.4166]], grad_fn=<AddmmBackward>)"
            ]
          },
          "metadata": {
            "tags": []
          },
          "execution_count": 13
        }
      ]
    },
    {
      "cell_type": "code",
      "metadata": {
        "id": "wpZIcbzqafQl"
      },
      "source": [
        "x2 = torch.linspace(0, 3, 100).view(100, 1)"
      ],
      "execution_count": 14,
      "outputs": []
    },
    {
      "cell_type": "code",
      "metadata": {
        "colab": {
          "base_uri": "https://localhost:8080/"
        },
        "id": "_Roi8sRcwcC1",
        "outputId": "77196405-582d-4778-996e-a13c83437068"
      },
      "source": [
        "x2"
      ],
      "execution_count": 15,
      "outputs": [
        {
          "output_type": "execute_result",
          "data": {
            "text/plain": [
              "tensor([[0.0000],\n",
              "        [0.0303],\n",
              "        [0.0606],\n",
              "        [0.0909],\n",
              "        [0.1212],\n",
              "        [0.1515],\n",
              "        [0.1818],\n",
              "        [0.2121],\n",
              "        [0.2424],\n",
              "        [0.2727],\n",
              "        [0.3030],\n",
              "        [0.3333],\n",
              "        [0.3636],\n",
              "        [0.3939],\n",
              "        [0.4242],\n",
              "        [0.4545],\n",
              "        [0.4848],\n",
              "        [0.5152],\n",
              "        [0.5455],\n",
              "        [0.5758],\n",
              "        [0.6061],\n",
              "        [0.6364],\n",
              "        [0.6667],\n",
              "        [0.6970],\n",
              "        [0.7273],\n",
              "        [0.7576],\n",
              "        [0.7879],\n",
              "        [0.8182],\n",
              "        [0.8485],\n",
              "        [0.8788],\n",
              "        [0.9091],\n",
              "        [0.9394],\n",
              "        [0.9697],\n",
              "        [1.0000],\n",
              "        [1.0303],\n",
              "        [1.0606],\n",
              "        [1.0909],\n",
              "        [1.1212],\n",
              "        [1.1515],\n",
              "        [1.1818],\n",
              "        [1.2121],\n",
              "        [1.2424],\n",
              "        [1.2727],\n",
              "        [1.3030],\n",
              "        [1.3333],\n",
              "        [1.3636],\n",
              "        [1.3939],\n",
              "        [1.4242],\n",
              "        [1.4545],\n",
              "        [1.4848],\n",
              "        [1.5152],\n",
              "        [1.5455],\n",
              "        [1.5758],\n",
              "        [1.6061],\n",
              "        [1.6364],\n",
              "        [1.6667],\n",
              "        [1.6970],\n",
              "        [1.7273],\n",
              "        [1.7576],\n",
              "        [1.7879],\n",
              "        [1.8182],\n",
              "        [1.8485],\n",
              "        [1.8788],\n",
              "        [1.9091],\n",
              "        [1.9394],\n",
              "        [1.9697],\n",
              "        [2.0000],\n",
              "        [2.0303],\n",
              "        [2.0606],\n",
              "        [2.0909],\n",
              "        [2.1212],\n",
              "        [2.1515],\n",
              "        [2.1818],\n",
              "        [2.2121],\n",
              "        [2.2424],\n",
              "        [2.2727],\n",
              "        [2.3030],\n",
              "        [2.3333],\n",
              "        [2.3636],\n",
              "        [2.3939],\n",
              "        [2.4242],\n",
              "        [2.4545],\n",
              "        [2.4848],\n",
              "        [2.5152],\n",
              "        [2.5455],\n",
              "        [2.5758],\n",
              "        [2.6061],\n",
              "        [2.6364],\n",
              "        [2.6667],\n",
              "        [2.6970],\n",
              "        [2.7273],\n",
              "        [2.7576],\n",
              "        [2.7879],\n",
              "        [2.8182],\n",
              "        [2.8485],\n",
              "        [2.8788],\n",
              "        [2.9091],\n",
              "        [2.9394],\n",
              "        [2.9697],\n",
              "        [3.0000]])"
            ]
          },
          "metadata": {
            "tags": []
          },
          "execution_count": 15
        }
      ]
    },
    {
      "cell_type": "code",
      "metadata": {
        "colab": {
          "base_uri": "https://localhost:8080/"
        },
        "id": "r0zxqBhiancV",
        "outputId": "b77efec0-6d91-4940-8ac5-2dfb4261f020"
      },
      "source": [
        "x2.size()"
      ],
      "execution_count": 16,
      "outputs": [
        {
          "output_type": "execute_result",
          "data": {
            "text/plain": [
              "torch.Size([100, 1])"
            ]
          },
          "metadata": {
            "tags": []
          },
          "execution_count": 16
        }
      ]
    },
    {
      "cell_type": "code",
      "metadata": {
        "id": "a6RxYoC9aoc-"
      },
      "source": [
        "y_pred = model(x2)"
      ],
      "execution_count": 17,
      "outputs": []
    },
    {
      "cell_type": "code",
      "metadata": {
        "colab": {
          "base_uri": "https://localhost:8080/"
        },
        "id": "A9AfuGbrxBkw",
        "outputId": "cf270800-4f7f-4b18-8473-697e507f5a9f"
      },
      "source": [
        "y_pred"
      ],
      "execution_count": 18,
      "outputs": [
        {
          "output_type": "execute_result",
          "data": {
            "text/plain": [
              "tensor([[ 1.1556e-01],\n",
              "        [ 9.2342e-02],\n",
              "        [ 6.9127e-02],\n",
              "        [ 4.5912e-02],\n",
              "        [ 2.2697e-02],\n",
              "        [-5.1795e-04],\n",
              "        [-2.3733e-02],\n",
              "        [-4.6948e-02],\n",
              "        [-7.0163e-02],\n",
              "        [-9.3378e-02],\n",
              "        [-1.1659e-01],\n",
              "        [-1.3981e-01],\n",
              "        [-1.6302e-01],\n",
              "        [-1.8624e-01],\n",
              "        [-2.0945e-01],\n",
              "        [-2.3267e-01],\n",
              "        [-2.5588e-01],\n",
              "        [-2.7910e-01],\n",
              "        [-3.0231e-01],\n",
              "        [-3.2553e-01],\n",
              "        [-3.4874e-01],\n",
              "        [-3.7196e-01],\n",
              "        [-3.9517e-01],\n",
              "        [-4.1839e-01],\n",
              "        [-4.4160e-01],\n",
              "        [-4.6482e-01],\n",
              "        [-4.8803e-01],\n",
              "        [-5.1125e-01],\n",
              "        [-5.3446e-01],\n",
              "        [-5.5768e-01],\n",
              "        [-5.8089e-01],\n",
              "        [-6.0411e-01],\n",
              "        [-6.2732e-01],\n",
              "        [-6.5054e-01],\n",
              "        [-6.7375e-01],\n",
              "        [-6.9697e-01],\n",
              "        [-7.2018e-01],\n",
              "        [-7.4340e-01],\n",
              "        [-7.6661e-01],\n",
              "        [-7.8983e-01],\n",
              "        [-8.1304e-01],\n",
              "        [-8.3626e-01],\n",
              "        [-8.5947e-01],\n",
              "        [-8.8269e-01],\n",
              "        [-9.0591e-01],\n",
              "        [-9.2912e-01],\n",
              "        [-9.5234e-01],\n",
              "        [-9.7555e-01],\n",
              "        [-9.9877e-01],\n",
              "        [-1.0220e+00],\n",
              "        [-1.0452e+00],\n",
              "        [-1.0684e+00],\n",
              "        [-1.0916e+00],\n",
              "        [-1.1148e+00],\n",
              "        [-1.1381e+00],\n",
              "        [-1.1613e+00],\n",
              "        [-1.1845e+00],\n",
              "        [-1.2077e+00],\n",
              "        [-1.2309e+00],\n",
              "        [-1.2541e+00],\n",
              "        [-1.2773e+00],\n",
              "        [-1.3006e+00],\n",
              "        [-1.3238e+00],\n",
              "        [-1.3470e+00],\n",
              "        [-1.3702e+00],\n",
              "        [-1.3934e+00],\n",
              "        [-1.4166e+00],\n",
              "        [-1.4399e+00],\n",
              "        [-1.4631e+00],\n",
              "        [-1.4863e+00],\n",
              "        [-1.5095e+00],\n",
              "        [-1.5327e+00],\n",
              "        [-1.5559e+00],\n",
              "        [-1.5791e+00],\n",
              "        [-1.6024e+00],\n",
              "        [-1.6256e+00],\n",
              "        [-1.6488e+00],\n",
              "        [-1.6720e+00],\n",
              "        [-1.6952e+00],\n",
              "        [-1.7184e+00],\n",
              "        [-1.7416e+00],\n",
              "        [-1.7649e+00],\n",
              "        [-1.7881e+00],\n",
              "        [-1.8113e+00],\n",
              "        [-1.8345e+00],\n",
              "        [-1.8577e+00],\n",
              "        [-1.8809e+00],\n",
              "        [-1.9042e+00],\n",
              "        [-1.9274e+00],\n",
              "        [-1.9506e+00],\n",
              "        [-1.9738e+00],\n",
              "        [-1.9970e+00],\n",
              "        [-2.0202e+00],\n",
              "        [-2.0434e+00],\n",
              "        [-2.0667e+00],\n",
              "        [-2.0899e+00],\n",
              "        [-2.1131e+00],\n",
              "        [-2.1363e+00],\n",
              "        [-2.1595e+00],\n",
              "        [-2.1827e+00]], grad_fn=<AddmmBackward>)"
            ]
          },
          "metadata": {
            "tags": []
          },
          "execution_count": 18
        }
      ]
    },
    {
      "cell_type": "code",
      "metadata": {
        "colab": {
          "base_uri": "https://localhost:8080/",
          "height": 282
        },
        "id": "-TvRd7L7arjk",
        "outputId": "ce7b129e-b8ac-4d9c-a19f-1051eadc9b66"
      },
      "source": [
        "# 順伝播をしているので、勾配計算処理を外す => detach()\n",
        "# plot：一本の線を描画\n",
        "plt.plot(x2, y_pred.detach(), label=\"prediction\")\n",
        "plt.scatter(x, y, label=\"data\")\n",
        "plt.legend()"
      ],
      "execution_count": 19,
      "outputs": [
        {
          "output_type": "execute_result",
          "data": {
            "text/plain": [
              "<matplotlib.legend.Legend at 0x7f4604dfc828>"
            ]
          },
          "metadata": {
            "tags": []
          },
          "execution_count": 19
        },
        {
          "output_type": "display_data",
          "data": {
            "image/png": "[encoded data removed]",
            "text/plain": [
              "<Figure size 432x288 with 1 Axes>"
            ]
          },
          "metadata": {
            "tags": [],
            "needs_background": "light"
          }
        }
      ]
    },
    {
      "cell_type": "code",
      "metadata": {
        "id": "cnS0c8d6a_B-"
      },
      "source": [
        "# 損失関数\n",
        "criterion = nn.MSELoss()\n",
        "# 最適化関数\n",
        "# 第1引数：model.parameters() => 重みとバイアスの情報が入っている。これを更新したい。\n",
        "# 第2引数：学習率\n",
        "optimizer = optim.SGD(model.parameters(), lr=0.001)"
      ],
      "execution_count": 20,
      "outputs": []
    },
    {
      "cell_type": "code",
      "metadata": {
        "colab": {
          "base_uri": "https://localhost:8080/"
        },
        "id": "olnBRKXHbTx9",
        "outputId": "a8d3aa23-51eb-43b3-a76b-6f93c4f6ed92"
      },
      "source": [
        "losses = []\n",
        "num_epoch = 500\n",
        "for epoch in range(num_epoch):\n",
        "    # ミニバッチのloopがないため、バッチ学習\n",
        "    \n",
        "    # 勾配の初期化を行う\n",
        "    optimizer.zero_grad()\n",
        "    # 予測値の計算\n",
        "    y_pred = model(x)\n",
        "    # 損失の計算：予想値と正解値を与える\n",
        "    loss = criterion(y_pred, y)\n",
        "    # 損失を誤差逆伝播する\n",
        "    loss.backward()\n",
        "    # 重みとバイアスの更新\n",
        "    optimizer.step()\n",
        "    if epoch % 10 == 0:\n",
        "        print(\"epoch: {}, loss: {}\".format(epoch, loss.item()))\n",
        "        losses.append(loss.item())"
      ],
      "execution_count": 21,
      "outputs": [
        {
          "output_type": "stream",
          "text": [
            "epoch: 0, loss: 334.3143005371094\n",
            "epoch: 10, loss: 231.43626403808594\n",
            "epoch: 20, loss: 160.3110809326172\n",
            "epoch: 30, loss: 111.13833618164062\n",
            "epoch: 40, loss: 77.14257049560547\n",
            "epoch: 50, loss: 53.63942337036133\n",
            "epoch: 60, loss: 37.39039611816406\n",
            "epoch: 70, loss: 26.156522750854492\n",
            "epoch: 80, loss: 18.38991355895996\n",
            "epoch: 90, loss: 13.020407676696777\n",
            "epoch: 100, loss: 9.308155059814453\n",
            "epoch: 110, loss: 6.741643905639648\n",
            "epoch: 120, loss: 4.967243194580078\n",
            "epoch: 130, loss: 3.740471124649048\n",
            "epoch: 140, loss: 2.8923027515411377\n",
            "epoch: 150, loss: 2.3058886528015137\n",
            "epoch: 160, loss: 1.900444746017456\n",
            "epoch: 170, loss: 1.6201138496398926\n",
            "epoch: 180, loss: 1.426276683807373\n",
            "epoch: 190, loss: 1.2922366857528687\n",
            "epoch: 200, loss: 1.1995415687561035\n",
            "epoch: 210, loss: 1.1354293823242188\n",
            "epoch: 220, loss: 1.0910781621932983\n",
            "epoch: 230, loss: 1.060388445854187\n",
            "epoch: 240, loss: 1.0391433238983154\n",
            "epoch: 250, loss: 1.0244296789169312\n",
            "epoch: 260, loss: 1.0142309665679932\n",
            "epoch: 270, loss: 1.0071545839309692\n",
            "epoch: 280, loss: 1.0022361278533936\n",
            "epoch: 290, loss: 0.9988098740577698\n",
            "epoch: 300, loss: 0.9964160323143005\n",
            "epoch: 310, loss: 0.9947360754013062\n",
            "epoch: 320, loss: 0.9935498237609863\n",
            "epoch: 330, loss: 0.9927054047584534\n",
            "epoch: 340, loss: 0.9920972585678101\n",
            "epoch: 350, loss: 0.9916523694992065\n",
            "epoch: 360, loss: 0.9913210868835449\n",
            "epoch: 370, loss: 0.9910682439804077\n",
            "epoch: 380, loss: 0.9908702373504639\n",
            "epoch: 390, loss: 0.9907100200653076\n",
            "epoch: 400, loss: 0.9905760884284973\n",
            "epoch: 410, loss: 0.9904608130455017\n",
            "epoch: 420, loss: 0.9903585314750671\n",
            "epoch: 430, loss: 0.9902653694152832\n",
            "epoch: 440, loss: 0.9901788234710693\n",
            "epoch: 450, loss: 0.9900968670845032\n",
            "epoch: 460, loss: 0.9900186657905579\n",
            "epoch: 470, loss: 0.989943265914917\n",
            "epoch: 480, loss: 0.9898690581321716\n",
            "epoch: 490, loss: 0.9897969961166382\n"
          ],
          "name": "stdout"
        }
      ]
    },
    {
      "cell_type": "code",
      "metadata": {
        "colab": {
          "base_uri": "https://localhost:8080/",
          "height": 286
        },
        "id": "JOVaLlqacMVC",
        "outputId": "028db131-8d3b-44f0-d50c-3c9bbcda9a8d"
      },
      "source": [
        "plt.plot(losses)"
      ],
      "execution_count": 22,
      "outputs": [
        {
          "output_type": "execute_result",
          "data": {
            "text/plain": [
              "[<matplotlib.lines.Line2D at 0x7f4604d8e5f8>]"
            ]
          },
          "metadata": {
            "tags": []
          },
          "execution_count": 22
        },
        {
          "output_type": "display_data",
          "data": {
            "image/png": "[encoded data removed]",
            "text/plain": [
              "<Figure size 432x288 with 1 Axes>"
            ]
          },
          "metadata": {
            "tags": [],
            "needs_background": "light"
          }
        }
      ]
    },
    {
      "cell_type": "code",
      "metadata": {
        "colab": {
          "base_uri": "https://localhost:8080/",
          "height": 282
        },
        "id": "X4QN6WBkcSme",
        "outputId": "9f43e790-5df2-45d0-9e6d-98bf7a807e59"
      },
      "source": [
        "x_test = torch.linspace(0, 5, 100).view(100, 1)\n",
        "y_test = model(x_test)\n",
        "plt.plot(x_test, y_test.detach(), label=\"prediction\")\n",
        "plt.scatter(x, y, label=\"data\")\n",
        "plt.legend()"
      ],
      "execution_count": 23,
      "outputs": [
        {
          "output_type": "execute_result",
          "data": {
            "text/plain": [
              "<matplotlib.legend.Legend at 0x7f46044fac50>"
            ]
          },
          "metadata": {
            "tags": []
          },
          "execution_count": 23
        },
        {
          "output_type": "display_data",
          "data": {
            "image/png": "[encoded data removed]",
            "text/plain": [
              "<Figure size 432x288 with 1 Axes>"
            ]
          },
          "metadata": {
            "tags": [],
            "needs_background": "light"
          }
        }
      ]
    },
    {
      "cell_type": "code",
      "metadata": {
        "id": "f6R0R3RvrjDw"
      },
      "source": [
        ""
      ],
      "execution_count": null,
      "outputs": []
    }
  ]
}